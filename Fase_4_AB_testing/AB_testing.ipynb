{
 "cells": [
  {
   "cell_type": "code",
   "execution_count": 80,
   "metadata": {},
   "outputs": [],
   "source": [
    "##Importamos librerias \n",
    "\n",
    "import pandas as pd\n",
    "import numpy as np\n",
    "from scipy import stats\n",
    "from scipy.stats import shapiro, levene\n",
    "from scipy.stats import ttest_ind\n",
    "from scipy.stats import mannwhitneyu\n",
    "from scipy.stats import chi2_contingency\n",
    "import seaborn as sns\n",
    "import scipy.stats as stats\n",
    "import matplotlib.pyplot as plt\n",
    "pd.set_option(\"display.max_columns\", None)"
   ]
  },
  {
   "cell_type": "code",
   "execution_count": 81,
   "metadata": {},
   "outputs": [
    {
     "data": {
      "text/html": [
       "<div>\n",
       "<style scoped>\n",
       "    .dataframe tbody tr th:only-of-type {\n",
       "        vertical-align: middle;\n",
       "    }\n",
       "\n",
       "    .dataframe tbody tr th {\n",
       "        vertical-align: top;\n",
       "    }\n",
       "\n",
       "    .dataframe thead th {\n",
       "        text-align: right;\n",
       "    }\n",
       "</style>\n",
       "<table border=\"1\" class=\"dataframe\">\n",
       "  <thead>\n",
       "    <tr style=\"text-align: right;\">\n",
       "      <th></th>\n",
       "      <th>attrition</th>\n",
       "      <th>businesstravel</th>\n",
       "      <th>department</th>\n",
       "      <th>educationfield</th>\n",
       "      <th>gender</th>\n",
       "      <th>jobrole</th>\n",
       "      <th>overtime</th>\n",
       "      <th>remotework</th>\n",
       "      <th>age</th>\n",
       "      <th>distancefromhome</th>\n",
       "      <th>education</th>\n",
       "      <th>employeenumber</th>\n",
       "      <th>environmentsatisfaction</th>\n",
       "      <th>jobinvolvement</th>\n",
       "      <th>joblevel</th>\n",
       "      <th>jobsatisfaction</th>\n",
       "      <th>monthlyincome</th>\n",
       "      <th>monthlyrate</th>\n",
       "      <th>numcompaniesworked</th>\n",
       "      <th>percentsalaryhike</th>\n",
       "      <th>performancerating</th>\n",
       "      <th>relationshipsatisfaction</th>\n",
       "      <th>stockoptionlevel</th>\n",
       "      <th>trainingtimeslastyear</th>\n",
       "      <th>worklifebalance</th>\n",
       "      <th>yearsatcompany</th>\n",
       "      <th>yearssincelastpromotion</th>\n",
       "      <th>yearswithcurrmanager</th>\n",
       "      <th>salary</th>\n",
       "    </tr>\n",
       "  </thead>\n",
       "  <tbody>\n",
       "    <tr>\n",
       "      <th>0</th>\n",
       "      <td>no</td>\n",
       "      <td>non travel</td>\n",
       "      <td>unknown</td>\n",
       "      <td>unknown</td>\n",
       "      <td>M</td>\n",
       "      <td>research director</td>\n",
       "      <td>no</td>\n",
       "      <td>yes</td>\n",
       "      <td>51</td>\n",
       "      <td>6</td>\n",
       "      <td>3</td>\n",
       "      <td>1</td>\n",
       "      <td>1</td>\n",
       "      <td>3</td>\n",
       "      <td>5</td>\n",
       "      <td>3</td>\n",
       "      <td>16280.83</td>\n",
       "      <td>42330.17</td>\n",
       "      <td>7</td>\n",
       "      <td>13</td>\n",
       "      <td>3</td>\n",
       "      <td>3</td>\n",
       "      <td>0</td>\n",
       "      <td>5</td>\n",
       "      <td>3</td>\n",
       "      <td>20</td>\n",
       "      <td>15</td>\n",
       "      <td>15</td>\n",
       "      <td>195370.00</td>\n",
       "    </tr>\n",
       "    <tr>\n",
       "      <th>1</th>\n",
       "      <td>no</td>\n",
       "      <td>non travel</td>\n",
       "      <td>unknown</td>\n",
       "      <td>life sciences</td>\n",
       "      <td>M</td>\n",
       "      <td>manager</td>\n",
       "      <td>NaN</td>\n",
       "      <td>yes</td>\n",
       "      <td>52</td>\n",
       "      <td>1</td>\n",
       "      <td>4</td>\n",
       "      <td>2</td>\n",
       "      <td>1</td>\n",
       "      <td>2</td>\n",
       "      <td>5</td>\n",
       "      <td>3</td>\n",
       "      <td>16665.83</td>\n",
       "      <td>43331.17</td>\n",
       "      <td>0</td>\n",
       "      <td>14</td>\n",
       "      <td>3</td>\n",
       "      <td>1</td>\n",
       "      <td>1</td>\n",
       "      <td>5</td>\n",
       "      <td>3</td>\n",
       "      <td>33</td>\n",
       "      <td>11</td>\n",
       "      <td>9</td>\n",
       "      <td>199990.00</td>\n",
       "    </tr>\n",
       "    <tr>\n",
       "      <th>2</th>\n",
       "      <td>no</td>\n",
       "      <td>travel rarely</td>\n",
       "      <td>research &amp; development</td>\n",
       "      <td>technical degree</td>\n",
       "      <td>M</td>\n",
       "      <td>manager</td>\n",
       "      <td>no</td>\n",
       "      <td>yes</td>\n",
       "      <td>42</td>\n",
       "      <td>4</td>\n",
       "      <td>2</td>\n",
       "      <td>3</td>\n",
       "      <td>1</td>\n",
       "      <td>3</td>\n",
       "      <td>5</td>\n",
       "      <td>4</td>\n",
       "      <td>16026.67</td>\n",
       "      <td>41669.33</td>\n",
       "      <td>1</td>\n",
       "      <td>11</td>\n",
       "      <td>3</td>\n",
       "      <td>4</td>\n",
       "      <td>0</td>\n",
       "      <td>3</td>\n",
       "      <td>3</td>\n",
       "      <td>22</td>\n",
       "      <td>11</td>\n",
       "      <td>15</td>\n",
       "      <td>192320.00</td>\n",
       "    </tr>\n",
       "    <tr>\n",
       "      <th>3</th>\n",
       "      <td>no</td>\n",
       "      <td>travel rarely</td>\n",
       "      <td>unknown</td>\n",
       "      <td>medical</td>\n",
       "      <td>F</td>\n",
       "      <td>research director</td>\n",
       "      <td>NaN</td>\n",
       "      <td>no</td>\n",
       "      <td>47</td>\n",
       "      <td>2</td>\n",
       "      <td>4</td>\n",
       "      <td>4</td>\n",
       "      <td>1</td>\n",
       "      <td>3</td>\n",
       "      <td>4</td>\n",
       "      <td>3</td>\n",
       "      <td>14307.50</td>\n",
       "      <td>37199.50</td>\n",
       "      <td>3</td>\n",
       "      <td>19</td>\n",
       "      <td>3</td>\n",
       "      <td>2</td>\n",
       "      <td>2</td>\n",
       "      <td>2</td>\n",
       "      <td>3</td>\n",
       "      <td>20</td>\n",
       "      <td>5</td>\n",
       "      <td>6</td>\n",
       "      <td>171690.00</td>\n",
       "    </tr>\n",
       "    <tr>\n",
       "      <th>4</th>\n",
       "      <td>no</td>\n",
       "      <td>non travel</td>\n",
       "      <td>unknown</td>\n",
       "      <td>technical degree</td>\n",
       "      <td>F</td>\n",
       "      <td>sales executive</td>\n",
       "      <td>no</td>\n",
       "      <td>no</td>\n",
       "      <td>46</td>\n",
       "      <td>3</td>\n",
       "      <td>3</td>\n",
       "      <td>5</td>\n",
       "      <td>1</td>\n",
       "      <td>4</td>\n",
       "      <td>4</td>\n",
       "      <td>1</td>\n",
       "      <td>12783.92</td>\n",
       "      <td>33238.20</td>\n",
       "      <td>2</td>\n",
       "      <td>12</td>\n",
       "      <td>3</td>\n",
       "      <td>4</td>\n",
       "      <td>1</td>\n",
       "      <td>5</td>\n",
       "      <td>3</td>\n",
       "      <td>19</td>\n",
       "      <td>2</td>\n",
       "      <td>8</td>\n",
       "      <td>153407.04</td>\n",
       "    </tr>\n",
       "  </tbody>\n",
       "</table>\n",
       "</div>"
      ],
      "text/plain": [
       "  attrition businesstravel                department    educationfield gender  \\\n",
       "0        no     non travel                   unknown           unknown      M   \n",
       "1        no     non travel                   unknown     life sciences      M   \n",
       "2        no  travel rarely   research & development   technical degree      M   \n",
       "3        no  travel rarely                   unknown           medical      F   \n",
       "4        no     non travel                   unknown  technical degree      F   \n",
       "\n",
       "               jobrole overtime remotework  age  distancefromhome  education  \\\n",
       "0   research director        no        yes   51                 6          3   \n",
       "1             manager       NaN        yes   52                 1          4   \n",
       "2             manager        no        yes   42                 4          2   \n",
       "3   research director       NaN         no   47                 2          4   \n",
       "4     sales executive        no         no   46                 3          3   \n",
       "\n",
       "   employeenumber  environmentsatisfaction  jobinvolvement  joblevel  \\\n",
       "0               1                        1               3         5   \n",
       "1               2                        1               2         5   \n",
       "2               3                        1               3         5   \n",
       "3               4                        1               3         4   \n",
       "4               5                        1               4         4   \n",
       "\n",
       "   jobsatisfaction  monthlyincome  monthlyrate  numcompaniesworked  \\\n",
       "0                3       16280.83     42330.17                   7   \n",
       "1                3       16665.83     43331.17                   0   \n",
       "2                4       16026.67     41669.33                   1   \n",
       "3                3       14307.50     37199.50                   3   \n",
       "4                1       12783.92     33238.20                   2   \n",
       "\n",
       "   percentsalaryhike  performancerating  relationshipsatisfaction  \\\n",
       "0                 13                  3                         3   \n",
       "1                 14                  3                         1   \n",
       "2                 11                  3                         4   \n",
       "3                 19                  3                         2   \n",
       "4                 12                  3                         4   \n",
       "\n",
       "   stockoptionlevel  trainingtimeslastyear  worklifebalance  yearsatcompany  \\\n",
       "0                 0                      5                3              20   \n",
       "1                 1                      5                3              33   \n",
       "2                 0                      3                3              22   \n",
       "3                 2                      2                3              20   \n",
       "4                 1                      5                3              19   \n",
       "\n",
       "   yearssincelastpromotion  yearswithcurrmanager     salary  \n",
       "0                       15                    15  195370.00  \n",
       "1                       11                     9  199990.00  \n",
       "2                       11                    15  192320.00  \n",
       "3                        5                     6  171690.00  \n",
       "4                        2                     8  153407.04  "
      ]
     },
     "execution_count": 81,
     "metadata": {},
     "output_type": "execute_result"
    }
   ],
   "source": [
    "df = pd.read_csv(\"../Data/data_limpia_1.csv\", index_col=0)\n",
    "\n",
    "df.head()"
   ]
  },
  {
   "cell_type": "code",
   "execution_count": 82,
   "metadata": {},
   "outputs": [
    {
     "data": {
      "text/plain": [
       "(1614, 29)"
      ]
     },
     "execution_count": 82,
     "metadata": {},
     "output_type": "execute_result"
    }
   ],
   "source": [
    "df.shape\n"
   ]
  },
  {
   "cell_type": "markdown",
   "metadata": {},
   "source": [
    "## Funciones"
   ]
  },
  {
   "cell_type": "code",
   "execution_count": 83,
   "metadata": {},
   "outputs": [],
   "source": [
    "## Normalidad de los datos: \n",
    "def normalidad(dataframe, columna):\n",
    "    \"\"\"\n",
    "    Evalúa la normalidad de una columna de datos de un DataFrame utilizando la prueba de Shapiro-Wilk.\n",
    "\n",
    "    Parámetros:\n",
    "        dataframe (DataFrame): El DataFrame que contiene los datos.\n",
    "        columna (str): El nombre de la columna en el DataFrame que se va a evaluar para la normalidad.\n",
    "\n",
    "    Returns:\n",
    "        None: Imprime un mensaje indicando si los datos siguen o no una distribución normal.\n",
    "    \"\"\"\n",
    "\n",
    "    statistic, p_value = stats.shapiro(dataframe[columna])\n",
    "    if p_value > 0.05:\n",
    "        print(f\"Para la columna {columna} los datos siguen una distribución normal.\")\n",
    "    else:\n",
    "        print(f\"Para la columna {columna} los datos no siguen una distribución normal.\")"
   ]
  },
  {
   "cell_type": "code",
   "execution_count": 84,
   "metadata": {},
   "outputs": [],
   "source": [
    "## MW: \n",
    "\n",
    "def test_man_whitney(dataframe, columnas_metricas, grupo_control, grupo_test, columna_grupos = \"campaign_name\"):\n",
    "\n",
    "    \"\"\"\n",
    "    Realiza la prueba de Mann-Whitney U para comparar las medianas de las métricas entre dos grupos en un DataFrame dado.\n",
    "\n",
    "    Parámetros:\n",
    "    - dataframe (DataFrame): El DataFrame que contiene los datos.\n",
    "    - columnas_metricas (list): Una lista de nombres de columnas que representan las métricas a comparar entre los grupos.\n",
    "    - grupo_control (str): El nombre del grupo de control en la columna especificada por columna_grupos.\n",
    "    - grupo_test (str): El nombre del grupo de test en la columna especificada por columna_grupos.\n",
    "    - columna_grupos (str): El nombre de la columna que contiene la información de los grupos. Por defecto, \"campaign_name\".\n",
    "\n",
    "    Returns \n",
    "    No devuelve nada directamente, pero imprime en la consola si las medianas son diferentes o iguales para cada métrica.\n",
    "    Se utiliza la prueba de Mann-Whitney U para evaluar si hay diferencias significativas entre los grupos.\n",
    "    \"\"\"\n",
    "    # filtramos el DataFrame para quedarnos solo con los datos de control\n",
    "    control = dataframe[dataframe[columna_grupos] == grupo_control]\n",
    "    \n",
    "    # filtramos el DataFrame para quedarnos solo con los datos de control\n",
    "    test = dataframe[dataframe[columna_grupos] == grupo_test]\n",
    "    \n",
    "    \n",
    "    # iteramos por las columnas de las metricas para ver si para cada una de ellas hay diferencias entre los grupos\n",
    "    for metrica in columnas_metricas:\n",
    "        \n",
    "        # filtrams el conjunto de datos para quedarnos solo con la columna de la metrica que nos interesa\n",
    "        metrica_control = control[metrica]\n",
    "        metrica_test = test[metrica]\n",
    "        \n",
    "        # aplicamos el estadístico\n",
    "        u_statistic, p_value = stats.mannwhitneyu(metrica_control, metrica_test)\n",
    "        \n",
    "        if p_value < 0.05:\n",
    "            print(f\"Para la métrica {metrica}, las medianas son diferentes.\")\n",
    "        else:\n",
    "            print(f\"Para la métrica {metrica}, las medianas son iguales.\")            \n",
    "    "
   ]
  },
  {
   "cell_type": "markdown",
   "metadata": {},
   "source": [
    "## Exploración por columnas: "
   ]
  },
  {
   "cell_type": "markdown",
   "metadata": {},
   "source": [
    "### ATTRITION VS SATISFACTION"
   ]
  },
  {
   "cell_type": "markdown",
   "metadata": {},
   "source": [
    "Hipótesis: \"Existe una relación entre el nivel de satisfacción en el trabajo y la rotación de empleados en la empresa. Se sospecha que los empleados con niveles de satisfacción más bajos tienen una mayor probabilidad de dejar la empresa\"."
   ]
  },
  {
   "cell_type": "code",
   "execution_count": 85,
   "metadata": {},
   "outputs": [],
   "source": [
    "#Dividimos a los empleados según nivel de satisfacción: \n",
    "grupo_a= df[df['jobsatisfaction'] >= 3]\n",
    "grupo_b = df[df['jobsatisfaction'] < 3]"
   ]
  },
  {
   "cell_type": "code",
   "execution_count": 86,
   "metadata": {},
   "outputs": [
    {
     "data": {
      "text/html": [
       "<div>\n",
       "<style scoped>\n",
       "    .dataframe tbody tr th:only-of-type {\n",
       "        vertical-align: middle;\n",
       "    }\n",
       "\n",
       "    .dataframe tbody tr th {\n",
       "        vertical-align: top;\n",
       "    }\n",
       "\n",
       "    .dataframe thead th {\n",
       "        text-align: right;\n",
       "    }\n",
       "</style>\n",
       "<table border=\"1\" class=\"dataframe\">\n",
       "  <thead>\n",
       "    <tr style=\"text-align: right;\">\n",
       "      <th></th>\n",
       "      <th>attrition</th>\n",
       "      <th>businesstravel</th>\n",
       "      <th>department</th>\n",
       "      <th>educationfield</th>\n",
       "      <th>gender</th>\n",
       "      <th>jobrole</th>\n",
       "      <th>overtime</th>\n",
       "      <th>remotework</th>\n",
       "      <th>age</th>\n",
       "      <th>distancefromhome</th>\n",
       "      <th>education</th>\n",
       "      <th>employeenumber</th>\n",
       "      <th>environmentsatisfaction</th>\n",
       "      <th>jobinvolvement</th>\n",
       "      <th>joblevel</th>\n",
       "      <th>jobsatisfaction</th>\n",
       "      <th>monthlyincome</th>\n",
       "      <th>monthlyrate</th>\n",
       "      <th>numcompaniesworked</th>\n",
       "      <th>percentsalaryhike</th>\n",
       "      <th>performancerating</th>\n",
       "      <th>relationshipsatisfaction</th>\n",
       "      <th>stockoptionlevel</th>\n",
       "      <th>trainingtimeslastyear</th>\n",
       "      <th>worklifebalance</th>\n",
       "      <th>yearsatcompany</th>\n",
       "      <th>yearssincelastpromotion</th>\n",
       "      <th>yearswithcurrmanager</th>\n",
       "      <th>salary</th>\n",
       "    </tr>\n",
       "  </thead>\n",
       "  <tbody>\n",
       "    <tr>\n",
       "      <th>0</th>\n",
       "      <td>no</td>\n",
       "      <td>non travel</td>\n",
       "      <td>unknown</td>\n",
       "      <td>unknown</td>\n",
       "      <td>M</td>\n",
       "      <td>research director</td>\n",
       "      <td>no</td>\n",
       "      <td>yes</td>\n",
       "      <td>51</td>\n",
       "      <td>6</td>\n",
       "      <td>3</td>\n",
       "      <td>1</td>\n",
       "      <td>1</td>\n",
       "      <td>3</td>\n",
       "      <td>5</td>\n",
       "      <td>3</td>\n",
       "      <td>16280.83</td>\n",
       "      <td>42330.17</td>\n",
       "      <td>7</td>\n",
       "      <td>13</td>\n",
       "      <td>3</td>\n",
       "      <td>3</td>\n",
       "      <td>0</td>\n",
       "      <td>5</td>\n",
       "      <td>3</td>\n",
       "      <td>20</td>\n",
       "      <td>15</td>\n",
       "      <td>15</td>\n",
       "      <td>195370.00</td>\n",
       "    </tr>\n",
       "    <tr>\n",
       "      <th>1</th>\n",
       "      <td>no</td>\n",
       "      <td>non travel</td>\n",
       "      <td>unknown</td>\n",
       "      <td>life sciences</td>\n",
       "      <td>M</td>\n",
       "      <td>manager</td>\n",
       "      <td>NaN</td>\n",
       "      <td>yes</td>\n",
       "      <td>52</td>\n",
       "      <td>1</td>\n",
       "      <td>4</td>\n",
       "      <td>2</td>\n",
       "      <td>1</td>\n",
       "      <td>2</td>\n",
       "      <td>5</td>\n",
       "      <td>3</td>\n",
       "      <td>16665.83</td>\n",
       "      <td>43331.17</td>\n",
       "      <td>0</td>\n",
       "      <td>14</td>\n",
       "      <td>3</td>\n",
       "      <td>1</td>\n",
       "      <td>1</td>\n",
       "      <td>5</td>\n",
       "      <td>3</td>\n",
       "      <td>33</td>\n",
       "      <td>11</td>\n",
       "      <td>9</td>\n",
       "      <td>199990.00</td>\n",
       "    </tr>\n",
       "    <tr>\n",
       "      <th>2</th>\n",
       "      <td>no</td>\n",
       "      <td>travel rarely</td>\n",
       "      <td>research &amp; development</td>\n",
       "      <td>technical degree</td>\n",
       "      <td>M</td>\n",
       "      <td>manager</td>\n",
       "      <td>no</td>\n",
       "      <td>yes</td>\n",
       "      <td>42</td>\n",
       "      <td>4</td>\n",
       "      <td>2</td>\n",
       "      <td>3</td>\n",
       "      <td>1</td>\n",
       "      <td>3</td>\n",
       "      <td>5</td>\n",
       "      <td>4</td>\n",
       "      <td>16026.67</td>\n",
       "      <td>41669.33</td>\n",
       "      <td>1</td>\n",
       "      <td>11</td>\n",
       "      <td>3</td>\n",
       "      <td>4</td>\n",
       "      <td>0</td>\n",
       "      <td>3</td>\n",
       "      <td>3</td>\n",
       "      <td>22</td>\n",
       "      <td>11</td>\n",
       "      <td>15</td>\n",
       "      <td>192320.00</td>\n",
       "    </tr>\n",
       "    <tr>\n",
       "      <th>3</th>\n",
       "      <td>no</td>\n",
       "      <td>travel rarely</td>\n",
       "      <td>unknown</td>\n",
       "      <td>medical</td>\n",
       "      <td>F</td>\n",
       "      <td>research director</td>\n",
       "      <td>NaN</td>\n",
       "      <td>no</td>\n",
       "      <td>47</td>\n",
       "      <td>2</td>\n",
       "      <td>4</td>\n",
       "      <td>4</td>\n",
       "      <td>1</td>\n",
       "      <td>3</td>\n",
       "      <td>4</td>\n",
       "      <td>3</td>\n",
       "      <td>14307.50</td>\n",
       "      <td>37199.50</td>\n",
       "      <td>3</td>\n",
       "      <td>19</td>\n",
       "      <td>3</td>\n",
       "      <td>2</td>\n",
       "      <td>2</td>\n",
       "      <td>2</td>\n",
       "      <td>3</td>\n",
       "      <td>20</td>\n",
       "      <td>5</td>\n",
       "      <td>6</td>\n",
       "      <td>171690.00</td>\n",
       "    </tr>\n",
       "    <tr>\n",
       "      <th>5</th>\n",
       "      <td>no</td>\n",
       "      <td>non travel</td>\n",
       "      <td>research &amp; development</td>\n",
       "      <td>medical</td>\n",
       "      <td>F</td>\n",
       "      <td>manager</td>\n",
       "      <td>no</td>\n",
       "      <td>yes</td>\n",
       "      <td>48</td>\n",
       "      <td>22</td>\n",
       "      <td>3</td>\n",
       "      <td>6</td>\n",
       "      <td>1</td>\n",
       "      <td>3</td>\n",
       "      <td>4</td>\n",
       "      <td>4</td>\n",
       "      <td>14311.67</td>\n",
       "      <td>37210.33</td>\n",
       "      <td>3</td>\n",
       "      <td>11</td>\n",
       "      <td>3</td>\n",
       "      <td>2</td>\n",
       "      <td>1</td>\n",
       "      <td>3</td>\n",
       "      <td>3</td>\n",
       "      <td>22</td>\n",
       "      <td>4</td>\n",
       "      <td>7</td>\n",
       "      <td>171740.04</td>\n",
       "    </tr>\n",
       "  </tbody>\n",
       "</table>\n",
       "</div>"
      ],
      "text/plain": [
       "  attrition businesstravel                department    educationfield gender  \\\n",
       "0        no     non travel                   unknown           unknown      M   \n",
       "1        no     non travel                   unknown     life sciences      M   \n",
       "2        no  travel rarely   research & development   technical degree      M   \n",
       "3        no  travel rarely                   unknown           medical      F   \n",
       "5        no     non travel   research & development            medical      F   \n",
       "\n",
       "               jobrole overtime remotework  age  distancefromhome  education  \\\n",
       "0   research director        no        yes   51                 6          3   \n",
       "1             manager       NaN        yes   52                 1          4   \n",
       "2             manager        no        yes   42                 4          2   \n",
       "3   research director       NaN         no   47                 2          4   \n",
       "5             manager        no        yes   48                22          3   \n",
       "\n",
       "   employeenumber  environmentsatisfaction  jobinvolvement  joblevel  \\\n",
       "0               1                        1               3         5   \n",
       "1               2                        1               2         5   \n",
       "2               3                        1               3         5   \n",
       "3               4                        1               3         4   \n",
       "5               6                        1               3         4   \n",
       "\n",
       "   jobsatisfaction  monthlyincome  monthlyrate  numcompaniesworked  \\\n",
       "0                3       16280.83     42330.17                   7   \n",
       "1                3       16665.83     43331.17                   0   \n",
       "2                4       16026.67     41669.33                   1   \n",
       "3                3       14307.50     37199.50                   3   \n",
       "5                4       14311.67     37210.33                   3   \n",
       "\n",
       "   percentsalaryhike  performancerating  relationshipsatisfaction  \\\n",
       "0                 13                  3                         3   \n",
       "1                 14                  3                         1   \n",
       "2                 11                  3                         4   \n",
       "3                 19                  3                         2   \n",
       "5                 11                  3                         2   \n",
       "\n",
       "   stockoptionlevel  trainingtimeslastyear  worklifebalance  yearsatcompany  \\\n",
       "0                 0                      5                3              20   \n",
       "1                 1                      5                3              33   \n",
       "2                 0                      3                3              22   \n",
       "3                 2                      2                3              20   \n",
       "5                 1                      3                3              22   \n",
       "\n",
       "   yearssincelastpromotion  yearswithcurrmanager     salary  \n",
       "0                       15                    15  195370.00  \n",
       "1                       11                     9  199990.00  \n",
       "2                       11                    15  192320.00  \n",
       "3                        5                     6  171690.00  \n",
       "5                        4                     7  171740.04  "
      ]
     },
     "execution_count": 86,
     "metadata": {},
     "output_type": "execute_result"
    }
   ],
   "source": [
    "grupo_a.head()"
   ]
  },
  {
   "cell_type": "code",
   "execution_count": 87,
   "metadata": {},
   "outputs": [
    {
     "data": {
      "text/plain": [
       "attrition\n",
       "no     859\n",
       "yes    136\n",
       "Name: count, dtype: int64"
      ]
     },
     "execution_count": 87,
     "metadata": {},
     "output_type": "execute_result"
    }
   ],
   "source": [
    "grupo_a[\"attrition\"].value_counts()"
   ]
  },
  {
   "cell_type": "code",
   "execution_count": 88,
   "metadata": {},
   "outputs": [
    {
     "data": {
      "text/html": [
       "<div>\n",
       "<style scoped>\n",
       "    .dataframe tbody tr th:only-of-type {\n",
       "        vertical-align: middle;\n",
       "    }\n",
       "\n",
       "    .dataframe tbody tr th {\n",
       "        vertical-align: top;\n",
       "    }\n",
       "\n",
       "    .dataframe thead th {\n",
       "        text-align: right;\n",
       "    }\n",
       "</style>\n",
       "<table border=\"1\" class=\"dataframe\">\n",
       "  <thead>\n",
       "    <tr style=\"text-align: right;\">\n",
       "      <th></th>\n",
       "      <th>grupo</th>\n",
       "      <th>valores</th>\n",
       "    </tr>\n",
       "  </thead>\n",
       "  <tbody>\n",
       "    <tr>\n",
       "      <th>0</th>\n",
       "      <td>Abandono</td>\n",
       "      <td>136</td>\n",
       "    </tr>\n",
       "    <tr>\n",
       "      <th>1</th>\n",
       "      <td>Empleados actuales</td>\n",
       "      <td>859</td>\n",
       "    </tr>\n",
       "  </tbody>\n",
       "</table>\n",
       "</div>"
      ],
      "text/plain": [
       "                grupo  valores\n",
       "0            Abandono      136\n",
       "1  Empleados actuales      859"
      ]
     },
     "execution_count": 88,
     "metadata": {},
     "output_type": "execute_result"
    }
   ],
   "source": [
    "## 1: Chequeamos tasa de abandono de ambos grupos: \n",
    "\n",
    "abandono_grupo_a = {\"grupo\": [\"Abandono\",\"Empleados actuales\"], \"valores\": [136,859]}\n",
    "df_abandono_grupo_a = pd.DataFrame(abandono_grupo_a)\n",
    "df_abandono_grupo_a"
   ]
  },
  {
   "cell_type": "code",
   "execution_count": 89,
   "metadata": {},
   "outputs": [
    {
     "data": {
      "text/plain": [
       "attrition\n",
       "no     496\n",
       "yes    123\n",
       "Name: count, dtype: int64"
      ]
     },
     "execution_count": 89,
     "metadata": {},
     "output_type": "execute_result"
    }
   ],
   "source": [
    "grupo_b['attrition'].value_counts()"
   ]
  },
  {
   "cell_type": "code",
   "execution_count": 90,
   "metadata": {},
   "outputs": [
    {
     "data": {
      "text/html": [
       "<div>\n",
       "<style scoped>\n",
       "    .dataframe tbody tr th:only-of-type {\n",
       "        vertical-align: middle;\n",
       "    }\n",
       "\n",
       "    .dataframe tbody tr th {\n",
       "        vertical-align: top;\n",
       "    }\n",
       "\n",
       "    .dataframe thead th {\n",
       "        text-align: right;\n",
       "    }\n",
       "</style>\n",
       "<table border=\"1\" class=\"dataframe\">\n",
       "  <thead>\n",
       "    <tr style=\"text-align: right;\">\n",
       "      <th></th>\n",
       "      <th>grupo</th>\n",
       "      <th>valores</th>\n",
       "    </tr>\n",
       "  </thead>\n",
       "  <tbody>\n",
       "    <tr>\n",
       "      <th>0</th>\n",
       "      <td>Abandono</td>\n",
       "      <td>123</td>\n",
       "    </tr>\n",
       "    <tr>\n",
       "      <th>1</th>\n",
       "      <td>Empleados actuales</td>\n",
       "      <td>496</td>\n",
       "    </tr>\n",
       "  </tbody>\n",
       "</table>\n",
       "</div>"
      ],
      "text/plain": [
       "                grupo  valores\n",
       "0            Abandono      123\n",
       "1  Empleados actuales      496"
      ]
     },
     "execution_count": 90,
     "metadata": {},
     "output_type": "execute_result"
    }
   ],
   "source": [
    "abandono_grupo_b = {\"grupo\": [\"Abandono\",\"Empleados actuales\"], \"valores\": [123,496]}\n",
    "df_abandono_grupo_b = pd.DataFrame(abandono_grupo_b)\n",
    "df_abandono_grupo_b"
   ]
  },
  {
   "cell_type": "code",
   "execution_count": 91,
   "metadata": {},
   "outputs": [
    {
     "name": "stdout",
     "output_type": "stream",
     "text": [
      "la tasa de attrition del grupo A es: 0.14\n",
      "la tasa de attrition del grupo B es: 0.2\n"
     ]
    }
   ],
   "source": [
    "# Cálculo de la tasa de rotación\n",
    "\n",
    "# Tasa de attrition en grupo A\n",
    "df_grupoa_attrition = grupo_a[grupo_a[\"attrition\"] == \"yes\"]\n",
    "tasa_attrition_grupoa = round(df_grupoa_attrition.shape[0] / grupo_a.shape[0],2)\n",
    "print(f\"la tasa de attrition del grupo A es: {tasa_attrition_grupoa}\")\n",
    "\n",
    "# Tasa de attrition en grupo B\n",
    "df_grupob_attrition = grupo_b[grupo_b[\"attrition\"] == \"yes\"]\n",
    "tasa_attrition_grupob = round(df_grupob_attrition.shape[0] / grupo_b.shape[0],2)\n",
    "print(f\"la tasa de attrition del grupo B es: {tasa_attrition_grupob}\")"
   ]
  },
  {
   "cell_type": "code",
   "execution_count": 92,
   "metadata": {},
   "outputs": [],
   "source": [
    "\n",
    "# Número de empleados que abandonaron y no abandonaron en Grupo A\n",
    "abandono_a = df_grupoa_attrition.shape[0]  # Empleados que abandonaron\n",
    "no_abandono_a = grupo_a[grupo_a[\"attrition\"] == \"no\"].shape[0]  # Empleados que no abandonaron\n",
    "\n",
    "# Número de empleados que abandonaron y no abandonaron en Grupo B\n",
    "abandono_b = df_grupob_attrition.shape[0]  # Empleados que abandonaron\n",
    "no_abandono_b = grupo_b[grupo_b[\"attrition\"] == \"no\"].shape[0]  # Empleados que no abandonaron"
   ]
  },
  {
   "cell_type": "code",
   "execution_count": 93,
   "metadata": {},
   "outputs": [],
   "source": [
    "##    3. Realiza un análisis estadístico para determinar si hay una diferencia significativa en la tasa de rotación entre los grupos A y B. "
   ]
  },
  {
   "cell_type": "code",
   "execution_count": 94,
   "metadata": {},
   "outputs": [
    {
     "name": "stdout",
     "output_type": "stream",
     "text": [
      "0.0012322848438575645\n",
      "\n",
      "Hay una diferencia significativa en la tasa de rotación de ambos grupos.\n",
      "\n",
      "Los resultados sugieren que si que existe una diferencia entre los grupos \n",
      "          \n"
     ]
    }
   ],
   "source": [
    "# Crear tabla de contingencia con los valores absolutos\n",
    "contingency_table = [\n",
    "    [abandono_a, no_abandono_a],  # Grupo A: Abandonaron, No Abandonaron\n",
    "    [abandono_b, no_abandono_b]   # Grupo B: Abandonaron, No Abandonaron\n",
    "]\n",
    "\n",
    "# Realizar la prueba de proporciones\n",
    "chi2, p_value, _, _ = chi2_contingency(contingency_table)\n",
    "print(p_value)\n",
    "\n",
    "# Imprimir el resultado de la prueba\n",
    "alpha = 0.05\n",
    "if p_value < alpha:\n",
    "    print(\"\")\n",
    "    print(\"Hay una diferencia significativa en la tasa de rotación de ambos grupos.\")\n",
    "    print(\"\")\n",
    "    print(\"\"\"Los resultados sugieren que si que existe una diferencia entre los grupos \n",
    "          \"\"\")\n",
    "else:\n",
    "    print(\"No hay evidencia de una diferencia significativa en la tasa de rotación de ambos grupos.\")\n",
    "    print(\"Los resultados sugieren que no existe evidencia estadística para afirmar que las medias de las muestras son distintas\")"
   ]
  },
  {
   "cell_type": "code",
   "execution_count": 95,
   "metadata": {},
   "outputs": [],
   "source": [
    "#Graficos para mostrar diferencias entre grupos: "
   ]
  },
  {
   "cell_type": "markdown",
   "metadata": {},
   "source": []
  },
  {
   "cell_type": "markdown",
   "metadata": {},
   "source": [
    "#### Gráfico 1: "
   ]
  },
  {
   "cell_type": "code",
   "execution_count": null,
   "metadata": {},
   "outputs": [
    {
     "data": {
      "text/plain": [
       "<matplotlib.legend.Legend at 0x7fe5d9a24b30>"
      ]
     },
     "execution_count": 113,
     "metadata": {},
     "output_type": "execute_result"
    },
    {
     "data": {
      "image/png": "[encoded data removed]",
      "text/plain": [
       "<Figure size 900x600 with 1 Axes>"
      ]
     },
     "metadata": {},
     "output_type": "display_data"
    }
   ],
   "source": [
    "\n",
    "# Gráfico de barras\n",
    "plt.figure(figsize=(9, 6))\n",
    "sns.countplot(x=\"jobsatisfaction\", hue=\"attrition\", data=df, dodge=True, palette=\"BuPu\")\n",
    "\n",
    "# Añadir título y etiquetas\n",
    "plt.title(\"Relación entre la tasa de rotación y la satisfacción laboral\", fontsize=12)\n",
    "plt.xlabel(\"Nivel de Satisfacción Laboral\", fontsize=11)\n",
    "plt.ylabel(\"Número de Empleados\", fontsize=11)\n",
    "\n",
    "# Añadir leyenda\n",
    "plt.legend(title=\"Rotación\", labels=[\"No\", \"Sí\"])  # Personaliza los labels si es necesario\n"
   ]
  },
  {
   "cell_type": "code",
   "execution_count": null,
   "metadata": {},
   "outputs": [],
   "source": [
    "## Hay una diferencia significativa en la tasa de rotación del grupo de empleados que seleccionaron un grado de satisfacción mayor a 3 vs los que eligieron un número menor a 3. "
   ]
  },
  {
   "cell_type": "markdown",
   "metadata": {},
   "source": [
    "#### Gráfico 2: "
   ]
  },
  {
   "cell_type": "code",
   "execution_count": 122,
   "metadata": {},
   "outputs": [
    {
     "data": {
      "image/png": "[encoded data removed]",
      "text/plain": [
       "<Figure size 1000x400 with 2 Axes>"
      ]
     },
     "metadata": {},
     "output_type": "display_data"
    }
   ],
   "source": [
    "fig, axes = plt.subplots(nrows=1, ncols=2, figsize=(10, 4))\n",
    "\n",
    "# Gráfico para el grupo A\n",
    "sns.histplot(x=\"attrition\", data=grupo_a, color=\"#5B92E5\", ax=axes[0]) \n",
    "axes[0].set_title(\"Grupo A\", fontsize=11)\n",
    "axes[0].set_xlabel(\"Rotación\", fontsize=10)\n",
    "axes[0].set_ylabel(\"Número de Empleados\", fontsize=10)\n",
    "# Cambiar etiquetas del eje x\n",
    "axes[0].set_xticks([0, 1])  # Si las etiquetas están codificadas como 0 y 1 (opcional)\n",
    "axes[0].set_xticklabels([\"No\", \"Sí\"], fontsize=9)\n",
    "\n",
    "# Gráfico para el grupo B\n",
    "sns.histplot(x=\"attrition\", data=grupo_b, color=\"#A76DE9\", ax=axes[1])\n",
    "axes[1].set_title(\"Grupo B\", fontsize=11)\n",
    "axes[1].set_xlabel(\"Rotación\", fontsize=10)\n",
    "axes[1].set_ylabel(\"Número de Empleados\", fontsize=10)\n",
    "# Cambiar etiquetas del eje x\n",
    "axes[1].set_xticks([0, 1])  # Si las etiquetas están codificadas como 0 y 1 (opcional)\n",
    "axes[1].set_xticklabels([\"No\", \"Sí\"], fontsize=9)\n",
    "\n",
    "# Título general de la figura\n",
    "fig.suptitle(\"Relación entre la tasa de rotación y la satisfacción laboral\", fontsize=12)\n",
    "\n",
    "# Ajustar diseño\n",
    "plt.tight_layout(rect=[0, 0, 1, 0.95])\n",
    "plt.show()"
   ]
  },
  {
   "cell_type": "code",
   "execution_count": null,
   "metadata": {},
   "outputs": [],
   "source": [
    "## Analisis: el primer gráfico es para el grupo A (empleados con mayor nivel de satisfacción) \n",
    "# y el eje X representa si han rotado o no. En el segundo gráfico se hace el mismo análisis para el grupo B (empleados con menor nivel de satisfacción)"
   ]
  },
  {
   "cell_type": "code",
   "execution_count": 123,
   "metadata": {},
   "outputs": [
    {
     "data": {
      "text/plain": [
       "Index(['attrition', 'businesstravel', 'department', 'educationfield', 'gender',\n",
       "       'jobrole', 'overtime', 'remotework', 'age', 'distancefromhome',\n",
       "       'education', 'employeenumber', 'environmentsatisfaction',\n",
       "       'jobinvolvement', 'joblevel', 'jobsatisfaction', 'monthlyincome',\n",
       "       'monthlyrate', 'numcompaniesworked', 'percentsalaryhike',\n",
       "       'performancerating', 'relationshipsatisfaction', 'stockoptionlevel',\n",
       "       'trainingtimeslastyear', 'worklifebalance', 'yearsatcompany',\n",
       "       'yearssincelastpromotion', 'yearswithcurrmanager', 'salary'],\n",
       "      dtype='object')"
      ]
     },
     "execution_count": 123,
     "metadata": {},
     "output_type": "execute_result"
    }
   ],
   "source": [
    "df.columns"
   ]
  },
  {
   "cell_type": "code",
   "execution_count": null,
   "metadata": {},
   "outputs": [],
   "source": [
    "## Analisis de los grados de satisfacción  del empleado en relación con su entorno de trabajo y el nivel de satisfacción en las relaciones interpersonales del empleado."
   ]
  },
  {
   "cell_type": "markdown",
   "metadata": {},
   "source": [
    "#### Gráfico 3: "
   ]
  },
  {
   "cell_type": "code",
   "execution_count": 136,
   "metadata": {},
   "outputs": [
    {
     "data": {
      "image/png": "[encoded data removed]",
      "text/plain": [
       "<Figure size 1500x500 with 3 Axes>"
      ]
     },
     "metadata": {},
     "output_type": "display_data"
    }
   ],
   "source": [
    "# Configuración del grid de subplots (3 columnas para 3 variables)\n",
    "fig, axes = plt.subplots(nrows=1, ncols=3, figsize=(15, 5))\n",
    "\n",
    "# Gráfico para `environmentsatisfaction`\n",
    "sns.histplot(data=df, x=\"environmentsatisfaction\", kde=False, color=\"#5B92E5\", ax=axes[0])\n",
    "axes[0].set_title(\"Satisfacción con el Entorno\", fontsize=12)\n",
    "axes[0].set_xlabel(\"Nivel de Satisfacción\", fontsize=10)\n",
    "axes[0].set_ylabel(\"Número de Empleados\", fontsize=10)\n",
    "axes[0].set_xticks(range(int(df[\"environmentsatisfaction\"].min()), int(df[\"environmentsatisfaction\"].max()) + 1))  # Mostrar solo enteros\n",
    "\n",
    "# Gráfico para `jobsatisfaction`\n",
    "sns.histplot(data=df, x=\"jobsatisfaction\", kde=False, color=\"#A76DE9\", ax=axes[1])\n",
    "axes[1].set_title(\"Satisfacción Laboral\", fontsize=12)\n",
    "axes[1].set_xlabel(\"Nivel de Satisfacción\", fontsize=10)\n",
    "axes[1].set_ylabel(\"Número de Empleados\", fontsize=10)\n",
    "axes[1].set_xticks(range(int(df[\"jobsatisfaction\"].min()), int(df[\"jobsatisfaction\"].max()) + 1))  # Mostrar solo enteros\n",
    "\n",
    "# Gráfico para `relationshipsatisfaction`\n",
    "sns.histplot(data=df, x=\"relationshipsatisfaction\", kde=False, color=\"#FF6F61\", ax=axes[2])\n",
    "axes[2].set_title(\"Satisfacción en Relaciones laborales\", fontsize=12)\n",
    "axes[2].set_xlabel(\"Nivel de Satisfacción\", fontsize=10)\n",
    "axes[2].set_ylabel(\"Número de Empleados\", fontsize=10)\n",
    "axes[2].set_xticks(range(int(df[\"relationshipsatisfaction\"].min()), int(df[\"relationshipsatisfaction\"].max()) + 1))  # Mostrar solo enteros\n",
    "\n",
    "# Título general\n",
    "fig.suptitle(\"Distribución de los Niveles de Satisfacción\", fontsize=16)\n",
    "\n",
    "# Ajustar espaciado\n",
    "plt.tight_layout(rect=[0, 0, 1, 0.95])\n",
    "plt.show()"
   ]
  },
  {
   "cell_type": "code",
   "execution_count": null,
   "metadata": {},
   "outputs": [],
   "source": [
    "## Analizamos el nivel de satisfacción del empleado con su entorno, su trabajo y las relaciones laborales. De las tres categorias, el único caso en el que \n",
    "##  existe una relación entre el nivel de satisfacción y la rotación de empleados es en el caso del nivel de satisfacción con el empleo. Para los casos del nivel de satisfacción con el entorno \n",
    "## y las relaciones laborales, no hay relacion significativa entre los grupos A y B. "
   ]
  },
  {
   "cell_type": "markdown",
   "metadata": {},
   "source": [
    "### SALARY VS SATISFACTION"
   ]
  },
  {
   "cell_type": "code",
   "execution_count": null,
   "metadata": {},
   "outputs": [],
   "source": []
  },
  {
   "cell_type": "code",
   "execution_count": 98,
   "metadata": {},
   "outputs": [],
   "source": [
    "## Calculamos salario medio: "
   ]
  },
  {
   "cell_type": "code",
   "execution_count": 129,
   "metadata": {},
   "outputs": [
    {
     "data": {
      "text/plain": [
       "environmentsatisfaction\n",
       "1    65618.014050\n",
       "2    60969.003438\n",
       "3    69571.407273\n",
       "4    66102.162069\n",
       "Name: salary, dtype: float64"
      ]
     },
     "execution_count": 129,
     "metadata": {},
     "output_type": "execute_result"
    }
   ],
   "source": [
    "df.groupby('environmentsatisfaction')['salary'].mean() "
   ]
  },
  {
   "cell_type": "markdown",
   "metadata": {},
   "source": [
    "#### Gráfico 4: "
   ]
  },
  {
   "cell_type": "code",
   "execution_count": 142,
   "metadata": {},
   "outputs": [
    {
     "name": "stderr",
     "output_type": "stream",
     "text": [
      "/tmp/ipykernel_14776/3181933510.py:3: FutureWarning: \n",
      "\n",
      "The `ci` parameter is deprecated. Use `errorbar=None` for the same effect.\n",
      "\n",
      "  sns.barplot(x = \"jobsatisfaction\", y=\"salary\", data=df, ci=None)\n"
     ]
    },
    {
     "data": {
      "image/png": "[encoded data removed]",
      "text/plain": [
       "<Figure size 640x480 with 1 Axes>"
      ]
     },
     "metadata": {},
     "output_type": "display_data"
    }
   ],
   "source": [
    "## Gráfico: \n",
    "\n",
    "sns.barplot(x = \"jobsatisfaction\", y=\"salary\", data=df, ci=None)\n",
    "            \n",
    "plt.title(\"Promedio de Salarios según Satisfacción Laboral\")\n",
    "plt.xlabel(\"Satisfacción Laboral\")\n",
    "plt.ylabel(\"Promedio de Salarios\"); ## Comparamos el jobsatisfaction vs salario (de todos los empleados)"
   ]
  },
  {
   "cell_type": "code",
   "execution_count": null,
   "metadata": {},
   "outputs": [],
   "source": [
    "## Vemos que el promedio de los salarios en relación a la satisfacción laboral es bastante estable. Al hacer el AB testing, comprobamos que no hay diferencia significativa entre los grupos A y B en relación\n",
    "## al salario vs tasa de rotación. "
   ]
  },
  {
   "cell_type": "code",
   "execution_count": 130,
   "metadata": {},
   "outputs": [
    {
     "name": "stdout",
     "output_type": "stream",
     "text": [
      "Para la columna environmentsatisfaction los datos no siguen una distribución normal.\n"
     ]
    }
   ],
   "source": [
    "normalidad(df,'environmentsatisfaction')"
   ]
  },
  {
   "cell_type": "code",
   "execution_count": 131,
   "metadata": {},
   "outputs": [],
   "source": [
    "grupocontrol = df[df['attrition'] == 'yes']['environmentsatisfaction']\n",
    "grupotest = df[df['attrition'] == 'no']['environmentsatisfaction']"
   ]
  },
  {
   "cell_type": "code",
   "execution_count": 132,
   "metadata": {},
   "outputs": [
    {
     "data": {
      "text/plain": [
       "MannwhitneyuResult(statistic=172698.0, pvalue=0.291561744745232)"
      ]
     },
     "execution_count": 132,
     "metadata": {},
     "output_type": "execute_result"
    }
   ],
   "source": [
    "## Los datos No son normales > entonces hacemos Mann whitney: \n",
    "\n",
    "mannwhitneyu(grupocontrol,grupotest)"
   ]
  },
  {
   "cell_type": "code",
   "execution_count": 133,
   "metadata": {},
   "outputs": [],
   "source": [
    "_, p_value_salary = mannwhitneyu(grupocontrol,grupotest) "
   ]
  },
  {
   "cell_type": "code",
   "execution_count": 134,
   "metadata": {},
   "outputs": [
    {
     "data": {
      "text/plain": [
       "0.291561744745232"
      ]
     },
     "execution_count": 134,
     "metadata": {},
     "output_type": "execute_result"
    }
   ],
   "source": [
    "p_value_salary"
   ]
  },
  {
   "cell_type": "code",
   "execution_count": 135,
   "metadata": {},
   "outputs": [
    {
     "data": {
      "text/plain": [
       "False"
      ]
     },
     "execution_count": 135,
     "metadata": {},
     "output_type": "execute_result"
    }
   ],
   "source": [
    "p_value_salary < 0.05"
   ]
  },
  {
   "cell_type": "code",
   "execution_count": null,
   "metadata": {},
   "outputs": [],
   "source": [
    "# si p_value < 0.05 -> existe una diferencia significativa \n",
    "# si p_value > 0.05 -> no hay diferencia significativa"
   ]
  },
  {
   "cell_type": "code",
   "execution_count": null,
   "metadata": {},
   "outputs": [],
   "source": [
    "## Conclusión: No se puede afirmar que exista una diferencia estadísticamente significativa."
   ]
  },
  {
   "cell_type": "code",
   "execution_count": null,
   "metadata": {},
   "outputs": [],
   "source": [
    "\n",
    "sns.histplot(data = grupo_a, x = \"salary\", hue = \"attrition\", kde = True, color= \"blue\")\n",
    "plt.title(\"Relación salarios anuales y tasa de rotación\")\n",
    "plt.xlabel(\"Salario\")\n",
    "plt.ylabel(\"Rotación\")\n",
    "\n",
    "sns.histplot(data = grupo_b, x = \"salary\", hue = \"attrition\", kde = True, color= \"blue\")\n",
    "plt.title(\"Salario según rotación\")\n",
    "plt.xlabel(\"Salario\")\n",
    "plt.ylabel(\"Rotación\")"
   ]
  },
  {
   "cell_type": "markdown",
   "metadata": {},
   "source": [
    "### GÉNERO VS SATISFACCIÓN"
   ]
  },
  {
   "cell_type": "code",
   "execution_count": null,
   "metadata": {},
   "outputs": [
    {
     "data": {
      "text/plain": [
       "gender\n",
       "M    971\n",
       "F    643\n",
       "Name: count, dtype: int64"
      ]
     },
     "execution_count": 101,
     "metadata": {},
     "output_type": "execute_result"
    }
   ],
   "source": [
    "df['gender'].value_counts()"
   ]
  },
  {
   "cell_type": "code",
   "execution_count": null,
   "metadata": {},
   "outputs": [
    {
     "data": {
      "text/html": [
       "<div>\n",
       "<style scoped>\n",
       "    .dataframe tbody tr th:only-of-type {\n",
       "        vertical-align: middle;\n",
       "    }\n",
       "\n",
       "    .dataframe tbody tr th {\n",
       "        vertical-align: top;\n",
       "    }\n",
       "\n",
       "    .dataframe thead th {\n",
       "        text-align: right;\n",
       "    }\n",
       "</style>\n",
       "<table border=\"1\" class=\"dataframe\">\n",
       "  <thead>\n",
       "    <tr style=\"text-align: right;\">\n",
       "      <th>gender</th>\n",
       "      <th>F</th>\n",
       "      <th>M</th>\n",
       "    </tr>\n",
       "    <tr>\n",
       "      <th>jobsatisfaction</th>\n",
       "      <th></th>\n",
       "      <th></th>\n",
       "    </tr>\n",
       "  </thead>\n",
       "  <tbody>\n",
       "    <tr>\n",
       "      <th>3</th>\n",
       "      <td>198</td>\n",
       "      <td>283</td>\n",
       "    </tr>\n",
       "    <tr>\n",
       "      <th>4</th>\n",
       "      <td>185</td>\n",
       "      <td>329</td>\n",
       "    </tr>\n",
       "  </tbody>\n",
       "</table>\n",
       "</div>"
      ],
      "text/plain": [
       "gender             F    M\n",
       "jobsatisfaction          \n",
       "3                198  283\n",
       "4                185  329"
      ]
     },
     "execution_count": 103,
     "metadata": {},
     "output_type": "execute_result"
    }
   ],
   "source": [
    "pd.crosstab(grupo_a['jobsatisfaction'], grupo_a['gender'])"
   ]
  },
  {
   "cell_type": "code",
   "execution_count": null,
   "metadata": {},
   "outputs": [
    {
     "data": {
      "text/html": [
       "<div>\n",
       "<style scoped>\n",
       "    .dataframe tbody tr th:only-of-type {\n",
       "        vertical-align: middle;\n",
       "    }\n",
       "\n",
       "    .dataframe tbody tr th {\n",
       "        vertical-align: top;\n",
       "    }\n",
       "\n",
       "    .dataframe thead th {\n",
       "        text-align: right;\n",
       "    }\n",
       "</style>\n",
       "<table border=\"1\" class=\"dataframe\">\n",
       "  <thead>\n",
       "    <tr style=\"text-align: right;\">\n",
       "      <th>gender</th>\n",
       "      <th>F</th>\n",
       "      <th>M</th>\n",
       "    </tr>\n",
       "    <tr>\n",
       "      <th>jobsatisfaction</th>\n",
       "      <th></th>\n",
       "      <th></th>\n",
       "    </tr>\n",
       "  </thead>\n",
       "  <tbody>\n",
       "    <tr>\n",
       "      <th>1</th>\n",
       "      <td>130</td>\n",
       "      <td>187</td>\n",
       "    </tr>\n",
       "    <tr>\n",
       "      <th>2</th>\n",
       "      <td>130</td>\n",
       "      <td>172</td>\n",
       "    </tr>\n",
       "  </tbody>\n",
       "</table>\n",
       "</div>"
      ],
      "text/plain": [
       "gender             F    M\n",
       "jobsatisfaction          \n",
       "1                130  187\n",
       "2                130  172"
      ]
     },
     "execution_count": 104,
     "metadata": {},
     "output_type": "execute_result"
    }
   ],
   "source": [
    "#GENERO VS SATISFACCION \n",
    "\n",
    "pd.crosstab(grupo_b['jobsatisfaction'], grupo_b['gender'])"
   ]
  },
  {
   "cell_type": "code",
   "execution_count": null,
   "metadata": {},
   "outputs": [
    {
     "name": "stdout",
     "output_type": "stream",
     "text": [
      "0.1715517080906658\n",
      "No hay evidencia de una diferencia significativa entre ambos grupos.\n",
      "Los resultados sugieren que no existe evidencia estadística para afirmar que las medias de las muestras son distintas\n"
     ]
    }
   ],
   "source": [
    "contingency_table_genero = pd.crosstab(df['jobsatisfaction'],df['gender'])\n",
    "\n",
    "# Realizar la prueba de proporciones\n",
    "chi2, p_value, _, _ = chi2_contingency(contingency_table_genero)\n",
    "print(p_value)\n",
    "\n",
    "# Imprimir el resultado de la prueba\n",
    "alpha = 0.05\n",
    "if p_value < alpha:\n",
    "    print(\"\")\n",
    "    print(\"Hay una diferencia significativa entre ambos grupos.\")\n",
    "    print(\"\")\n",
    "    print(\"\"\"Los resultados sugieren que si que existe una diferencia entre los grupos \n",
    "          \"\"\")\n",
    "else:\n",
    "    print(\"No hay evidencia de una diferencia significativa entre ambos grupos.\")\n",
    "    print(\"Los resultados sugieren que no existe evidencia estadística para afirmar que las medias de las muestras son distintas\")"
   ]
  },
  {
   "cell_type": "markdown",
   "metadata": {},
   "source": [
    "#### Gráfico 5: "
   ]
  },
  {
   "cell_type": "code",
   "execution_count": 168,
   "metadata": {},
   "outputs": [
    {
     "name": "stderr",
     "output_type": "stream",
     "text": [
      "/tmp/ipykernel_14776/3456380356.py:5: UserWarning: The palette list has more values (5) than needed (2), which may not be intended.\n",
      "  sns.countplot(x=\"jobsatisfaction\", hue=\"gender\", data=df, dodge=True, palette=buhu_palette)\n"
     ]
    },
    {
     "data": {
      "image/png": "[encoded data removed]",
      "text/plain": [
       "<Figure size 1000x600 with 1 Axes>"
      ]
     },
     "metadata": {},
     "output_type": "display_data"
    }
   ],
   "source": [
    "buhu_palette = [\"#A3A1D7\", \"#7C6BCC\", \"#6A3D9A\", \"#5A2E8C\", \"#9F4CC7\"]\n",
    "plt.figure(figsize=(10, 6))\n",
    "\n",
    "# Crear el countplot con mejoras\n",
    "sns.countplot(x=\"jobsatisfaction\", hue=\"gender\", data=df, dodge=True, palette=buhu_palette)\n",
    "\n",
    "# Añadir título y etiquetas con un formato mejorado\n",
    "plt.title(\"Distribución de Género según Nivel de Satisfacción Laboral\", fontsize=14)\n",
    "plt.xlabel(\"Nivel de Satisfacción Laboral\", fontsize=12)\n",
    "plt.ylabel(\"Número de Empleados\", fontsize=12)\n",
    "\n",
    "\n",
    "# Mejorar la leyenda\n",
    "plt.legend(title=\"Género\", title_fontsize='13', loc='upper right', fontsize=11)\n",
    "\n",
    "# Ajustar el espaciado de los gráficos\n",
    "plt.tight_layout()\n",
    "\n",
    "# Mostrar el gráfico\n",
    "plt.show()\n"
   ]
  },
  {
   "cell_type": "code",
   "execution_count": null,
   "metadata": {},
   "outputs": [],
   "source": [
    "## Analisis del gráfico: "
   ]
  },
  {
   "cell_type": "markdown",
   "metadata": {},
   "source": [
    "### YEARS AT COMPANY VS SATISFACTION"
   ]
  },
  {
   "cell_type": "code",
   "execution_count": null,
   "metadata": {},
   "outputs": [
    {
     "data": {
      "text/html": [
       "<div>\n",
       "<style scoped>\n",
       "    .dataframe tbody tr th:only-of-type {\n",
       "        vertical-align: middle;\n",
       "    }\n",
       "\n",
       "    .dataframe tbody tr th {\n",
       "        vertical-align: top;\n",
       "    }\n",
       "\n",
       "    .dataframe thead th {\n",
       "        text-align: right;\n",
       "    }\n",
       "</style>\n",
       "<table border=\"1\" class=\"dataframe\">\n",
       "  <thead>\n",
       "    <tr style=\"text-align: right;\">\n",
       "      <th>yearsatcompany</th>\n",
       "      <th>0</th>\n",
       "      <th>1</th>\n",
       "      <th>2</th>\n",
       "      <th>3</th>\n",
       "      <th>4</th>\n",
       "      <th>5</th>\n",
       "      <th>6</th>\n",
       "      <th>7</th>\n",
       "      <th>8</th>\n",
       "      <th>9</th>\n",
       "      <th>10</th>\n",
       "      <th>11</th>\n",
       "      <th>12</th>\n",
       "      <th>13</th>\n",
       "      <th>14</th>\n",
       "      <th>15</th>\n",
       "      <th>16</th>\n",
       "      <th>17</th>\n",
       "      <th>18</th>\n",
       "      <th>19</th>\n",
       "      <th>20</th>\n",
       "      <th>21</th>\n",
       "      <th>22</th>\n",
       "      <th>23</th>\n",
       "      <th>24</th>\n",
       "      <th>25</th>\n",
       "      <th>26</th>\n",
       "      <th>27</th>\n",
       "      <th>29</th>\n",
       "      <th>30</th>\n",
       "      <th>31</th>\n",
       "      <th>32</th>\n",
       "      <th>33</th>\n",
       "      <th>34</th>\n",
       "      <th>36</th>\n",
       "      <th>37</th>\n",
       "      <th>40</th>\n",
       "    </tr>\n",
       "    <tr>\n",
       "      <th>jobsatisfaction</th>\n",
       "      <th></th>\n",
       "      <th></th>\n",
       "      <th></th>\n",
       "      <th></th>\n",
       "      <th></th>\n",
       "      <th></th>\n",
       "      <th></th>\n",
       "      <th></th>\n",
       "      <th></th>\n",
       "      <th></th>\n",
       "      <th></th>\n",
       "      <th></th>\n",
       "      <th></th>\n",
       "      <th></th>\n",
       "      <th></th>\n",
       "      <th></th>\n",
       "      <th></th>\n",
       "      <th></th>\n",
       "      <th></th>\n",
       "      <th></th>\n",
       "      <th></th>\n",
       "      <th></th>\n",
       "      <th></th>\n",
       "      <th></th>\n",
       "      <th></th>\n",
       "      <th></th>\n",
       "      <th></th>\n",
       "      <th></th>\n",
       "      <th></th>\n",
       "      <th></th>\n",
       "      <th></th>\n",
       "      <th></th>\n",
       "      <th></th>\n",
       "      <th></th>\n",
       "      <th></th>\n",
       "      <th></th>\n",
       "      <th></th>\n",
       "    </tr>\n",
       "  </thead>\n",
       "  <tbody>\n",
       "    <tr>\n",
       "      <th>1</th>\n",
       "      <td>12</td>\n",
       "      <td>31</td>\n",
       "      <td>21</td>\n",
       "      <td>32</td>\n",
       "      <td>29</td>\n",
       "      <td>40</td>\n",
       "      <td>13</td>\n",
       "      <td>28</td>\n",
       "      <td>14</td>\n",
       "      <td>19</td>\n",
       "      <td>24</td>\n",
       "      <td>3</td>\n",
       "      <td>2</td>\n",
       "      <td>8</td>\n",
       "      <td>4</td>\n",
       "      <td>6</td>\n",
       "      <td>2</td>\n",
       "      <td>1</td>\n",
       "      <td>6</td>\n",
       "      <td>3</td>\n",
       "      <td>4</td>\n",
       "      <td>4</td>\n",
       "      <td>1</td>\n",
       "      <td>0</td>\n",
       "      <td>2</td>\n",
       "      <td>1</td>\n",
       "      <td>2</td>\n",
       "      <td>0</td>\n",
       "      <td>1</td>\n",
       "      <td>0</td>\n",
       "      <td>1</td>\n",
       "      <td>0</td>\n",
       "      <td>0</td>\n",
       "      <td>1</td>\n",
       "      <td>2</td>\n",
       "      <td>0</td>\n",
       "      <td>0</td>\n",
       "    </tr>\n",
       "    <tr>\n",
       "      <th>2</th>\n",
       "      <td>5</td>\n",
       "      <td>39</td>\n",
       "      <td>23</td>\n",
       "      <td>25</td>\n",
       "      <td>21</td>\n",
       "      <td>39</td>\n",
       "      <td>14</td>\n",
       "      <td>15</td>\n",
       "      <td>29</td>\n",
       "      <td>20</td>\n",
       "      <td>20</td>\n",
       "      <td>11</td>\n",
       "      <td>2</td>\n",
       "      <td>6</td>\n",
       "      <td>1</td>\n",
       "      <td>3</td>\n",
       "      <td>3</td>\n",
       "      <td>1</td>\n",
       "      <td>0</td>\n",
       "      <td>3</td>\n",
       "      <td>4</td>\n",
       "      <td>2</td>\n",
       "      <td>6</td>\n",
       "      <td>0</td>\n",
       "      <td>2</td>\n",
       "      <td>2</td>\n",
       "      <td>1</td>\n",
       "      <td>0</td>\n",
       "      <td>1</td>\n",
       "      <td>0</td>\n",
       "      <td>1</td>\n",
       "      <td>1</td>\n",
       "      <td>2</td>\n",
       "      <td>0</td>\n",
       "      <td>0</td>\n",
       "      <td>0</td>\n",
       "      <td>0</td>\n",
       "    </tr>\n",
       "    <tr>\n",
       "      <th>3</th>\n",
       "      <td>16</td>\n",
       "      <td>48</td>\n",
       "      <td>48</td>\n",
       "      <td>45</td>\n",
       "      <td>32</td>\n",
       "      <td>67</td>\n",
       "      <td>15</td>\n",
       "      <td>29</td>\n",
       "      <td>45</td>\n",
       "      <td>17</td>\n",
       "      <td>40</td>\n",
       "      <td>7</td>\n",
       "      <td>4</td>\n",
       "      <td>5</td>\n",
       "      <td>5</td>\n",
       "      <td>6</td>\n",
       "      <td>5</td>\n",
       "      <td>4</td>\n",
       "      <td>5</td>\n",
       "      <td>5</td>\n",
       "      <td>14</td>\n",
       "      <td>3</td>\n",
       "      <td>6</td>\n",
       "      <td>2</td>\n",
       "      <td>0</td>\n",
       "      <td>0</td>\n",
       "      <td>0</td>\n",
       "      <td>3</td>\n",
       "      <td>0</td>\n",
       "      <td>1</td>\n",
       "      <td>1</td>\n",
       "      <td>0</td>\n",
       "      <td>2</td>\n",
       "      <td>0</td>\n",
       "      <td>0</td>\n",
       "      <td>1</td>\n",
       "      <td>0</td>\n",
       "    </tr>\n",
       "    <tr>\n",
       "      <th>4</th>\n",
       "      <td>11</td>\n",
       "      <td>53</td>\n",
       "      <td>49</td>\n",
       "      <td>39</td>\n",
       "      <td>32</td>\n",
       "      <td>62</td>\n",
       "      <td>36</td>\n",
       "      <td>43</td>\n",
       "      <td>18</td>\n",
       "      <td>38</td>\n",
       "      <td>49</td>\n",
       "      <td>15</td>\n",
       "      <td>7</td>\n",
       "      <td>7</td>\n",
       "      <td>9</td>\n",
       "      <td>6</td>\n",
       "      <td>4</td>\n",
       "      <td>3</td>\n",
       "      <td>4</td>\n",
       "      <td>1</td>\n",
       "      <td>7</td>\n",
       "      <td>5</td>\n",
       "      <td>4</td>\n",
       "      <td>0</td>\n",
       "      <td>3</td>\n",
       "      <td>2</td>\n",
       "      <td>1</td>\n",
       "      <td>0</td>\n",
       "      <td>0</td>\n",
       "      <td>0</td>\n",
       "      <td>0</td>\n",
       "      <td>2</td>\n",
       "      <td>1</td>\n",
       "      <td>0</td>\n",
       "      <td>1</td>\n",
       "      <td>0</td>\n",
       "      <td>2</td>\n",
       "    </tr>\n",
       "  </tbody>\n",
       "</table>\n",
       "</div>"
      ],
      "text/plain": [
       "yearsatcompany   0   1   2   3   4   5   6   7   8   9   10  11  12  13  14  \\\n",
       "jobsatisfaction                                                               \n",
       "1                12  31  21  32  29  40  13  28  14  19  24   3   2   8   4   \n",
       "2                 5  39  23  25  21  39  14  15  29  20  20  11   2   6   1   \n",
       "3                16  48  48  45  32  67  15  29  45  17  40   7   4   5   5   \n",
       "4                11  53  49  39  32  62  36  43  18  38  49  15   7   7   9   \n",
       "\n",
       "yearsatcompany   15  16  17  18  19  20  21  22  23  24  25  26  27  29  30  \\\n",
       "jobsatisfaction                                                               \n",
       "1                 6   2   1   6   3   4   4   1   0   2   1   2   0   1   0   \n",
       "2                 3   3   1   0   3   4   2   6   0   2   2   1   0   1   0   \n",
       "3                 6   5   4   5   5  14   3   6   2   0   0   0   3   0   1   \n",
       "4                 6   4   3   4   1   7   5   4   0   3   2   1   0   0   0   \n",
       "\n",
       "yearsatcompany   31  32  33  34  36  37  40  \n",
       "jobsatisfaction                              \n",
       "1                 1   0   0   1   2   0   0  \n",
       "2                 1   1   2   0   0   0   0  \n",
       "3                 1   0   2   0   0   1   0  \n",
       "4                 0   2   1   0   1   0   2  "
      ]
     },
     "execution_count": 282,
     "metadata": {},
     "output_type": "execute_result"
    }
   ],
   "source": [
    "pd.crosstab(df['jobsatisfaction'], df['yearsatcompany']) ## Crosstable"
   ]
  },
  {
   "cell_type": "code",
   "execution_count": null,
   "metadata": {},
   "outputs": [
    {
     "name": "stdout",
     "output_type": "stream",
     "text": [
      "Para la columna yearsatcompany los datos no siguen una distribución normal.\n"
     ]
    }
   ],
   "source": [
    "normalidad(df,'yearsatcompany')"
   ]
  },
  {
   "cell_type": "code",
   "execution_count": null,
   "metadata": {},
   "outputs": [],
   "source": [
    "grupocontrol_yac = df[df['jobsatisfaction'] >= 3]['yearsatcompany']\n",
    "grupotest_yac = df[df['jobsatisfaction'] < 3]['yearsatcompany']"
   ]
  },
  {
   "cell_type": "code",
   "execution_count": null,
   "metadata": {},
   "outputs": [],
   "source": [
    "_, p_value_yac = mannwhitneyu(grupocontrol_yac,grupotest_yac)"
   ]
  },
  {
   "cell_type": "code",
   "execution_count": null,
   "metadata": {},
   "outputs": [
    {
     "data": {
      "text/plain": [
       "False"
      ]
     },
     "execution_count": 194,
     "metadata": {},
     "output_type": "execute_result"
    }
   ],
   "source": [
    "p_value_yac < 0.05"
   ]
  },
  {
   "cell_type": "code",
   "execution_count": null,
   "metadata": {},
   "outputs": [],
   "source": [
    "## Conclusión: No se puede afirmar que exista una diferencia estadísticamente significativa."
   ]
  },
  {
   "cell_type": "markdown",
   "metadata": {},
   "source": [
    "### Gráfico 6: "
   ]
  },
  {
   "cell_type": "code",
   "execution_count": null,
   "metadata": {},
   "outputs": [],
   "source": [
    "## Analizamos los niveles de educacion: "
   ]
  },
  {
   "cell_type": "code",
   "execution_count": 162,
   "metadata": {},
   "outputs": [],
   "source": [
    "df_education = df.groupby('education')['employeenumber'].count().reset_index()"
   ]
  },
  {
   "cell_type": "code",
   "execution_count": 163,
   "metadata": {},
   "outputs": [
    {
     "data": {
      "text/html": [
       "<div>\n",
       "<style scoped>\n",
       "    .dataframe tbody tr th:only-of-type {\n",
       "        vertical-align: middle;\n",
       "    }\n",
       "\n",
       "    .dataframe tbody tr th {\n",
       "        vertical-align: top;\n",
       "    }\n",
       "\n",
       "    .dataframe thead th {\n",
       "        text-align: right;\n",
       "    }\n",
       "</style>\n",
       "<table border=\"1\" class=\"dataframe\">\n",
       "  <thead>\n",
       "    <tr style=\"text-align: right;\">\n",
       "      <th></th>\n",
       "      <th>education</th>\n",
       "      <th>employeenumber</th>\n",
       "    </tr>\n",
       "  </thead>\n",
       "  <tbody>\n",
       "    <tr>\n",
       "      <th>0</th>\n",
       "      <td>1</td>\n",
       "      <td>180</td>\n",
       "    </tr>\n",
       "    <tr>\n",
       "      <th>1</th>\n",
       "      <td>2</td>\n",
       "      <td>314</td>\n",
       "    </tr>\n",
       "    <tr>\n",
       "      <th>2</th>\n",
       "      <td>3</td>\n",
       "      <td>621</td>\n",
       "    </tr>\n",
       "    <tr>\n",
       "      <th>3</th>\n",
       "      <td>4</td>\n",
       "      <td>445</td>\n",
       "    </tr>\n",
       "    <tr>\n",
       "      <th>4</th>\n",
       "      <td>5</td>\n",
       "      <td>54</td>\n",
       "    </tr>\n",
       "  </tbody>\n",
       "</table>\n",
       "</div>"
      ],
      "text/plain": [
       "   education  employeenumber\n",
       "0          1             180\n",
       "1          2             314\n",
       "2          3             621\n",
       "3          4             445\n",
       "4          5              54"
      ]
     },
     "execution_count": 163,
     "metadata": {},
     "output_type": "execute_result"
    }
   ],
   "source": [
    "df_education"
   ]
  },
  {
   "cell_type": "code",
   "execution_count": 166,
   "metadata": {},
   "outputs": [
    {
     "name": "stderr",
     "output_type": "stream",
     "text": [
      "/tmp/ipykernel_14776/192659860.py:5: FutureWarning: \n",
      "\n",
      "Passing `palette` without assigning `hue` is deprecated and will be removed in v0.14.0. Assign the `x` variable to `hue` and set `legend=False` for the same effect.\n",
      "\n",
      "  sns.barplot(x='education', y='employeenumber', data=df_education, palette=buhu_palette_1)\n"
     ]
    },
    {
     "data": {
      "image/png": "[encoded data removed]",
      "text/plain": [
       "<Figure size 1000x600 with 1 Axes>"
      ]
     },
     "metadata": {},
     "output_type": "display_data"
    }
   ],
   "source": [
    "# Crear gráfico de barras (queremos ver cómo se distribuyen los empleados entre los diferentes campos educativos.)\n",
    "\n",
    "buhu_palette_1 = [\"#A3A1D7\", \"#7C6BCC\", \"#6A3D9A\", \"#5A2E8C\", \"#9F4CC7\"]\n",
    "plt.figure(figsize=(10,6))\n",
    "sns.barplot(x='education', y='employeenumber', data=df_education, palette=buhu_palette_1)\n",
    "\n",
    "# Añadir título y etiquetas\n",
    "plt.title('Número de Empleados por Nivel Educativo', fontsize=16)\n",
    "plt.xlabel('Nivel Educativo', fontsize=12)\n",
    "plt.ylabel('Número de Empleados', fontsize=12)\n",
    "\n",
    "\n",
    "# Ajustar el espaciado de los gráficos\n",
    "plt.tight_layout()\n",
    "\n",
    "# Mostrar gráfico\n",
    "plt.show()\n"
   ]
  },
  {
   "cell_type": "code",
   "execution_count": null,
   "metadata": {},
   "outputs": [
    {
     "data": {
      "text/plain": [
       "Index(['attrition', 'businesstravel', 'department', 'educationfield', 'gender',\n",
       "       'jobrole', 'overtime', 'remotework', 'age', 'distancefromhome',\n",
       "       'education', 'employeenumber', 'environmentsatisfaction',\n",
       "       'jobinvolvement', 'joblevel', 'jobsatisfaction', 'monthlyincome',\n",
       "       'monthlyrate', 'numcompaniesworked', 'percentsalaryhike',\n",
       "       'performancerating', 'relationshipsatisfaction', 'stockoptionlevel',\n",
       "       'trainingtimeslastyear', 'worklifebalance', 'yearsatcompany',\n",
       "       'yearssincelastpromotion', 'yearswithcurrmanager', 'salary'],\n",
       "      dtype='object')"
      ]
     },
     "execution_count": 236,
     "metadata": {},
     "output_type": "execute_result"
    }
   ],
   "source": []
  },
  {
   "cell_type": "code",
   "execution_count": null,
   "metadata": {},
   "outputs": [
    {
     "data": {
      "text/html": [
       "<div>\n",
       "<style scoped>\n",
       "    .dataframe tbody tr th:only-of-type {\n",
       "        vertical-align: middle;\n",
       "    }\n",
       "\n",
       "    .dataframe tbody tr th {\n",
       "        vertical-align: top;\n",
       "    }\n",
       "\n",
       "    .dataframe thead th {\n",
       "        text-align: right;\n",
       "    }\n",
       "</style>\n",
       "<table border=\"1\" class=\"dataframe\">\n",
       "  <thead>\n",
       "    <tr style=\"text-align: right;\">\n",
       "      <th>stockoptionlevel</th>\n",
       "      <th>0</th>\n",
       "      <th>1</th>\n",
       "      <th>2</th>\n",
       "      <th>3</th>\n",
       "    </tr>\n",
       "    <tr>\n",
       "      <th>jobsatisfaction</th>\n",
       "      <th></th>\n",
       "      <th></th>\n",
       "      <th></th>\n",
       "      <th></th>\n",
       "    </tr>\n",
       "  </thead>\n",
       "  <tbody>\n",
       "    <tr>\n",
       "      <th>1</th>\n",
       "      <td>134</td>\n",
       "      <td>136</td>\n",
       "      <td>28</td>\n",
       "      <td>19</td>\n",
       "    </tr>\n",
       "    <tr>\n",
       "      <th>2</th>\n",
       "      <td>130</td>\n",
       "      <td>123</td>\n",
       "      <td>31</td>\n",
       "      <td>18</td>\n",
       "    </tr>\n",
       "    <tr>\n",
       "      <th>3</th>\n",
       "      <td>210</td>\n",
       "      <td>199</td>\n",
       "      <td>50</td>\n",
       "      <td>22</td>\n",
       "    </tr>\n",
       "    <tr>\n",
       "      <th>4</th>\n",
       "      <td>213</td>\n",
       "      <td>208</td>\n",
       "      <td>63</td>\n",
       "      <td>30</td>\n",
       "    </tr>\n",
       "  </tbody>\n",
       "</table>\n",
       "</div>"
      ],
      "text/plain": [
       "stockoptionlevel    0    1   2   3\n",
       "jobsatisfaction                   \n",
       "1                 134  136  28  19\n",
       "2                 130  123  31  18\n",
       "3                 210  199  50  22\n",
       "4                 213  208  63  30"
      ]
     },
     "execution_count": 276,
     "metadata": {},
     "output_type": "execute_result"
    }
   ],
   "source": [
    "pd.crosstab(df['jobsatisfaction'],df['stockoptionlevel'])"
   ]
  },
  {
   "cell_type": "code",
   "execution_count": null,
   "metadata": {},
   "outputs": [
    {
     "name": "stdout",
     "output_type": "stream",
     "text": [
      "Para la columna stockoptionlevel los datos no siguen una distribución normal.\n"
     ]
    }
   ],
   "source": [
    "normalidad(df, 'stockoptionlevel')"
   ]
  },
  {
   "cell_type": "code",
   "execution_count": null,
   "metadata": {},
   "outputs": [],
   "source": [
    "grupo1 = df[df['jobsatisfaction'] >= 3]['stockoptionlevel']\n",
    "grupo2 = df[df['jobsatisfaction'] < 3]['stockoptionlevel']"
   ]
  },
  {
   "cell_type": "code",
   "execution_count": null,
   "metadata": {},
   "outputs": [],
   "source": [
    "_, p_value_1 = mannwhitneyu(grupo1,grupo2)"
   ]
  },
  {
   "cell_type": "code",
   "execution_count": null,
   "metadata": {},
   "outputs": [
    {
     "data": {
      "text/plain": [
       "False"
      ]
     },
     "execution_count": 280,
     "metadata": {},
     "output_type": "execute_result"
    }
   ],
   "source": [
    "p_value_1 < 0.05"
   ]
  },
  {
   "cell_type": "code",
   "execution_count": null,
   "metadata": {},
   "outputs": [
    {
     "name": "stdout",
     "output_type": "stream",
     "text": [
      "0.9096276830404566\n",
      "No hay evidencia de una diferencia significativa entre ambos grupos.\n",
      "Los resultados sugieren que no existe evidencia estadística para afirmar que las medias de las muestras son distintas\n"
     ]
    }
   ],
   "source": [
    "contingency_table_enviroment = pd.crosstab(df['jobsatisfaction'],df['stockoptionlevel'])\n",
    "\n",
    "# Realizar la prueba de proporciones\n",
    "chi2, p_value, _, _ = chi2_contingency(contingency_table_enviroment)\n",
    "print(p_value)\n",
    "\n",
    "# Imprimir el resultado de la prueba\n",
    "alpha = 0.05\n",
    "if p_value < alpha:\n",
    "    print(\"\")\n",
    "    print(\"Hay una diferencia significativa entre ambos grupos.\")\n",
    "    print(\"\")\n",
    "    print(\"\"\"Los resultados sugieren que si que existe una diferencia entre los grupos \n",
    "          \"\"\")\n",
    "else:\n",
    "    print(\"No hay evidencia de una diferencia significativa entre ambos grupos.\")\n",
    "    print(\"Los resultados sugieren que no existe evidencia estadística para afirmar que las medias de las muestras son distintas\")"
   ]
  },
  {
   "cell_type": "code",
   "execution_count": null,
   "metadata": {},
   "outputs": [],
   "source": [
    "### FIN PRUEBAS. "
   ]
  },
  {
   "cell_type": "code",
   "execution_count": null,
   "metadata": {},
   "outputs": [],
   "source": [
    "##Graficos adicionales"
   ]
  },
  {
   "cell_type": "code",
   "execution_count": null,
   "metadata": {},
   "outputs": [
    {
     "name": "stdout",
     "output_type": "stream",
     "text": [
      "<class 'pandas.core.frame.DataFrame'>\n",
      "Index: 1614 entries, 0 to 1613\n",
      "Data columns (total 29 columns):\n",
      " #   Column                    Non-Null Count  Dtype  \n",
      "---  ------                    --------------  -----  \n",
      " 0   attrition                 1614 non-null   object \n",
      " 1   businesstravel            1614 non-null   object \n",
      " 2   department                1614 non-null   object \n",
      " 3   educationfield            1614 non-null   object \n",
      " 4   gender                    1614 non-null   object \n",
      " 5   jobrole                   1614 non-null   object \n",
      " 6   overtime                  938 non-null    object \n",
      " 7   remotework                1614 non-null   object \n",
      " 8   age                       1614 non-null   int64  \n",
      " 9   distancefromhome          1614 non-null   int64  \n",
      " 10  education                 1614 non-null   int64  \n",
      " 11  employeenumber            1614 non-null   int64  \n",
      " 12  environmentsatisfaction   1614 non-null   int64  \n",
      " 13  jobinvolvement            1614 non-null   int64  \n",
      " 14  joblevel                  1614 non-null   int64  \n",
      " 15  jobsatisfaction           1614 non-null   int64  \n",
      " 16  monthlyincome             1614 non-null   float64\n",
      " 17  monthlyrate               1614 non-null   float64\n",
      " 18  numcompaniesworked        1614 non-null   int64  \n",
      " 19  percentsalaryhike         1614 non-null   int64  \n",
      " 20  performancerating         1614 non-null   int64  \n",
      " 21  relationshipsatisfaction  1614 non-null   int64  \n",
      " 22  stockoptionlevel          1614 non-null   int64  \n",
      " 23  trainingtimeslastyear     1614 non-null   int64  \n",
      " 24  worklifebalance           1614 non-null   int64  \n",
      " 25  yearsatcompany            1614 non-null   int64  \n",
      " 26  yearssincelastpromotion   1614 non-null   int64  \n",
      " 27  yearswithcurrmanager      1614 non-null   int64  \n",
      " 28  salary                    1614 non-null   float64\n",
      "dtypes: float64(3), int64(18), object(8)\n",
      "memory usage: 378.3+ KB\n"
     ]
    }
   ],
   "source": [
    "df.info()"
   ]
  },
  {
   "cell_type": "markdown",
   "metadata": {},
   "source": [
    "## Exploración general: "
   ]
  },
  {
   "cell_type": "code",
   "execution_count": null,
   "metadata": {},
   "outputs": [
    {
     "name": "stderr",
     "output_type": "stream",
     "text": [
      "/tmp/ipykernel_25855/2605322453.py:1: FutureWarning: \n",
      "\n",
      "Passing `palette` without assigning `hue` is deprecated and will be removed in v0.14.0. Assign the `x` variable to `hue` and set `legend=False` for the same effect.\n",
      "\n",
      "  sns.barplot(x=\"grupo\", y=\"valores\", data=abandono_grupo_a, palette=\"mako\");\n"
     ]
    },
    {
     "data": {
      "image/png": "[encoded data removed]",
      "text/plain": [
       "<Figure size 640x480 with 1 Axes>"
      ]
     },
     "metadata": {},
     "output_type": "display_data"
    }
   ],
   "source": [
    "sns.barplot(x=\"grupo\", y=\"valores\", data=abandono_grupo_a, palette=\"mako\");"
   ]
  },
  {
   "cell_type": "code",
   "execution_count": null,
   "metadata": {},
   "outputs": [],
   "source": [
    "## Chequeamos tasa de abandono en relación al género (empleados satisfechos)"
   ]
  },
  {
   "cell_type": "code",
   "execution_count": null,
   "metadata": {},
   "outputs": [
    {
     "data": {
      "text/plain": [
       "<Axes: xlabel='gender', ylabel='Count'>"
      ]
     },
     "execution_count": 33,
     "metadata": {},
     "output_type": "execute_result"
    },
    {
     "data": {
      "image/png": "[encoded data removed]",
      "text/plain": [
       "<Figure size 640x480 with 1 Axes>"
      ]
     },
     "metadata": {},
     "output_type": "display_data"
    }
   ],
   "source": [
    "sns.histplot(data = grupo_a, x = \"gender\", hue = \"attrition\", kde = True, color= \"blue\")\n",
    "# plt.title(\"Género según rotación\")\n",
    "# plt.xlabel(\"Género\")\n",
    "# plt.ylabel(\"Frecuencia\")"
   ]
  },
  {
   "cell_type": "code",
   "execution_count": null,
   "metadata": {},
   "outputs": [
    {
     "data": {
      "text/html": [
       "<div>\n",
       "<style scoped>\n",
       "    .dataframe tbody tr th:only-of-type {\n",
       "        vertical-align: middle;\n",
       "    }\n",
       "\n",
       "    .dataframe tbody tr th {\n",
       "        vertical-align: top;\n",
       "    }\n",
       "\n",
       "    .dataframe thead th {\n",
       "        text-align: right;\n",
       "    }\n",
       "</style>\n",
       "<table border=\"1\" class=\"dataframe\">\n",
       "  <thead>\n",
       "    <tr style=\"text-align: right;\">\n",
       "      <th>gender</th>\n",
       "      <th>F</th>\n",
       "      <th>M</th>\n",
       "    </tr>\n",
       "    <tr>\n",
       "      <th>attrition</th>\n",
       "      <th></th>\n",
       "      <th></th>\n",
       "    </tr>\n",
       "  </thead>\n",
       "  <tbody>\n",
       "    <tr>\n",
       "      <th>no</th>\n",
       "      <td>87.989556</td>\n",
       "      <td>85.294118</td>\n",
       "    </tr>\n",
       "    <tr>\n",
       "      <th>yes</th>\n",
       "      <td>12.010444</td>\n",
       "      <td>14.705882</td>\n",
       "    </tr>\n",
       "  </tbody>\n",
       "</table>\n",
       "</div>"
      ],
      "text/plain": [
       "gender             F          M\n",
       "attrition                      \n",
       "no         87.989556  85.294118\n",
       "yes        12.010444  14.705882"
      ]
     },
     "execution_count": 34,
     "metadata": {},
     "output_type": "execute_result"
    }
   ],
   "source": [
    "pd.crosstab(grupo_a[\"attrition\"], grupo_a[\"gender\"], normalize=\"columns\")*100 ## porcentaje de abandono por género"
   ]
  },
  {
   "cell_type": "code",
   "execution_count": null,
   "metadata": {},
   "outputs": [],
   "source": [
    "## Función para ver si los datos son normales: \n",
    "\n",
    "def normalidad(dataframe, columna):\n",
    "    \"\"\"\n",
    "    Evalúa la normalidad de una columna de datos de un DataFrame utilizando la prueba de Shapiro-Wilk.\n",
    "    Parámetros:\n",
    "        dataframe (DataFrame): El DataFrame que contiene los datos.\n",
    "        columna (str): El nombre de la columna en el DataFrame que se va a evaluar para la normalidad.\n",
    "    Returns:\n",
    "        None: Imprime un mensaje indicando si los datos siguen o no una distribución normal.\n",
    "    \"\"\"\n",
    "    statistic, p_value = stats.shapiro(dataframe[columna])\n",
    "    if p_value > 0.05:\n",
    "        print(f\"Para la columna {columna} los datos siguen una distribución normal.\")\n",
    "    else:\n",
    "        print(f\"Para la columna {columna} los datos no siguen una distribución normal.\")"
   ]
  },
  {
   "cell_type": "code",
   "execution_count": null,
   "metadata": {},
   "outputs": [
    {
     "name": "stdout",
     "output_type": "stream",
     "text": [
      "Para la columna age los datos no siguen una distribución normal.\n"
     ]
    }
   ],
   "source": [
    "normalidad(grupo_a, 'age')"
   ]
  },
  {
   "cell_type": "code",
   "execution_count": null,
   "metadata": {},
   "outputs": [
    {
     "data": {
      "text/plain": [
       "<Axes: xlabel='salary', ylabel='attrition'>"
      ]
     },
     "execution_count": 43,
     "metadata": {},
     "output_type": "execute_result"
    },
    {
     "data": {
      "image/png": "[encoded data removed]",
      "text/plain": [
       "<Figure size 640x480 with 1 Axes>"
      ]
     },
     "metadata": {},
     "output_type": "display_data"
    }
   ],
   "source": [
    "sns.barplot(data = df, x = \"salary\", y=\"attrition\", color= \"red\")"
   ]
  },
  {
   "cell_type": "code",
   "execution_count": null,
   "metadata": {},
   "outputs": [
    {
     "name": "stdout",
     "output_type": "stream",
     "text": [
      "Para la columna salary los datos no siguen una distribución normal.\n"
     ]
    }
   ],
   "source": [
    "normalidad(df,\"salary\")"
   ]
  },
  {
   "cell_type": "code",
   "execution_count": null,
   "metadata": {},
   "outputs": [],
   "source": [
    "mannwhitneyu()"
   ]
  },
  {
   "cell_type": "code",
   "execution_count": null,
   "metadata": {},
   "outputs": [],
   "source": []
  },
  {
   "cell_type": "code",
   "execution_count": null,
   "metadata": {},
   "outputs": [],
   "source": []
  },
  {
   "cell_type": "code",
   "execution_count": null,
   "metadata": {},
   "outputs": [],
   "source": []
  },
  {
   "cell_type": "code",
   "execution_count": null,
   "metadata": {},
   "outputs": [],
   "source": []
  },
  {
   "cell_type": "code",
   "execution_count": null,
   "metadata": {},
   "outputs": [],
   "source": []
  },
  {
   "cell_type": "code",
   "execution_count": null,
   "metadata": {},
   "outputs": [],
   "source": []
  },
  {
   "cell_type": "code",
   "execution_count": null,
   "metadata": {},
   "outputs": [],
   "source": []
  },
  {
   "cell_type": "code",
   "execution_count": null,
   "metadata": {},
   "outputs": [],
   "source": []
  },
  {
   "cell_type": "code",
   "execution_count": null,
   "metadata": {},
   "outputs": [],
   "source": []
  },
  {
   "cell_type": "code",
   "execution_count": null,
   "metadata": {},
   "outputs": [],
   "source": []
  },
  {
   "cell_type": "code",
   "execution_count": null,
   "metadata": {},
   "outputs": [],
   "source": []
  },
  {
   "cell_type": "code",
   "execution_count": null,
   "metadata": {},
   "outputs": [],
   "source": []
  },
  {
   "cell_type": "code",
   "execution_count": null,
   "metadata": {},
   "outputs": [],
   "source": []
  },
  {
   "cell_type": "code",
   "execution_count": null,
   "metadata": {},
   "outputs": [],
   "source": []
  }
 ],
 "metadata": {
  "kernelspec": {
   "display_name": "base",
   "language": "python",
   "name": "python3"
  },
  "language_info": {
   "codemirror_mode": {
    "name": "ipython",
    "version": 3
   },
   "file_extension": ".py",
   "mimetype": "text/x-python",
   "name": "python",
   "nbconvert_exporter": "python",
   "pygments_lexer": "ipython3",
   "version": "3.12.4"
  }
 },
 "nbformat": 4,
 "nbformat_minor": 2
}
