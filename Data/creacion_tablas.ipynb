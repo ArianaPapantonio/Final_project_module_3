{
 "cells": [
  {
   "cell_type": "code",
   "execution_count": 1,
   "metadata": {},
   "outputs": [],
   "source": [
    "import pandas as pd\n",
    "import numpy as np\n",
    "pd.set_option('display.max_columns', None)"
   ]
  },
  {
   "cell_type": "code",
   "execution_count": 2,
   "metadata": {},
   "outputs": [
    {
     "data": {
      "text/html": [
       "<div>\n",
       "<style scoped>\n",
       "    .dataframe tbody tr th:only-of-type {\n",
       "        vertical-align: middle;\n",
       "    }\n",
       "\n",
       "    .dataframe tbody tr th {\n",
       "        vertical-align: top;\n",
       "    }\n",
       "\n",
       "    .dataframe thead th {\n",
       "        text-align: right;\n",
       "    }\n",
       "</style>\n",
       "<table border=\"1\" class=\"dataframe\">\n",
       "  <thead>\n",
       "    <tr style=\"text-align: right;\">\n",
       "      <th></th>\n",
       "      <th>attrition</th>\n",
       "      <th>businesstravel</th>\n",
       "      <th>department</th>\n",
       "      <th>educationfield</th>\n",
       "      <th>gender</th>\n",
       "      <th>jobrole</th>\n",
       "      <th>overtime</th>\n",
       "      <th>remotework</th>\n",
       "      <th>age</th>\n",
       "      <th>distancefromhome</th>\n",
       "      <th>education</th>\n",
       "      <th>employeenumber</th>\n",
       "      <th>environmentsatisfaction</th>\n",
       "      <th>jobinvolvement</th>\n",
       "      <th>joblevel</th>\n",
       "      <th>jobsatisfaction</th>\n",
       "      <th>monthlyincome</th>\n",
       "      <th>monthlyrate</th>\n",
       "      <th>numcompaniesworked</th>\n",
       "      <th>percentsalaryhike</th>\n",
       "      <th>performancerating</th>\n",
       "      <th>relationshipsatisfaction</th>\n",
       "      <th>stockoptionlevel</th>\n",
       "      <th>trainingtimeslastyear</th>\n",
       "      <th>worklifebalance</th>\n",
       "      <th>yearsatcompany</th>\n",
       "      <th>yearssincelastpromotion</th>\n",
       "      <th>yearswithcurrmanager</th>\n",
       "      <th>salary</th>\n",
       "    </tr>\n",
       "  </thead>\n",
       "  <tbody>\n",
       "    <tr>\n",
       "      <th>0</th>\n",
       "      <td>no</td>\n",
       "      <td>non travel</td>\n",
       "      <td>unknown</td>\n",
       "      <td>unknown</td>\n",
       "      <td>M</td>\n",
       "      <td>research director</td>\n",
       "      <td>no</td>\n",
       "      <td>yes</td>\n",
       "      <td>51</td>\n",
       "      <td>6</td>\n",
       "      <td>3</td>\n",
       "      <td>1</td>\n",
       "      <td>1</td>\n",
       "      <td>3</td>\n",
       "      <td>5</td>\n",
       "      <td>3</td>\n",
       "      <td>16280.83</td>\n",
       "      <td>42330.17</td>\n",
       "      <td>7</td>\n",
       "      <td>13</td>\n",
       "      <td>3</td>\n",
       "      <td>3</td>\n",
       "      <td>0</td>\n",
       "      <td>5</td>\n",
       "      <td>3</td>\n",
       "      <td>20</td>\n",
       "      <td>15</td>\n",
       "      <td>15</td>\n",
       "      <td>195370.00</td>\n",
       "    </tr>\n",
       "    <tr>\n",
       "      <th>1</th>\n",
       "      <td>no</td>\n",
       "      <td>non travel</td>\n",
       "      <td>unknown</td>\n",
       "      <td>life sciences</td>\n",
       "      <td>M</td>\n",
       "      <td>manager</td>\n",
       "      <td>NaN</td>\n",
       "      <td>yes</td>\n",
       "      <td>52</td>\n",
       "      <td>1</td>\n",
       "      <td>4</td>\n",
       "      <td>2</td>\n",
       "      <td>1</td>\n",
       "      <td>2</td>\n",
       "      <td>5</td>\n",
       "      <td>3</td>\n",
       "      <td>16665.83</td>\n",
       "      <td>43331.17</td>\n",
       "      <td>0</td>\n",
       "      <td>14</td>\n",
       "      <td>3</td>\n",
       "      <td>1</td>\n",
       "      <td>1</td>\n",
       "      <td>5</td>\n",
       "      <td>3</td>\n",
       "      <td>33</td>\n",
       "      <td>11</td>\n",
       "      <td>9</td>\n",
       "      <td>199990.00</td>\n",
       "    </tr>\n",
       "    <tr>\n",
       "      <th>2</th>\n",
       "      <td>no</td>\n",
       "      <td>travel rarely</td>\n",
       "      <td>research &amp; development</td>\n",
       "      <td>technical degree</td>\n",
       "      <td>M</td>\n",
       "      <td>manager</td>\n",
       "      <td>no</td>\n",
       "      <td>yes</td>\n",
       "      <td>42</td>\n",
       "      <td>4</td>\n",
       "      <td>2</td>\n",
       "      <td>3</td>\n",
       "      <td>1</td>\n",
       "      <td>3</td>\n",
       "      <td>5</td>\n",
       "      <td>4</td>\n",
       "      <td>16026.67</td>\n",
       "      <td>41669.33</td>\n",
       "      <td>1</td>\n",
       "      <td>11</td>\n",
       "      <td>3</td>\n",
       "      <td>4</td>\n",
       "      <td>0</td>\n",
       "      <td>3</td>\n",
       "      <td>3</td>\n",
       "      <td>22</td>\n",
       "      <td>11</td>\n",
       "      <td>15</td>\n",
       "      <td>192320.00</td>\n",
       "    </tr>\n",
       "    <tr>\n",
       "      <th>3</th>\n",
       "      <td>no</td>\n",
       "      <td>travel rarely</td>\n",
       "      <td>unknown</td>\n",
       "      <td>medical</td>\n",
       "      <td>F</td>\n",
       "      <td>research director</td>\n",
       "      <td>NaN</td>\n",
       "      <td>no</td>\n",
       "      <td>47</td>\n",
       "      <td>2</td>\n",
       "      <td>4</td>\n",
       "      <td>4</td>\n",
       "      <td>1</td>\n",
       "      <td>3</td>\n",
       "      <td>4</td>\n",
       "      <td>3</td>\n",
       "      <td>14307.50</td>\n",
       "      <td>37199.50</td>\n",
       "      <td>3</td>\n",
       "      <td>19</td>\n",
       "      <td>3</td>\n",
       "      <td>2</td>\n",
       "      <td>2</td>\n",
       "      <td>2</td>\n",
       "      <td>3</td>\n",
       "      <td>20</td>\n",
       "      <td>5</td>\n",
       "      <td>6</td>\n",
       "      <td>171690.00</td>\n",
       "    </tr>\n",
       "    <tr>\n",
       "      <th>4</th>\n",
       "      <td>no</td>\n",
       "      <td>non travel</td>\n",
       "      <td>unknown</td>\n",
       "      <td>technical degree</td>\n",
       "      <td>F</td>\n",
       "      <td>sales executive</td>\n",
       "      <td>no</td>\n",
       "      <td>no</td>\n",
       "      <td>46</td>\n",
       "      <td>3</td>\n",
       "      <td>3</td>\n",
       "      <td>5</td>\n",
       "      <td>1</td>\n",
       "      <td>4</td>\n",
       "      <td>4</td>\n",
       "      <td>1</td>\n",
       "      <td>12783.92</td>\n",
       "      <td>33238.20</td>\n",
       "      <td>2</td>\n",
       "      <td>12</td>\n",
       "      <td>3</td>\n",
       "      <td>4</td>\n",
       "      <td>1</td>\n",
       "      <td>5</td>\n",
       "      <td>3</td>\n",
       "      <td>19</td>\n",
       "      <td>2</td>\n",
       "      <td>8</td>\n",
       "      <td>153407.04</td>\n",
       "    </tr>\n",
       "  </tbody>\n",
       "</table>\n",
       "</div>"
      ],
      "text/plain": [
       "  attrition businesstravel                department    educationfield gender  \\\n",
       "0        no     non travel                   unknown           unknown      M   \n",
       "1        no     non travel                   unknown     life sciences      M   \n",
       "2        no  travel rarely   research & development   technical degree      M   \n",
       "3        no  travel rarely                   unknown           medical      F   \n",
       "4        no     non travel                   unknown  technical degree      F   \n",
       "\n",
       "               jobrole overtime remotework  age  distancefromhome  education  \\\n",
       "0   research director        no        yes   51                 6          3   \n",
       "1             manager       NaN        yes   52                 1          4   \n",
       "2             manager        no        yes   42                 4          2   \n",
       "3   research director       NaN         no   47                 2          4   \n",
       "4     sales executive        no         no   46                 3          3   \n",
       "\n",
       "   employeenumber  environmentsatisfaction  jobinvolvement  joblevel  \\\n",
       "0               1                        1               3         5   \n",
       "1               2                        1               2         5   \n",
       "2               3                        1               3         5   \n",
       "3               4                        1               3         4   \n",
       "4               5                        1               4         4   \n",
       "\n",
       "   jobsatisfaction  monthlyincome  monthlyrate  numcompaniesworked  \\\n",
       "0                3       16280.83     42330.17                   7   \n",
       "1                3       16665.83     43331.17                   0   \n",
       "2                4       16026.67     41669.33                   1   \n",
       "3                3       14307.50     37199.50                   3   \n",
       "4                1       12783.92     33238.20                   2   \n",
       "\n",
       "   percentsalaryhike  performancerating  relationshipsatisfaction  \\\n",
       "0                 13                  3                         3   \n",
       "1                 14                  3                         1   \n",
       "2                 11                  3                         4   \n",
       "3                 19                  3                         2   \n",
       "4                 12                  3                         4   \n",
       "\n",
       "   stockoptionlevel  trainingtimeslastyear  worklifebalance  yearsatcompany  \\\n",
       "0                 0                      5                3              20   \n",
       "1                 1                      5                3              33   \n",
       "2                 0                      3                3              22   \n",
       "3                 2                      2                3              20   \n",
       "4                 1                      5                3              19   \n",
       "\n",
       "   yearssincelastpromotion  yearswithcurrmanager     salary  \n",
       "0                       15                    15  195370.00  \n",
       "1                       11                     9  199990.00  \n",
       "2                       11                    15  192320.00  \n",
       "3                        5                     6  171690.00  \n",
       "4                        2                     8  153407.04  "
      ]
     },
     "execution_count": 2,
     "metadata": {},
     "output_type": "execute_result"
    }
   ],
   "source": [
    "df_limpio = pd.read_csv('data_limpia_1.csv', index_col=0)\n",
    "df_limpio.head()"
   ]
  },
  {
   "cell_type": "code",
   "execution_count": 3,
   "metadata": {},
   "outputs": [
    {
     "data": {
      "text/plain": [
       "Index(['attrition', 'businesstravel', 'department', 'educationfield', 'gender',\n",
       "       'jobrole', 'overtime', 'remotework', 'age', 'distancefromhome',\n",
       "       'education', 'employeenumber', 'environmentsatisfaction',\n",
       "       'jobinvolvement', 'joblevel', 'jobsatisfaction', 'monthlyincome',\n",
       "       'monthlyrate', 'numcompaniesworked', 'percentsalaryhike',\n",
       "       'performancerating', 'relationshipsatisfaction', 'stockoptionlevel',\n",
       "       'trainingtimeslastyear', 'worklifebalance', 'yearsatcompany',\n",
       "       'yearssincelastpromotion', 'yearswithcurrmanager', 'salary'],\n",
       "      dtype='object')"
      ]
     },
     "execution_count": 3,
     "metadata": {},
     "output_type": "execute_result"
    }
   ],
   "source": [
    "df_limpio.columns"
   ]
  },
  {
   "cell_type": "code",
   "execution_count": null,
   "metadata": {},
   "outputs": [],
   "source": [
    "## Dividimos las columnas del DF por cada tabla para crear en SQL.  "
   ]
  },
  {
   "cell_type": "code",
   "execution_count": 16,
   "metadata": {},
   "outputs": [],
   "source": [
    "info_personal = ['employeenumber','age','gender', 'education', 'educationfield']"
   ]
  },
  {
   "cell_type": "code",
   "execution_count": 4,
   "metadata": {},
   "outputs": [],
   "source": [
    "info_satisfaction = ['employeenumber', 'environmentsatisfaction','relationshipsatisfaction', 'jobsatisfaction','jobinvolvement','performancerating','worklifebalance']"
   ]
  },
  {
   "cell_type": "code",
   "execution_count": 3,
   "metadata": {},
   "outputs": [],
   "source": [
    "info_salario = ['employeenumber','monthlyincome','monthlyrate','percentsalaryhike','salary']"
   ]
  },
  {
   "cell_type": "code",
   "execution_count": 23,
   "metadata": {},
   "outputs": [],
   "source": [
    "info_trabajo = ['employeenumber', 'attrition', 'businesstravel', 'jobrole','department', 'joblevel','overtime', 'remotework','distancefromhome', 'numcompaniesworked', 'trainingtimeslastyear',  'yearsatcompany',\n",
    "       'yearssincelastpromotion', 'yearswithcurrmanager','stockoptionlevel']"
   ]
  },
  {
   "cell_type": "code",
   "execution_count": null,
   "metadata": {},
   "outputs": [],
   "source": [
    "## Creamos 4 dataframes (uno por tabla) y pasamos a CSV"
   ]
  },
  {
   "cell_type": "code",
   "execution_count": null,
   "metadata": {},
   "outputs": [],
   "source": [
    "\n",
    "df_info_personal = df_limpio[info_personal]"
   ]
  },
  {
   "cell_type": "code",
   "execution_count": 29,
   "metadata": {},
   "outputs": [],
   "source": [
    "df_info_personal.to_csv(\"info_personal.csv\", index=True)"
   ]
  },
  {
   "cell_type": "code",
   "execution_count": 5,
   "metadata": {},
   "outputs": [],
   "source": [
    "df_info_satisfaction = df_limpio[info_satisfaction]"
   ]
  },
  {
   "cell_type": "code",
   "execution_count": 6,
   "metadata": {},
   "outputs": [],
   "source": [
    "df_info_satisfaction.to_csv(\"info_satisfaction_1.csv\", index=True)"
   ]
  },
  {
   "cell_type": "code",
   "execution_count": 7,
   "metadata": {},
   "outputs": [],
   "source": [
    "df_info_salario = df_limpio[info_salario]"
   ]
  },
  {
   "cell_type": "code",
   "execution_count": 8,
   "metadata": {},
   "outputs": [],
   "source": [
    "df_info_salario.to_csv(\"info_salario_1.csv\", index=True)"
   ]
  },
  {
   "cell_type": "code",
   "execution_count": 38,
   "metadata": {},
   "outputs": [],
   "source": [
    "df_info_trabajo = df_limpio[info_trabajo]"
   ]
  },
  {
   "cell_type": "code",
   "execution_count": 39,
   "metadata": {},
   "outputs": [],
   "source": [
    "df_info_trabajo.to_csv(\"info_trabajo.csv\", index=True)"
   ]
  }
 ],
 "metadata": {
  "kernelspec": {
   "display_name": "base",
   "language": "python",
   "name": "python3"
  },
  "language_info": {
   "codemirror_mode": {
    "name": "ipython",
    "version": 3
   },
   "file_extension": ".py",
   "mimetype": "text/x-python",
   "name": "python",
   "nbconvert_exporter": "python",
   "pygments_lexer": "ipython3",
   "version": "3.12.4"
  }
 },
 "nbformat": 4,
 "nbformat_minor": 2
}
