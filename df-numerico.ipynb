{
 "cells": [
  {
   "cell_type": "code",
   "execution_count": 2,
   "metadata": {},
   "outputs": [],
   "source": [
    "import pandas as pd\n",
    "import numpy as np"
   ]
  },
  {
   "cell_type": "code",
   "execution_count": null,
   "metadata": {},
   "outputs": [],
   "source": [
    "# Crear un dataframe\n",
    "df = pd.read_csv('hr_raw_data_final.csv', index_col=0) ## Añadimos index col para eliminar columna 'Unnamed'"
   ]
  },
  {
   "cell_type": "code",
   "execution_count": null,
   "metadata": {},
   "outputs": [],
   "source": [
    "# Separar las columnas numéricas y categóricas\n",
    "df_numericos = df.select_dtypes(include=['number'])  # Selecciona columnas numéricas\n",
    "df_categoricos = df.select_dtypes(include=['object'])  # Selecciona columnas categóricas"
   ]
  },
  {
   "cell_type": "code",
   "execution_count": null,
   "metadata": {},
   "outputs": [],
   "source": [
    "df_numericos.info()"
   ]
  },
  {
   "cell_type": "code",
   "execution_count": null,
   "metadata": {},
   "outputs": [],
   "source": [
    "df_categoricos"
   ]
  },
  {
   "cell_type": "code",
   "execution_count": null,
   "metadata": {},
   "outputs": [],
   "source": [
    "df_numericos"
   ]
  },
  {
   "cell_type": "markdown",
   "metadata": {},
   "source": [
    "## Información columnas y posibles cambios: \n",
    "\n",
    "#### Columna 'dailyrate': \n",
    "\n",
    "Info: \n",
    "- Descripción: La tarifa diaria del empleado.\n",
    "- Datatype: float64 (no redondeado) \n",
    "- Duplicados: N/A (el salario diario puede repetirse por empleado)\n",
    "- Nulos: 0 / En caso se ser mayoría de nulos, puede completarse con otra columna?: \n",
    "- Columna similar: N/A\n",
    "- Mantener como columna numérica? Si\n",
    "- Unique: n/a (son muchos)\n",
    "- Value_counts: n/a (son muchos)\n",
    "\n",
    "\n",
    "Observaciones / Posibles cambios:\n",
    "- Mover el decimal una posición a la izquierda (EJ: fila 1677, el hourly rate es 69.532083 y el dailyrate es 556.256661. Si movemos el decimal y dividimos 55.6256661 por 8, da 6.9532083)\n",
    "- Redondear a dos decimales? \n",
    "\n",
    "#### Columna 'distancefromhome': \n",
    "\n",
    "Info: \n",
    "- Descripción: La distancia desde el hogar del empleado hasta su lugar de trabajo.\n",
    "- Datatype: int64\n",
    "- Duplicados: N/A (la distancia puede repetirse por empleado)\n",
    "- Nulos: 0 / En caso se ser mayoría de nulos, puede completarse con otra columna?: \n",
    "- Columna similar: N/A\n",
    "- Mantener como columna numérica? Si\n",
    "- Unique: n/a (son muchos)\n",
    "- Value_counts: n/a (son muchos)\n",
    "\n",
    "Observaciones / Posibles cambios:\n",
    "- Hay distancias negativas (202). Verificar si es posible cambiar a positivo (los km no pueden ser negativos)\n",
    "\n",
    "-- Contar cuántos valores negativos hay en la columna \"distancefromhome\": \n",
    "negativos = (df[\"distancefromhome\"] < 0).sum()\n",
    "print(f\"Número de valores negativos en 'distancefromhome': {negativos}\")-- \n",
    "\n",
    "#### Columna 'education': \n",
    "\n",
    "Info: \n",
    "- Descripción: Nivel de educación del empleado (generalmente en una escala del 1 al 5).\n",
    "- Datatype: int64\n",
    "- Duplicados: N/A (la education puede repetirse por empleado)\n",
    "- Nulos: 0 / En caso se ser mayoría de nulos, puede completarse con otra columna?: No en esta, pero quizas si en la columna educationfield por medio del education level. \n",
    "- Columna similar: educationfield?\n",
    "- Mantener como columna numérica? Si\n",
    "- Unique: [3, 4, 2, 1, 5]\n",
    "- Value counts: \n",
    "3    649\n",
    "4    461\n",
    "2    322\n",
    "1    186\n",
    "5     60\n",
    "\n",
    "Observaciones / Posibles cambios:\n",
    "- Ver si tiene relación con la columna categorica 'educationfield'. Ver en comprobaciones el código de contingencia: \n",
    "\n",
    "#Ver contingencia entre las dos tablas: (para verificar si hay relacion entre education y field) \n",
    "contingency_table = pd.crosstab(df['education'], df['educationfield'])\n",
    "contingency_table\n",
    "\n",
    "#### Columna 'employeecount': \n",
    "\n",
    "Info: \n",
    "- Descripción: Un contador que generalmente es 1 y se usa para contar empleados.\n",
    "- Datatype: int64\n",
    "- Duplicados: N/A (siempre es 1)\n",
    "- Nulos: 0 / En caso se ser mayoría de nulos, puede completarse con otra columna?: N/A\n",
    "- Columna similar: N/A\n",
    "- Mantener como columna numérica? Si\n",
    "- Unique: 1\n",
    "- Value counts: N/A\n",
    "\n",
    "Observaciones / Posibles cambios:\n",
    "- Ver si es útil o podemos eliminarlo. \n",
    "\n",
    "#### Columna 'employeenumber': \n",
    "\n",
    "Info: \n",
    "- Descripción: Un número de identificación único para el empleado.\n",
    "- Datatype: int64\n",
    "- Duplicados: 64\n",
    "- Nulos: 0 / En caso se ser mayoría de nulos, puede completarse con otra columna?: N/A\n",
    "- Columna similar: N/A\n",
    "- Mantener como columna numérica? Si\n",
    "- Unique: n/a (son muchos)\n",
    "- Value_counts: n/a (son muchos)\n",
    "\n",
    "Observaciones / Posibles cambios:\n",
    "- Eliminar duplicados. \n",
    "\n",
    "\n",
    "#### Columna 'environmentsatisfaction': \n",
    "\n",
    "Info: \n",
    "- Descripción: Nivel de satisfacción del empleado en relación con su entorno de trabajo. Con valores que estan comprendidos entre el 1 y el 4, siendo el 4 el nivel de máxima satisfacción. \n",
    "- Datatype: int64\n",
    "- Duplicados: 0\n",
    "- Nulos: 0 / En caso se ser mayoría de nulos, puede completarse con otra columna?: N/A\n",
    "- Columna similar: N/A\n",
    "- Mantener como columna numérica? Si\n",
    "- Unique: *Deberia ser del 1 al 4, pero va del 1 al 49*\n",
    "- Value_counts: (son muchos)\n",
    "\n",
    "Observaciones / Posibles cambios:\n",
    "- Ver si tiene que ver con el departamento o otra columna para modificar los datos. O si es posible que el 49 sea 4,9 o algo asi. \n"
   ]
  },
  {
   "cell_type": "markdown",
   "metadata": {},
   "source": [
    "## Comprobaciones"
   ]
  },
  {
   "cell_type": "code",
   "execution_count": null,
   "metadata": {},
   "outputs": [],
   "source": [
    "# Contar cuántos valores negativos hay una columna\n",
    "negativos1 = (df[\"XXXXXXXXX\"] < 0).sum()\n",
    "print(f\"Número de valores negativos en 'XXXXXXXXXX': {negativos1}\")"
   ]
  },
  {
   "cell_type": "code",
   "execution_count": null,
   "metadata": {},
   "outputs": [],
   "source": [
    "# Verificar duplicados\n",
    "df_numericos['XXXXXXXXXXXXXX'].duplicated().sum()\n"
   ]
  },
  {
   "cell_type": "code",
   "execution_count": null,
   "metadata": {},
   "outputs": [],
   "source": [
    "#Ver nulos\n",
    "df_numericos['XXXXXXXXXXX'].isnull().sum()"
   ]
  },
  {
   "cell_type": "code",
   "execution_count": null,
   "metadata": {},
   "outputs": [],
   "source": [
    "df_numericos[\"XXXXXXXXXX\"].unique()"
   ]
  },
  {
   "cell_type": "code",
   "execution_count": null,
   "metadata": {},
   "outputs": [],
   "source": [
    "df_numericos['XXXXXXXXXX'].value_counts()"
   ]
  },
  {
   "cell_type": "code",
   "execution_count": null,
   "metadata": {},
   "outputs": [],
   "source": []
  }
 ],
 "metadata": {
  "kernelspec": {
   "display_name": "base",
   "language": "python",
   "name": "python3"
  },
  "language_info": {
   "codemirror_mode": {
    "name": "ipython",
    "version": 3
   },
   "file_extension": ".py",
   "mimetype": "text/x-python",
   "name": "python",
   "nbconvert_exporter": "python",
   "pygments_lexer": "ipython3",
   "version": "3.12.4"
  }
 },
 "nbformat": 4,
 "nbformat_minor": 2
}
