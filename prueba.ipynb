{
 "cells": [
  {
   "cell_type": "markdown",
   "metadata": {},
   "source": [
    "- En la columna de \"genre\" cambiar los valores 0 y 1 a M y F\n",
    "- En la columna de \"Distancefromhome\" quitar los valores negativos \n",
    "- Evaluar las columnas que necesitamos \n",
    "- Ver si hay errores ortográficos\n",
    "- Quitar las columnas que nos da la misma informacion en otras las columnas \n",
    "- Columnas que queremos quitar: \n",
    "    - Unnamed\n",
    "    - Employedcount\n",
    "    - sameAsMonthlyIncome\n",
    "    - roledepartament\n",
    "    - joblevel\n",
    "- True, 1, yes es igual\n",
    "- False, 0, no es igual"
   ]
  },
  {
   "cell_type": "code",
   "execution_count": null,
   "metadata": {},
   "outputs": [],
   "source": []
  },
  {
   "cell_type": "code",
   "execution_count": null,
   "metadata": {},
   "outputs": [],
   "source": []
  },
  {
   "cell_type": "code",
   "execution_count": null,
   "metadata": {},
   "outputs": [],
   "source": []
  },
  {
   "cell_type": "code",
   "execution_count": null,
   "metadata": {},
   "outputs": [],
   "source": []
  },
  {
   "cell_type": "code",
   "execution_count": null,
   "metadata": {},
   "outputs": [],
   "source": []
  },
  {
   "cell_type": "code",
   "execution_count": null,
   "metadata": {},
   "outputs": [],
   "source": []
  },
  {
   "cell_type": "code",
   "execution_count": null,
   "metadata": {},
   "outputs": [],
   "source": []
  }
 ],
 "metadata": {
  "kernelspec": {
   "display_name": "base",
   "language": "python",
   "name": "python3"
  },
  "language_info": {
   "name": "python",
   "version": "3.12.4"
  }
 },
 "nbformat": 4,
 "nbformat_minor": 2
}
