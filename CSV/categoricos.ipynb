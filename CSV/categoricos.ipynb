{
 "cells": [
  {
   "cell_type": "code",
   "execution_count": 1,
   "metadata": {},
   "outputs": [],
   "source": [
    "import pandas as pd\n",
    "import numpy as np\n"
   ]
  },
  {
   "cell_type": "code",
   "execution_count": 2,
   "metadata": {},
   "outputs": [],
   "source": [
    "pd.set_option('display.max_columns', None)"
   ]
  },
  {
   "cell_type": "markdown",
   "metadata": {},
   "source": [
    "- Tenemos que crear DataFrames de las columnas numéricas y categóricas por separado.\n",
    "- Nos damos cuenta que algunas columnas que deberían ser numéricas están en categóricas y viceversa, como por ejemplo la coluna 'age' que está en categórica y pertenece a numérica\n",
    "- Procedemos al cambio de las clumnas con sus respectivas tipologías"
   ]
  },
  {
   "cell_type": "code",
   "execution_count": 3,
   "metadata": {},
   "outputs": [],
   "source": [
    "df_numericos = pd.read_csv('numericos.csv', index_col=0)"
   ]
  },
  {
   "cell_type": "code",
   "execution_count": 4,
   "metadata": {},
   "outputs": [
    {
     "data": {
      "text/plain": [
       "age\n",
       "31    89\n",
       "35    88\n",
       "34    86\n",
       "29    82\n",
       "36    80\n",
       "32    68\n",
       "30    66\n",
       "38    64\n",
       "33    63\n",
       "40    60\n",
       "37    55\n",
       "28    54\n",
       "27    54\n",
       "45    50\n",
       "42    50\n",
       "41    48\n",
       "26    47\n",
       "39    46\n",
       "43    42\n",
       "46    38\n",
       "44    34\n",
       "50    34\n",
       "24    31\n",
       "47    31\n",
       "25    28\n",
       "49    26\n",
       "55    26\n",
       "51    22\n",
       "48    22\n",
       "54    20\n",
       "53    20\n",
       "52    19\n",
       "56    18\n",
       "58    17\n",
       "22    17\n",
       "21    17\n",
       "23    15\n",
       "59    11\n",
       "20    11\n",
       "19     9\n",
       "18     9\n",
       "57     6\n",
       "60     5\n",
       "Name: count, dtype: int64"
      ]
     },
     "execution_count": 4,
     "metadata": {},
     "output_type": "execute_result"
    }
   ],
   "source": [
    "# Muestra los valores de 'age'\n",
    "df_numericos['age'].value_counts()"
   ]
  },
  {
   "cell_type": "code",
   "execution_count": 5,
   "metadata": {},
   "outputs": [],
   "source": [
    "df_categoricos=pd.read_csv(\"categoricos.csv\", index_col=0)"
   ]
  },
  {
   "cell_type": "code",
   "execution_count": 6,
   "metadata": {},
   "outputs": [
    {
     "data": {
      "text/html": [
       "<div>\n",
       "<style scoped>\n",
       "    .dataframe tbody tr th:only-of-type {\n",
       "        vertical-align: middle;\n",
       "    }\n",
       "\n",
       "    .dataframe tbody tr th {\n",
       "        vertical-align: top;\n",
       "    }\n",
       "\n",
       "    .dataframe thead th {\n",
       "        text-align: right;\n",
       "    }\n",
       "</style>\n",
       "<table border=\"1\" class=\"dataframe\">\n",
       "  <thead>\n",
       "    <tr style=\"text-align: right;\">\n",
       "      <th></th>\n",
       "      <th>attrition</th>\n",
       "      <th>businesstravel</th>\n",
       "      <th>department</th>\n",
       "      <th>educationfield</th>\n",
       "      <th>gender</th>\n",
       "      <th>jobrole</th>\n",
       "      <th>maritalstatus</th>\n",
       "      <th>over18</th>\n",
       "      <th>overtime</th>\n",
       "      <th>standardhours</th>\n",
       "      <th>roledepartament</th>\n",
       "      <th>remotework</th>\n",
       "    </tr>\n",
       "  </thead>\n",
       "  <tbody>\n",
       "    <tr>\n",
       "      <th>0</th>\n",
       "      <td>No</td>\n",
       "      <td>NaN</td>\n",
       "      <td>NaN</td>\n",
       "      <td>NaN</td>\n",
       "      <td>0</td>\n",
       "      <td>resEArch DIREcToR</td>\n",
       "      <td>NaN</td>\n",
       "      <td>Y</td>\n",
       "      <td>No</td>\n",
       "      <td>Full Time</td>\n",
       "      <td>NaN</td>\n",
       "      <td>Yes</td>\n",
       "    </tr>\n",
       "    <tr>\n",
       "      <th>1</th>\n",
       "      <td>No</td>\n",
       "      <td>NaN</td>\n",
       "      <td>NaN</td>\n",
       "      <td>Life Sciences</td>\n",
       "      <td>0</td>\n",
       "      <td>ManAGeR</td>\n",
       "      <td>NaN</td>\n",
       "      <td>NaN</td>\n",
       "      <td>NaN</td>\n",
       "      <td>NaN</td>\n",
       "      <td>NaN</td>\n",
       "      <td>1</td>\n",
       "    </tr>\n",
       "    <tr>\n",
       "      <th>2</th>\n",
       "      <td>No</td>\n",
       "      <td>travel_rarely</td>\n",
       "      <td>Research &amp; Development</td>\n",
       "      <td>Technical Degree</td>\n",
       "      <td>0</td>\n",
       "      <td>ManaGER</td>\n",
       "      <td>Married</td>\n",
       "      <td>NaN</td>\n",
       "      <td>No</td>\n",
       "      <td>NaN</td>\n",
       "      <td>ManaGER  -  Research &amp; Development</td>\n",
       "      <td>1</td>\n",
       "    </tr>\n",
       "    <tr>\n",
       "      <th>3</th>\n",
       "      <td>No</td>\n",
       "      <td>travel_rarely</td>\n",
       "      <td>NaN</td>\n",
       "      <td>Medical</td>\n",
       "      <td>1</td>\n",
       "      <td>ReseArCH DIrECtOr</td>\n",
       "      <td>Married</td>\n",
       "      <td>Y</td>\n",
       "      <td>NaN</td>\n",
       "      <td>Full Time</td>\n",
       "      <td>NaN</td>\n",
       "      <td>False</td>\n",
       "    </tr>\n",
       "    <tr>\n",
       "      <th>4</th>\n",
       "      <td>No</td>\n",
       "      <td>NaN</td>\n",
       "      <td>NaN</td>\n",
       "      <td>Technical Degree</td>\n",
       "      <td>1</td>\n",
       "      <td>sAleS EXECUtIve</td>\n",
       "      <td>Divorced</td>\n",
       "      <td>Y</td>\n",
       "      <td>No</td>\n",
       "      <td>NaN</td>\n",
       "      <td>NaN</td>\n",
       "      <td>0</td>\n",
       "    </tr>\n",
       "  </tbody>\n",
       "</table>\n",
       "</div>"
      ],
      "text/plain": [
       "  attrition businesstravel                department    educationfield  \\\n",
       "0        No            NaN                       NaN               NaN   \n",
       "1        No            NaN                       NaN     Life Sciences   \n",
       "2        No  travel_rarely   Research & Development   Technical Degree   \n",
       "3        No  travel_rarely                       NaN           Medical   \n",
       "4        No            NaN                       NaN  Technical Degree   \n",
       "\n",
       "   gender              jobrole maritalstatus over18 overtime standardhours  \\\n",
       "0       0   resEArch DIREcToR            NaN      Y       No     Full Time   \n",
       "1       0             ManAGeR            NaN    NaN      NaN           NaN   \n",
       "2       0             ManaGER        Married    NaN       No           NaN   \n",
       "3       1   ReseArCH DIrECtOr        Married      Y      NaN     Full Time   \n",
       "4       1     sAleS EXECUtIve       Divorced      Y       No           NaN   \n",
       "\n",
       "                        roledepartament remotework  \n",
       "0                                   NaN        Yes  \n",
       "1                                   NaN          1  \n",
       "2   ManaGER  -  Research & Development           1  \n",
       "3                                   NaN      False  \n",
       "4                                   NaN          0  "
      ]
     },
     "execution_count": 6,
     "metadata": {},
     "output_type": "execute_result"
    }
   ],
   "source": [
    "#  Muestra las primeras 5 filas\n",
    "df_categoricos.head()"
   ]
  },
  {
   "cell_type": "markdown",
   "metadata": {},
   "source": [
    "- Vamos a empezar a sacar información de cada columna"
   ]
  },
  {
   "cell_type": "code",
   "execution_count": 7,
   "metadata": {},
   "outputs": [
    {
     "data": {
      "text/plain": [
       "roledepartament\n",
       "rESEArcH SCiEntIst  -  Research & Development            2\n",
       "MaNAgeR  -  Sales                                        2\n",
       "hEalthCaRe reprEseNTaTiVe  -  Research & Development     2\n",
       "SaleS EXeCuTivE  -  Sales                                2\n",
       "labORAtoRy tEcHNICIAN  -  Research & Development         2\n",
       "                                                        ..\n",
       "labORaTORY teChNIcIaN  -  Research & Development         1\n",
       "saLES eXEcUTiVE  -  Sales                                1\n",
       "mANUfacTURiNG dIRectOR  -  Research & Development        1\n",
       "huMAn ResOurces  -  Human Resources                      1\n",
       "sAleS EXECUtIvE  -  Sales                                1\n",
       "Name: count, Length: 301, dtype: int64"
      ]
     },
     "execution_count": 7,
     "metadata": {},
     "output_type": "execute_result"
    }
   ],
   "source": [
    "# Muestra los valores\n",
    "df_categoricos[\"roledepartament\"].value_counts()"
   ]
  },
  {
   "cell_type": "code",
   "execution_count": 8,
   "metadata": {},
   "outputs": [
    {
     "data": {
      "text/plain": [
       "jobrole\n",
       "mANager                    5\n",
       "ManagEr                    3\n",
       "mAnageR                    3\n",
       "maNaGeR                    3\n",
       "MANAgER                    3\n",
       "                          ..\n",
       "RESeaRCh sCientIsT         1\n",
       "reseARCH sCIEntiST         1\n",
       "REseaRCh SCiENTIst         1\n",
       "LabOrATory TEChNICiaN      1\n",
       "mAnUfactURInG DiRECTOr     1\n",
       "Name: count, Length: 1579, dtype: int64"
      ]
     },
     "execution_count": 8,
     "metadata": {},
     "output_type": "execute_result"
    }
   ],
   "source": [
    "df_categoricos[\"jobrole\"].value_counts()"
   ]
  },
  {
   "cell_type": "code",
   "execution_count": 9,
   "metadata": {},
   "outputs": [],
   "source": [
    "# CAMNBIO DE NÚMEROS A LETRAS \n",
    "diccionario_gender={0: \"M\", 1: \"F\"}"
   ]
  },
  {
   "cell_type": "code",
   "execution_count": 10,
   "metadata": {},
   "outputs": [],
   "source": [
    "# Se realzia con un mapeo\n",
    "df_categoricos[\"gender\"]=df_categoricos[\"gender\"].map(diccionario_gender)"
   ]
  },
  {
   "cell_type": "code",
   "execution_count": 11,
   "metadata": {},
   "outputs": [
    {
     "data": {
      "text/html": [
       "<div>\n",
       "<style scoped>\n",
       "    .dataframe tbody tr th:only-of-type {\n",
       "        vertical-align: middle;\n",
       "    }\n",
       "\n",
       "    .dataframe tbody tr th {\n",
       "        vertical-align: top;\n",
       "    }\n",
       "\n",
       "    .dataframe thead th {\n",
       "        text-align: right;\n",
       "    }\n",
       "</style>\n",
       "<table border=\"1\" class=\"dataframe\">\n",
       "  <thead>\n",
       "    <tr style=\"text-align: right;\">\n",
       "      <th></th>\n",
       "      <th>attrition</th>\n",
       "      <th>businesstravel</th>\n",
       "      <th>department</th>\n",
       "      <th>educationfield</th>\n",
       "      <th>gender</th>\n",
       "      <th>jobrole</th>\n",
       "      <th>maritalstatus</th>\n",
       "      <th>over18</th>\n",
       "      <th>overtime</th>\n",
       "      <th>standardhours</th>\n",
       "      <th>roledepartament</th>\n",
       "      <th>remotework</th>\n",
       "    </tr>\n",
       "  </thead>\n",
       "  <tbody>\n",
       "    <tr>\n",
       "      <th>0</th>\n",
       "      <td>No</td>\n",
       "      <td>NaN</td>\n",
       "      <td>NaN</td>\n",
       "      <td>NaN</td>\n",
       "      <td>M</td>\n",
       "      <td>resEArch DIREcToR</td>\n",
       "      <td>NaN</td>\n",
       "      <td>Y</td>\n",
       "      <td>No</td>\n",
       "      <td>Full Time</td>\n",
       "      <td>NaN</td>\n",
       "      <td>Yes</td>\n",
       "    </tr>\n",
       "    <tr>\n",
       "      <th>1</th>\n",
       "      <td>No</td>\n",
       "      <td>NaN</td>\n",
       "      <td>NaN</td>\n",
       "      <td>Life Sciences</td>\n",
       "      <td>M</td>\n",
       "      <td>ManAGeR</td>\n",
       "      <td>NaN</td>\n",
       "      <td>NaN</td>\n",
       "      <td>NaN</td>\n",
       "      <td>NaN</td>\n",
       "      <td>NaN</td>\n",
       "      <td>1</td>\n",
       "    </tr>\n",
       "    <tr>\n",
       "      <th>2</th>\n",
       "      <td>No</td>\n",
       "      <td>travel_rarely</td>\n",
       "      <td>Research &amp; Development</td>\n",
       "      <td>Technical Degree</td>\n",
       "      <td>M</td>\n",
       "      <td>ManaGER</td>\n",
       "      <td>Married</td>\n",
       "      <td>NaN</td>\n",
       "      <td>No</td>\n",
       "      <td>NaN</td>\n",
       "      <td>ManaGER  -  Research &amp; Development</td>\n",
       "      <td>1</td>\n",
       "    </tr>\n",
       "    <tr>\n",
       "      <th>3</th>\n",
       "      <td>No</td>\n",
       "      <td>travel_rarely</td>\n",
       "      <td>NaN</td>\n",
       "      <td>Medical</td>\n",
       "      <td>F</td>\n",
       "      <td>ReseArCH DIrECtOr</td>\n",
       "      <td>Married</td>\n",
       "      <td>Y</td>\n",
       "      <td>NaN</td>\n",
       "      <td>Full Time</td>\n",
       "      <td>NaN</td>\n",
       "      <td>False</td>\n",
       "    </tr>\n",
       "    <tr>\n",
       "      <th>4</th>\n",
       "      <td>No</td>\n",
       "      <td>NaN</td>\n",
       "      <td>NaN</td>\n",
       "      <td>Technical Degree</td>\n",
       "      <td>F</td>\n",
       "      <td>sAleS EXECUtIve</td>\n",
       "      <td>Divorced</td>\n",
       "      <td>Y</td>\n",
       "      <td>No</td>\n",
       "      <td>NaN</td>\n",
       "      <td>NaN</td>\n",
       "      <td>0</td>\n",
       "    </tr>\n",
       "  </tbody>\n",
       "</table>\n",
       "</div>"
      ],
      "text/plain": [
       "  attrition businesstravel                department    educationfield gender  \\\n",
       "0        No            NaN                       NaN               NaN      M   \n",
       "1        No            NaN                       NaN     Life Sciences      M   \n",
       "2        No  travel_rarely   Research & Development   Technical Degree      M   \n",
       "3        No  travel_rarely                       NaN           Medical      F   \n",
       "4        No            NaN                       NaN  Technical Degree      F   \n",
       "\n",
       "               jobrole maritalstatus over18 overtime standardhours  \\\n",
       "0   resEArch DIREcToR            NaN      Y       No     Full Time   \n",
       "1             ManAGeR            NaN    NaN      NaN           NaN   \n",
       "2             ManaGER        Married    NaN       No           NaN   \n",
       "3   ReseArCH DIrECtOr        Married      Y      NaN     Full Time   \n",
       "4     sAleS EXECUtIve       Divorced      Y       No           NaN   \n",
       "\n",
       "                        roledepartament remotework  \n",
       "0                                   NaN        Yes  \n",
       "1                                   NaN          1  \n",
       "2   ManaGER  -  Research & Development           1  \n",
       "3                                   NaN      False  \n",
       "4                                   NaN          0  "
      ]
     },
     "execution_count": 11,
     "metadata": {},
     "output_type": "execute_result"
    }
   ],
   "source": [
    "# Se comprueba\n",
    "df_categoricos.head()"
   ]
  },
  {
   "cell_type": "code",
   "execution_count": 12,
   "metadata": {},
   "outputs": [
    {
     "data": {
      "text/plain": [
       "remotework\n",
       "1        375\n",
       "True     362\n",
       "False    318\n",
       "0        318\n",
       "Yes      305\n",
       "Name: count, dtype: int64"
      ]
     },
     "execution_count": 12,
     "metadata": {},
     "output_type": "execute_result"
    }
   ],
   "source": [
    "df_categoricos[\"remotework\"].value_counts()"
   ]
  },
  {
   "cell_type": "code",
   "execution_count": 13,
   "metadata": {},
   "outputs": [],
   "source": [
    "df_categoricos['remotework'] = df_categoricos['remotework'].replace({'0': 'no', '1': 'yes', 'True': 'yes', 'False': 'no', 'Yes': 'yes'})"
   ]
  },
  {
   "cell_type": "code",
   "execution_count": 14,
   "metadata": {},
   "outputs": [
    {
     "data": {
      "text/plain": [
       "businesstravel\n",
       "travel_rarely        616\n",
       "travel_frequently    168\n",
       "non-travel            93\n",
       "Name: count, dtype: int64"
      ]
     },
     "execution_count": 14,
     "metadata": {},
     "output_type": "execute_result"
    }
   ],
   "source": [
    "df_categoricos['businesstravel'].value_counts()"
   ]
  },
  {
   "cell_type": "code",
   "execution_count": 15,
   "metadata": {},
   "outputs": [],
   "source": [
    "#quitar \"-\" y \"_\" de la columna businesstravel: \n",
    "df_categoricos[\"businesstravel\"] = df_categoricos[\"businesstravel\"].str.replace('_', ' ', regex=False).str.replace('-', ' ', regex=False)"
   ]
  },
  {
   "cell_type": "code",
   "execution_count": 16,
   "metadata": {},
   "outputs": [
    {
     "data": {
      "text/html": [
       "<div>\n",
       "<style scoped>\n",
       "    .dataframe tbody tr th:only-of-type {\n",
       "        vertical-align: middle;\n",
       "    }\n",
       "\n",
       "    .dataframe tbody tr th {\n",
       "        vertical-align: top;\n",
       "    }\n",
       "\n",
       "    .dataframe thead th {\n",
       "        text-align: right;\n",
       "    }\n",
       "</style>\n",
       "<table border=\"1\" class=\"dataframe\">\n",
       "  <thead>\n",
       "    <tr style=\"text-align: right;\">\n",
       "      <th></th>\n",
       "      <th>attrition</th>\n",
       "      <th>businesstravel</th>\n",
       "      <th>department</th>\n",
       "      <th>educationfield</th>\n",
       "      <th>gender</th>\n",
       "      <th>jobrole</th>\n",
       "      <th>maritalstatus</th>\n",
       "      <th>over18</th>\n",
       "      <th>overtime</th>\n",
       "      <th>standardhours</th>\n",
       "      <th>roledepartament</th>\n",
       "      <th>remotework</th>\n",
       "    </tr>\n",
       "  </thead>\n",
       "  <tbody>\n",
       "    <tr>\n",
       "      <th>0</th>\n",
       "      <td>No</td>\n",
       "      <td>NaN</td>\n",
       "      <td>NaN</td>\n",
       "      <td>NaN</td>\n",
       "      <td>M</td>\n",
       "      <td>resEArch DIREcToR</td>\n",
       "      <td>NaN</td>\n",
       "      <td>Y</td>\n",
       "      <td>No</td>\n",
       "      <td>Full Time</td>\n",
       "      <td>NaN</td>\n",
       "      <td>yes</td>\n",
       "    </tr>\n",
       "    <tr>\n",
       "      <th>1</th>\n",
       "      <td>No</td>\n",
       "      <td>NaN</td>\n",
       "      <td>NaN</td>\n",
       "      <td>Life Sciences</td>\n",
       "      <td>M</td>\n",
       "      <td>ManAGeR</td>\n",
       "      <td>NaN</td>\n",
       "      <td>NaN</td>\n",
       "      <td>NaN</td>\n",
       "      <td>NaN</td>\n",
       "      <td>NaN</td>\n",
       "      <td>yes</td>\n",
       "    </tr>\n",
       "    <tr>\n",
       "      <th>2</th>\n",
       "      <td>No</td>\n",
       "      <td>travel rarely</td>\n",
       "      <td>Research &amp; Development</td>\n",
       "      <td>Technical Degree</td>\n",
       "      <td>M</td>\n",
       "      <td>ManaGER</td>\n",
       "      <td>Married</td>\n",
       "      <td>NaN</td>\n",
       "      <td>No</td>\n",
       "      <td>NaN</td>\n",
       "      <td>ManaGER  -  Research &amp; Development</td>\n",
       "      <td>yes</td>\n",
       "    </tr>\n",
       "    <tr>\n",
       "      <th>3</th>\n",
       "      <td>No</td>\n",
       "      <td>travel rarely</td>\n",
       "      <td>NaN</td>\n",
       "      <td>Medical</td>\n",
       "      <td>F</td>\n",
       "      <td>ReseArCH DIrECtOr</td>\n",
       "      <td>Married</td>\n",
       "      <td>Y</td>\n",
       "      <td>NaN</td>\n",
       "      <td>Full Time</td>\n",
       "      <td>NaN</td>\n",
       "      <td>no</td>\n",
       "    </tr>\n",
       "    <tr>\n",
       "      <th>4</th>\n",
       "      <td>No</td>\n",
       "      <td>NaN</td>\n",
       "      <td>NaN</td>\n",
       "      <td>Technical Degree</td>\n",
       "      <td>F</td>\n",
       "      <td>sAleS EXECUtIve</td>\n",
       "      <td>Divorced</td>\n",
       "      <td>Y</td>\n",
       "      <td>No</td>\n",
       "      <td>NaN</td>\n",
       "      <td>NaN</td>\n",
       "      <td>no</td>\n",
       "    </tr>\n",
       "  </tbody>\n",
       "</table>\n",
       "</div>"
      ],
      "text/plain": [
       "  attrition businesstravel                department    educationfield gender  \\\n",
       "0        No            NaN                       NaN               NaN      M   \n",
       "1        No            NaN                       NaN     Life Sciences      M   \n",
       "2        No  travel rarely   Research & Development   Technical Degree      M   \n",
       "3        No  travel rarely                       NaN           Medical      F   \n",
       "4        No            NaN                       NaN  Technical Degree      F   \n",
       "\n",
       "               jobrole maritalstatus over18 overtime standardhours  \\\n",
       "0   resEArch DIREcToR            NaN      Y       No     Full Time   \n",
       "1             ManAGeR            NaN    NaN      NaN           NaN   \n",
       "2             ManaGER        Married    NaN       No           NaN   \n",
       "3   ReseArCH DIrECtOr        Married      Y      NaN     Full Time   \n",
       "4     sAleS EXECUtIve       Divorced      Y       No           NaN   \n",
       "\n",
       "                        roledepartament remotework  \n",
       "0                                   NaN        yes  \n",
       "1                                   NaN        yes  \n",
       "2   ManaGER  -  Research & Development         yes  \n",
       "3                                   NaN         no  \n",
       "4                                   NaN         no  "
      ]
     },
     "execution_count": 16,
     "metadata": {},
     "output_type": "execute_result"
    }
   ],
   "source": [
    "df_categoricos.head()"
   ]
  },
  {
   "cell_type": "code",
   "execution_count": 17,
   "metadata": {},
   "outputs": [],
   "source": [
    "## Cambiamos a minuscula columna jobrole\n",
    "df_categoricos['jobrole'] = df_categoricos['jobrole'].str.lower()"
   ]
  },
  {
   "cell_type": "code",
   "execution_count": 18,
   "metadata": {},
   "outputs": [
    {
     "data": {
      "text/html": [
       "<div>\n",
       "<style scoped>\n",
       "    .dataframe tbody tr th:only-of-type {\n",
       "        vertical-align: middle;\n",
       "    }\n",
       "\n",
       "    .dataframe tbody tr th {\n",
       "        vertical-align: top;\n",
       "    }\n",
       "\n",
       "    .dataframe thead th {\n",
       "        text-align: right;\n",
       "    }\n",
       "</style>\n",
       "<table border=\"1\" class=\"dataframe\">\n",
       "  <thead>\n",
       "    <tr style=\"text-align: right;\">\n",
       "      <th></th>\n",
       "      <th>attrition</th>\n",
       "      <th>businesstravel</th>\n",
       "      <th>department</th>\n",
       "      <th>educationfield</th>\n",
       "      <th>gender</th>\n",
       "      <th>jobrole</th>\n",
       "      <th>maritalstatus</th>\n",
       "      <th>over18</th>\n",
       "      <th>overtime</th>\n",
       "      <th>standardhours</th>\n",
       "      <th>roledepartament</th>\n",
       "      <th>remotework</th>\n",
       "    </tr>\n",
       "  </thead>\n",
       "  <tbody>\n",
       "    <tr>\n",
       "      <th>0</th>\n",
       "      <td>No</td>\n",
       "      <td>NaN</td>\n",
       "      <td>NaN</td>\n",
       "      <td>NaN</td>\n",
       "      <td>M</td>\n",
       "      <td>research director</td>\n",
       "      <td>NaN</td>\n",
       "      <td>Y</td>\n",
       "      <td>No</td>\n",
       "      <td>Full Time</td>\n",
       "      <td>NaN</td>\n",
       "      <td>yes</td>\n",
       "    </tr>\n",
       "    <tr>\n",
       "      <th>1</th>\n",
       "      <td>No</td>\n",
       "      <td>NaN</td>\n",
       "      <td>NaN</td>\n",
       "      <td>Life Sciences</td>\n",
       "      <td>M</td>\n",
       "      <td>manager</td>\n",
       "      <td>NaN</td>\n",
       "      <td>NaN</td>\n",
       "      <td>NaN</td>\n",
       "      <td>NaN</td>\n",
       "      <td>NaN</td>\n",
       "      <td>yes</td>\n",
       "    </tr>\n",
       "    <tr>\n",
       "      <th>2</th>\n",
       "      <td>No</td>\n",
       "      <td>travel rarely</td>\n",
       "      <td>Research &amp; Development</td>\n",
       "      <td>Technical Degree</td>\n",
       "      <td>M</td>\n",
       "      <td>manager</td>\n",
       "      <td>Married</td>\n",
       "      <td>NaN</td>\n",
       "      <td>No</td>\n",
       "      <td>NaN</td>\n",
       "      <td>ManaGER  -  Research &amp; Development</td>\n",
       "      <td>yes</td>\n",
       "    </tr>\n",
       "    <tr>\n",
       "      <th>3</th>\n",
       "      <td>No</td>\n",
       "      <td>travel rarely</td>\n",
       "      <td>NaN</td>\n",
       "      <td>Medical</td>\n",
       "      <td>F</td>\n",
       "      <td>research director</td>\n",
       "      <td>Married</td>\n",
       "      <td>Y</td>\n",
       "      <td>NaN</td>\n",
       "      <td>Full Time</td>\n",
       "      <td>NaN</td>\n",
       "      <td>no</td>\n",
       "    </tr>\n",
       "    <tr>\n",
       "      <th>4</th>\n",
       "      <td>No</td>\n",
       "      <td>NaN</td>\n",
       "      <td>NaN</td>\n",
       "      <td>Technical Degree</td>\n",
       "      <td>F</td>\n",
       "      <td>sales executive</td>\n",
       "      <td>Divorced</td>\n",
       "      <td>Y</td>\n",
       "      <td>No</td>\n",
       "      <td>NaN</td>\n",
       "      <td>NaN</td>\n",
       "      <td>no</td>\n",
       "    </tr>\n",
       "  </tbody>\n",
       "</table>\n",
       "</div>"
      ],
      "text/plain": [
       "  attrition businesstravel                department    educationfield gender  \\\n",
       "0        No            NaN                       NaN               NaN      M   \n",
       "1        No            NaN                       NaN     Life Sciences      M   \n",
       "2        No  travel rarely   Research & Development   Technical Degree      M   \n",
       "3        No  travel rarely                       NaN           Medical      F   \n",
       "4        No            NaN                       NaN  Technical Degree      F   \n",
       "\n",
       "               jobrole maritalstatus over18 overtime standardhours  \\\n",
       "0   research director            NaN      Y       No     Full Time   \n",
       "1             manager            NaN    NaN      NaN           NaN   \n",
       "2             manager        Married    NaN       No           NaN   \n",
       "3   research director        Married      Y      NaN     Full Time   \n",
       "4     sales executive       Divorced      Y       No           NaN   \n",
       "\n",
       "                        roledepartament remotework  \n",
       "0                                   NaN        yes  \n",
       "1                                   NaN        yes  \n",
       "2   ManaGER  -  Research & Development         yes  \n",
       "3                                   NaN         no  \n",
       "4                                   NaN         no  "
      ]
     },
     "execution_count": 18,
     "metadata": {},
     "output_type": "execute_result"
    }
   ],
   "source": [
    "df_categoricos.head()"
   ]
  },
  {
   "cell_type": "code",
   "execution_count": 19,
   "metadata": {},
   "outputs": [
    {
     "data": {
      "text/plain": [
       "maritalstatus\n",
       "Married     419\n",
       "Single      343\n",
       "Divorced    194\n",
       "Marreid      36\n",
       "divorced     11\n",
       "Name: count, dtype: int64"
      ]
     },
     "execution_count": 19,
     "metadata": {},
     "output_type": "execute_result"
    }
   ],
   "source": [
    "\n",
    "df_categoricos['maritalstatus'].value_counts()"
   ]
  },
  {
   "cell_type": "code",
   "execution_count": 20,
   "metadata": {},
   "outputs": [],
   "source": [
    "## Cambiamos 'lo que esta mal escrito en columna de marital status'\n",
    "df_categoricos['maritalstatus'] = df_categoricos['maritalstatus'].map({\n",
    "    'Married': 'Married',\n",
    "    'divorced': 'Divorced',\n",
    "    'Single': 'Single',\n",
    "    'Divorced': 'Divorced'\n",
    "})"
   ]
  },
  {
   "cell_type": "code",
   "execution_count": 21,
   "metadata": {},
   "outputs": [
    {
     "data": {
      "text/plain": [
       "maritalstatus\n",
       "Married     419\n",
       "Single      343\n",
       "Divorced    205\n",
       "Name: count, dtype: int64"
      ]
     },
     "execution_count": 21,
     "metadata": {},
     "output_type": "execute_result"
    }
   ],
   "source": [
    "df_categoricos['maritalstatus'].value_counts()"
   ]
  },
  {
   "cell_type": "code",
   "execution_count": 22,
   "metadata": {},
   "outputs": [],
   "source": [
    "df_categoricos['over18'] = df_categoricos['over18'].replace({'Y':'Yes', 'Yes':'Yes'})"
   ]
  },
  {
   "cell_type": "code",
   "execution_count": 23,
   "metadata": {},
   "outputs": [
    {
     "data": {
      "text/plain": [
       "over18\n",
       "Yes    740\n",
       "Name: count, dtype: int64"
      ]
     },
     "execution_count": 23,
     "metadata": {},
     "output_type": "execute_result"
    }
   ],
   "source": [
    "df_categoricos['over18'].value_counts()"
   ]
  },
  {
   "cell_type": "code",
   "execution_count": 24,
   "metadata": {},
   "outputs": [],
   "source": [
    "## Cambiamos a minuscula columna roledepartment \n",
    "\n",
    "df_categoricos['roledepartament'] = df_categoricos['roledepartament'].str.lower()"
   ]
  },
  {
   "cell_type": "code",
   "execution_count": 25,
   "metadata": {},
   "outputs": [
    {
     "data": {
      "text/html": [
       "<div>\n",
       "<style scoped>\n",
       "    .dataframe tbody tr th:only-of-type {\n",
       "        vertical-align: middle;\n",
       "    }\n",
       "\n",
       "    .dataframe tbody tr th {\n",
       "        vertical-align: top;\n",
       "    }\n",
       "\n",
       "    .dataframe thead th {\n",
       "        text-align: right;\n",
       "    }\n",
       "</style>\n",
       "<table border=\"1\" class=\"dataframe\">\n",
       "  <thead>\n",
       "    <tr style=\"text-align: right;\">\n",
       "      <th></th>\n",
       "      <th>attrition</th>\n",
       "      <th>businesstravel</th>\n",
       "      <th>department</th>\n",
       "      <th>educationfield</th>\n",
       "      <th>gender</th>\n",
       "      <th>jobrole</th>\n",
       "      <th>maritalstatus</th>\n",
       "      <th>over18</th>\n",
       "      <th>overtime</th>\n",
       "      <th>standardhours</th>\n",
       "      <th>roledepartament</th>\n",
       "      <th>remotework</th>\n",
       "    </tr>\n",
       "  </thead>\n",
       "  <tbody>\n",
       "    <tr>\n",
       "      <th>0</th>\n",
       "      <td>No</td>\n",
       "      <td>NaN</td>\n",
       "      <td>NaN</td>\n",
       "      <td>NaN</td>\n",
       "      <td>M</td>\n",
       "      <td>research director</td>\n",
       "      <td>NaN</td>\n",
       "      <td>Yes</td>\n",
       "      <td>No</td>\n",
       "      <td>Full Time</td>\n",
       "      <td>NaN</td>\n",
       "      <td>yes</td>\n",
       "    </tr>\n",
       "    <tr>\n",
       "      <th>1</th>\n",
       "      <td>No</td>\n",
       "      <td>NaN</td>\n",
       "      <td>NaN</td>\n",
       "      <td>Life Sciences</td>\n",
       "      <td>M</td>\n",
       "      <td>manager</td>\n",
       "      <td>NaN</td>\n",
       "      <td>NaN</td>\n",
       "      <td>NaN</td>\n",
       "      <td>NaN</td>\n",
       "      <td>NaN</td>\n",
       "      <td>yes</td>\n",
       "    </tr>\n",
       "    <tr>\n",
       "      <th>2</th>\n",
       "      <td>No</td>\n",
       "      <td>travel rarely</td>\n",
       "      <td>Research &amp; Development</td>\n",
       "      <td>Technical Degree</td>\n",
       "      <td>M</td>\n",
       "      <td>manager</td>\n",
       "      <td>Married</td>\n",
       "      <td>NaN</td>\n",
       "      <td>No</td>\n",
       "      <td>NaN</td>\n",
       "      <td>manager  -  research &amp; development</td>\n",
       "      <td>yes</td>\n",
       "    </tr>\n",
       "    <tr>\n",
       "      <th>3</th>\n",
       "      <td>No</td>\n",
       "      <td>travel rarely</td>\n",
       "      <td>NaN</td>\n",
       "      <td>Medical</td>\n",
       "      <td>F</td>\n",
       "      <td>research director</td>\n",
       "      <td>Married</td>\n",
       "      <td>Yes</td>\n",
       "      <td>NaN</td>\n",
       "      <td>Full Time</td>\n",
       "      <td>NaN</td>\n",
       "      <td>no</td>\n",
       "    </tr>\n",
       "    <tr>\n",
       "      <th>4</th>\n",
       "      <td>No</td>\n",
       "      <td>NaN</td>\n",
       "      <td>NaN</td>\n",
       "      <td>Technical Degree</td>\n",
       "      <td>F</td>\n",
       "      <td>sales executive</td>\n",
       "      <td>Divorced</td>\n",
       "      <td>Yes</td>\n",
       "      <td>No</td>\n",
       "      <td>NaN</td>\n",
       "      <td>NaN</td>\n",
       "      <td>no</td>\n",
       "    </tr>\n",
       "  </tbody>\n",
       "</table>\n",
       "</div>"
      ],
      "text/plain": [
       "  attrition businesstravel                department    educationfield gender  \\\n",
       "0        No            NaN                       NaN               NaN      M   \n",
       "1        No            NaN                       NaN     Life Sciences      M   \n",
       "2        No  travel rarely   Research & Development   Technical Degree      M   \n",
       "3        No  travel rarely                       NaN           Medical      F   \n",
       "4        No            NaN                       NaN  Technical Degree      F   \n",
       "\n",
       "               jobrole maritalstatus over18 overtime standardhours  \\\n",
       "0   research director            NaN    Yes       No     Full Time   \n",
       "1             manager            NaN    NaN      NaN           NaN   \n",
       "2             manager        Married    NaN       No           NaN   \n",
       "3   research director        Married    Yes      NaN     Full Time   \n",
       "4     sales executive       Divorced    Yes       No           NaN   \n",
       "\n",
       "                        roledepartament remotework  \n",
       "0                                   NaN        yes  \n",
       "1                                   NaN        yes  \n",
       "2   manager  -  research & development         yes  \n",
       "3                                   NaN         no  \n",
       "4                                   NaN         no  "
      ]
     },
     "execution_count": 25,
     "metadata": {},
     "output_type": "execute_result"
    }
   ],
   "source": [
    "df_categoricos.head()"
   ]
  },
  {
   "cell_type": "code",
   "execution_count": 26,
   "metadata": {},
   "outputs": [],
   "source": [
    "#Guardamos DF limpio en CSV\n",
    "df_categoricos.to_csv(\"categoricos_limpio.csv\", index=True)"
   ]
  }
 ],
 "metadata": {
  "kernelspec": {
   "display_name": "base",
   "language": "python",
   "name": "python3"
  },
  "language_info": {
   "codemirror_mode": {
    "name": "ipython",
    "version": 3
   },
   "file_extension": ".py",
   "mimetype": "text/x-python",
   "name": "python",
   "nbconvert_exporter": "python",
   "pygments_lexer": "ipython3",
   "version": "3.12.4"
  }
 },
 "nbformat": 4,
 "nbformat_minor": 2
}
