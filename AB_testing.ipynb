{
 "cells": [
  {
   "cell_type": "code",
   "execution_count": 70,
   "metadata": {},
   "outputs": [],
   "source": [
    "##Importamos librerias \n",
    "\n",
    "import pandas as pd\n",
    "import numpy as np\n",
    "from scipy import stats\n",
    "from scipy.stats import shapiro, levene\n",
    "from scipy.stats import ttest_ind\n",
    "from scipy.stats import mannwhitneyu\n",
    "from scipy.stats import chi2_contingency\n",
    "import seaborn as sns\n",
    "import scipy.stats as stats\n",
    "import matplotlib.pyplot as plt\n",
    "pd.set_option(\"display.max_columns\", None)"
   ]
  },
  {
   "cell_type": "code",
   "execution_count": 2,
   "metadata": {},
   "outputs": [
    {
     "data": {
      "text/html": [
       "<div>\n",
       "<style scoped>\n",
       "    .dataframe tbody tr th:only-of-type {\n",
       "        vertical-align: middle;\n",
       "    }\n",
       "\n",
       "    .dataframe tbody tr th {\n",
       "        vertical-align: top;\n",
       "    }\n",
       "\n",
       "    .dataframe thead th {\n",
       "        text-align: right;\n",
       "    }\n",
       "</style>\n",
       "<table border=\"1\" class=\"dataframe\">\n",
       "  <thead>\n",
       "    <tr style=\"text-align: right;\">\n",
       "      <th></th>\n",
       "      <th>attrition</th>\n",
       "      <th>businesstravel</th>\n",
       "      <th>department</th>\n",
       "      <th>educationfield</th>\n",
       "      <th>gender</th>\n",
       "      <th>jobrole</th>\n",
       "      <th>overtime</th>\n",
       "      <th>remotework</th>\n",
       "      <th>age</th>\n",
       "      <th>distancefromhome</th>\n",
       "      <th>education</th>\n",
       "      <th>employeenumber</th>\n",
       "      <th>environmentsatisfaction</th>\n",
       "      <th>jobinvolvement</th>\n",
       "      <th>joblevel</th>\n",
       "      <th>jobsatisfaction</th>\n",
       "      <th>monthlyincome</th>\n",
       "      <th>monthlyrate</th>\n",
       "      <th>numcompaniesworked</th>\n",
       "      <th>percentsalaryhike</th>\n",
       "      <th>performancerating</th>\n",
       "      <th>relationshipsatisfaction</th>\n",
       "      <th>stockoptionlevel</th>\n",
       "      <th>trainingtimeslastyear</th>\n",
       "      <th>worklifebalance</th>\n",
       "      <th>yearsatcompany</th>\n",
       "      <th>yearssincelastpromotion</th>\n",
       "      <th>yearswithcurrmanager</th>\n",
       "      <th>salary</th>\n",
       "    </tr>\n",
       "  </thead>\n",
       "  <tbody>\n",
       "    <tr>\n",
       "      <th>0</th>\n",
       "      <td>no</td>\n",
       "      <td>non travel</td>\n",
       "      <td>unknown</td>\n",
       "      <td>unknown</td>\n",
       "      <td>M</td>\n",
       "      <td>research director</td>\n",
       "      <td>no</td>\n",
       "      <td>yes</td>\n",
       "      <td>51</td>\n",
       "      <td>6</td>\n",
       "      <td>3</td>\n",
       "      <td>1</td>\n",
       "      <td>1</td>\n",
       "      <td>3</td>\n",
       "      <td>5</td>\n",
       "      <td>3</td>\n",
       "      <td>16280.83</td>\n",
       "      <td>42330.17</td>\n",
       "      <td>7</td>\n",
       "      <td>13</td>\n",
       "      <td>3</td>\n",
       "      <td>3</td>\n",
       "      <td>0</td>\n",
       "      <td>5</td>\n",
       "      <td>3</td>\n",
       "      <td>20</td>\n",
       "      <td>15</td>\n",
       "      <td>15</td>\n",
       "      <td>195370.00</td>\n",
       "    </tr>\n",
       "    <tr>\n",
       "      <th>1</th>\n",
       "      <td>no</td>\n",
       "      <td>non travel</td>\n",
       "      <td>unknown</td>\n",
       "      <td>life sciences</td>\n",
       "      <td>M</td>\n",
       "      <td>manager</td>\n",
       "      <td>NaN</td>\n",
       "      <td>yes</td>\n",
       "      <td>52</td>\n",
       "      <td>1</td>\n",
       "      <td>4</td>\n",
       "      <td>2</td>\n",
       "      <td>1</td>\n",
       "      <td>2</td>\n",
       "      <td>5</td>\n",
       "      <td>3</td>\n",
       "      <td>16665.83</td>\n",
       "      <td>43331.17</td>\n",
       "      <td>0</td>\n",
       "      <td>14</td>\n",
       "      <td>3</td>\n",
       "      <td>1</td>\n",
       "      <td>1</td>\n",
       "      <td>5</td>\n",
       "      <td>3</td>\n",
       "      <td>33</td>\n",
       "      <td>11</td>\n",
       "      <td>9</td>\n",
       "      <td>199990.00</td>\n",
       "    </tr>\n",
       "    <tr>\n",
       "      <th>2</th>\n",
       "      <td>no</td>\n",
       "      <td>travel rarely</td>\n",
       "      <td>research &amp; development</td>\n",
       "      <td>technical degree</td>\n",
       "      <td>M</td>\n",
       "      <td>manager</td>\n",
       "      <td>no</td>\n",
       "      <td>yes</td>\n",
       "      <td>42</td>\n",
       "      <td>4</td>\n",
       "      <td>2</td>\n",
       "      <td>3</td>\n",
       "      <td>1</td>\n",
       "      <td>3</td>\n",
       "      <td>5</td>\n",
       "      <td>4</td>\n",
       "      <td>16026.67</td>\n",
       "      <td>41669.33</td>\n",
       "      <td>1</td>\n",
       "      <td>11</td>\n",
       "      <td>3</td>\n",
       "      <td>4</td>\n",
       "      <td>0</td>\n",
       "      <td>3</td>\n",
       "      <td>3</td>\n",
       "      <td>22</td>\n",
       "      <td>11</td>\n",
       "      <td>15</td>\n",
       "      <td>192320.00</td>\n",
       "    </tr>\n",
       "    <tr>\n",
       "      <th>3</th>\n",
       "      <td>no</td>\n",
       "      <td>travel rarely</td>\n",
       "      <td>unknown</td>\n",
       "      <td>medical</td>\n",
       "      <td>F</td>\n",
       "      <td>research director</td>\n",
       "      <td>NaN</td>\n",
       "      <td>no</td>\n",
       "      <td>47</td>\n",
       "      <td>2</td>\n",
       "      <td>4</td>\n",
       "      <td>4</td>\n",
       "      <td>1</td>\n",
       "      <td>3</td>\n",
       "      <td>4</td>\n",
       "      <td>3</td>\n",
       "      <td>14307.50</td>\n",
       "      <td>37199.50</td>\n",
       "      <td>3</td>\n",
       "      <td>19</td>\n",
       "      <td>3</td>\n",
       "      <td>2</td>\n",
       "      <td>2</td>\n",
       "      <td>2</td>\n",
       "      <td>3</td>\n",
       "      <td>20</td>\n",
       "      <td>5</td>\n",
       "      <td>6</td>\n",
       "      <td>171690.00</td>\n",
       "    </tr>\n",
       "    <tr>\n",
       "      <th>4</th>\n",
       "      <td>no</td>\n",
       "      <td>non travel</td>\n",
       "      <td>unknown</td>\n",
       "      <td>technical degree</td>\n",
       "      <td>F</td>\n",
       "      <td>sales executive</td>\n",
       "      <td>no</td>\n",
       "      <td>no</td>\n",
       "      <td>46</td>\n",
       "      <td>3</td>\n",
       "      <td>3</td>\n",
       "      <td>5</td>\n",
       "      <td>1</td>\n",
       "      <td>4</td>\n",
       "      <td>4</td>\n",
       "      <td>1</td>\n",
       "      <td>12783.92</td>\n",
       "      <td>33238.20</td>\n",
       "      <td>2</td>\n",
       "      <td>12</td>\n",
       "      <td>3</td>\n",
       "      <td>4</td>\n",
       "      <td>1</td>\n",
       "      <td>5</td>\n",
       "      <td>3</td>\n",
       "      <td>19</td>\n",
       "      <td>2</td>\n",
       "      <td>8</td>\n",
       "      <td>153407.04</td>\n",
       "    </tr>\n",
       "  </tbody>\n",
       "</table>\n",
       "</div>"
      ],
      "text/plain": [
       "  attrition businesstravel                department    educationfield gender  \\\n",
       "0        no     non travel                   unknown           unknown      M   \n",
       "1        no     non travel                   unknown     life sciences      M   \n",
       "2        no  travel rarely   research & development   technical degree      M   \n",
       "3        no  travel rarely                   unknown           medical      F   \n",
       "4        no     non travel                   unknown  technical degree      F   \n",
       "\n",
       "               jobrole overtime remotework  age  distancefromhome  education  \\\n",
       "0   research director        no        yes   51                 6          3   \n",
       "1             manager       NaN        yes   52                 1          4   \n",
       "2             manager        no        yes   42                 4          2   \n",
       "3   research director       NaN         no   47                 2          4   \n",
       "4     sales executive        no         no   46                 3          3   \n",
       "\n",
       "   employeenumber  environmentsatisfaction  jobinvolvement  joblevel  \\\n",
       "0               1                        1               3         5   \n",
       "1               2                        1               2         5   \n",
       "2               3                        1               3         5   \n",
       "3               4                        1               3         4   \n",
       "4               5                        1               4         4   \n",
       "\n",
       "   jobsatisfaction  monthlyincome  monthlyrate  numcompaniesworked  \\\n",
       "0                3       16280.83     42330.17                   7   \n",
       "1                3       16665.83     43331.17                   0   \n",
       "2                4       16026.67     41669.33                   1   \n",
       "3                3       14307.50     37199.50                   3   \n",
       "4                1       12783.92     33238.20                   2   \n",
       "\n",
       "   percentsalaryhike  performancerating  relationshipsatisfaction  \\\n",
       "0                 13                  3                         3   \n",
       "1                 14                  3                         1   \n",
       "2                 11                  3                         4   \n",
       "3                 19                  3                         2   \n",
       "4                 12                  3                         4   \n",
       "\n",
       "   stockoptionlevel  trainingtimeslastyear  worklifebalance  yearsatcompany  \\\n",
       "0                 0                      5                3              20   \n",
       "1                 1                      5                3              33   \n",
       "2                 0                      3                3              22   \n",
       "3                 2                      2                3              20   \n",
       "4                 1                      5                3              19   \n",
       "\n",
       "   yearssincelastpromotion  yearswithcurrmanager     salary  \n",
       "0                       15                    15  195370.00  \n",
       "1                       11                     9  199990.00  \n",
       "2                       11                    15  192320.00  \n",
       "3                        5                     6  171690.00  \n",
       "4                        2                     8  153407.04  "
      ]
     },
     "execution_count": 2,
     "metadata": {},
     "output_type": "execute_result"
    }
   ],
   "source": [
    "df = pd.read_csv(\"CSV/data_limpia_1.csv\", index_col=0)\n",
    "\n",
    "df.head()"
   ]
  },
  {
   "cell_type": "code",
   "execution_count": 47,
   "metadata": {},
   "outputs": [
    {
     "data": {
      "text/plain": [
       "(1614, 29)"
      ]
     },
     "execution_count": 47,
     "metadata": {},
     "output_type": "execute_result"
    }
   ],
   "source": [
    "df.shape\n"
   ]
  },
  {
   "cell_type": "markdown",
   "metadata": {},
   "source": [
    "## Exploración por columnas: "
   ]
  },
  {
   "cell_type": "markdown",
   "metadata": {},
   "source": [
    "Hipótesis: \"Existe una relación entre el nivel de satisfacción en el trabajo y la rotación de empleados en la empresa. Se sospecha que los empleados con niveles de satisfacción más bajos tienen una mayor probabilidad de dejar la empresa\"."
   ]
  },
  {
   "cell_type": "code",
   "execution_count": 3,
   "metadata": {},
   "outputs": [],
   "source": [
    "#Dividimos a los empleados según nivel de satisfacción: \n",
    "grupo_a= df[df['jobsatisfaction'] >= 3]\n",
    "grupo_b = df[df['jobsatisfaction'] < 3]"
   ]
  },
  {
   "cell_type": "code",
   "execution_count": 4,
   "metadata": {},
   "outputs": [
    {
     "data": {
      "text/html": [
       "<div>\n",
       "<style scoped>\n",
       "    .dataframe tbody tr th:only-of-type {\n",
       "        vertical-align: middle;\n",
       "    }\n",
       "\n",
       "    .dataframe tbody tr th {\n",
       "        vertical-align: top;\n",
       "    }\n",
       "\n",
       "    .dataframe thead th {\n",
       "        text-align: right;\n",
       "    }\n",
       "</style>\n",
       "<table border=\"1\" class=\"dataframe\">\n",
       "  <thead>\n",
       "    <tr style=\"text-align: right;\">\n",
       "      <th></th>\n",
       "      <th>attrition</th>\n",
       "      <th>businesstravel</th>\n",
       "      <th>department</th>\n",
       "      <th>educationfield</th>\n",
       "      <th>gender</th>\n",
       "      <th>jobrole</th>\n",
       "      <th>overtime</th>\n",
       "      <th>remotework</th>\n",
       "      <th>age</th>\n",
       "      <th>distancefromhome</th>\n",
       "      <th>education</th>\n",
       "      <th>employeenumber</th>\n",
       "      <th>environmentsatisfaction</th>\n",
       "      <th>jobinvolvement</th>\n",
       "      <th>joblevel</th>\n",
       "      <th>jobsatisfaction</th>\n",
       "      <th>monthlyincome</th>\n",
       "      <th>monthlyrate</th>\n",
       "      <th>numcompaniesworked</th>\n",
       "      <th>percentsalaryhike</th>\n",
       "      <th>performancerating</th>\n",
       "      <th>relationshipsatisfaction</th>\n",
       "      <th>stockoptionlevel</th>\n",
       "      <th>trainingtimeslastyear</th>\n",
       "      <th>worklifebalance</th>\n",
       "      <th>yearsatcompany</th>\n",
       "      <th>yearssincelastpromotion</th>\n",
       "      <th>yearswithcurrmanager</th>\n",
       "      <th>salary</th>\n",
       "    </tr>\n",
       "  </thead>\n",
       "  <tbody>\n",
       "    <tr>\n",
       "      <th>0</th>\n",
       "      <td>no</td>\n",
       "      <td>non travel</td>\n",
       "      <td>unknown</td>\n",
       "      <td>unknown</td>\n",
       "      <td>M</td>\n",
       "      <td>research director</td>\n",
       "      <td>no</td>\n",
       "      <td>yes</td>\n",
       "      <td>51</td>\n",
       "      <td>6</td>\n",
       "      <td>3</td>\n",
       "      <td>1</td>\n",
       "      <td>1</td>\n",
       "      <td>3</td>\n",
       "      <td>5</td>\n",
       "      <td>3</td>\n",
       "      <td>16280.83</td>\n",
       "      <td>42330.17</td>\n",
       "      <td>7</td>\n",
       "      <td>13</td>\n",
       "      <td>3</td>\n",
       "      <td>3</td>\n",
       "      <td>0</td>\n",
       "      <td>5</td>\n",
       "      <td>3</td>\n",
       "      <td>20</td>\n",
       "      <td>15</td>\n",
       "      <td>15</td>\n",
       "      <td>195370.00</td>\n",
       "    </tr>\n",
       "    <tr>\n",
       "      <th>1</th>\n",
       "      <td>no</td>\n",
       "      <td>non travel</td>\n",
       "      <td>unknown</td>\n",
       "      <td>life sciences</td>\n",
       "      <td>M</td>\n",
       "      <td>manager</td>\n",
       "      <td>NaN</td>\n",
       "      <td>yes</td>\n",
       "      <td>52</td>\n",
       "      <td>1</td>\n",
       "      <td>4</td>\n",
       "      <td>2</td>\n",
       "      <td>1</td>\n",
       "      <td>2</td>\n",
       "      <td>5</td>\n",
       "      <td>3</td>\n",
       "      <td>16665.83</td>\n",
       "      <td>43331.17</td>\n",
       "      <td>0</td>\n",
       "      <td>14</td>\n",
       "      <td>3</td>\n",
       "      <td>1</td>\n",
       "      <td>1</td>\n",
       "      <td>5</td>\n",
       "      <td>3</td>\n",
       "      <td>33</td>\n",
       "      <td>11</td>\n",
       "      <td>9</td>\n",
       "      <td>199990.00</td>\n",
       "    </tr>\n",
       "    <tr>\n",
       "      <th>2</th>\n",
       "      <td>no</td>\n",
       "      <td>travel rarely</td>\n",
       "      <td>research &amp; development</td>\n",
       "      <td>technical degree</td>\n",
       "      <td>M</td>\n",
       "      <td>manager</td>\n",
       "      <td>no</td>\n",
       "      <td>yes</td>\n",
       "      <td>42</td>\n",
       "      <td>4</td>\n",
       "      <td>2</td>\n",
       "      <td>3</td>\n",
       "      <td>1</td>\n",
       "      <td>3</td>\n",
       "      <td>5</td>\n",
       "      <td>4</td>\n",
       "      <td>16026.67</td>\n",
       "      <td>41669.33</td>\n",
       "      <td>1</td>\n",
       "      <td>11</td>\n",
       "      <td>3</td>\n",
       "      <td>4</td>\n",
       "      <td>0</td>\n",
       "      <td>3</td>\n",
       "      <td>3</td>\n",
       "      <td>22</td>\n",
       "      <td>11</td>\n",
       "      <td>15</td>\n",
       "      <td>192320.00</td>\n",
       "    </tr>\n",
       "    <tr>\n",
       "      <th>3</th>\n",
       "      <td>no</td>\n",
       "      <td>travel rarely</td>\n",
       "      <td>unknown</td>\n",
       "      <td>medical</td>\n",
       "      <td>F</td>\n",
       "      <td>research director</td>\n",
       "      <td>NaN</td>\n",
       "      <td>no</td>\n",
       "      <td>47</td>\n",
       "      <td>2</td>\n",
       "      <td>4</td>\n",
       "      <td>4</td>\n",
       "      <td>1</td>\n",
       "      <td>3</td>\n",
       "      <td>4</td>\n",
       "      <td>3</td>\n",
       "      <td>14307.50</td>\n",
       "      <td>37199.50</td>\n",
       "      <td>3</td>\n",
       "      <td>19</td>\n",
       "      <td>3</td>\n",
       "      <td>2</td>\n",
       "      <td>2</td>\n",
       "      <td>2</td>\n",
       "      <td>3</td>\n",
       "      <td>20</td>\n",
       "      <td>5</td>\n",
       "      <td>6</td>\n",
       "      <td>171690.00</td>\n",
       "    </tr>\n",
       "    <tr>\n",
       "      <th>5</th>\n",
       "      <td>no</td>\n",
       "      <td>non travel</td>\n",
       "      <td>research &amp; development</td>\n",
       "      <td>medical</td>\n",
       "      <td>F</td>\n",
       "      <td>manager</td>\n",
       "      <td>no</td>\n",
       "      <td>yes</td>\n",
       "      <td>48</td>\n",
       "      <td>22</td>\n",
       "      <td>3</td>\n",
       "      <td>6</td>\n",
       "      <td>1</td>\n",
       "      <td>3</td>\n",
       "      <td>4</td>\n",
       "      <td>4</td>\n",
       "      <td>14311.67</td>\n",
       "      <td>37210.33</td>\n",
       "      <td>3</td>\n",
       "      <td>11</td>\n",
       "      <td>3</td>\n",
       "      <td>2</td>\n",
       "      <td>1</td>\n",
       "      <td>3</td>\n",
       "      <td>3</td>\n",
       "      <td>22</td>\n",
       "      <td>4</td>\n",
       "      <td>7</td>\n",
       "      <td>171740.04</td>\n",
       "    </tr>\n",
       "  </tbody>\n",
       "</table>\n",
       "</div>"
      ],
      "text/plain": [
       "  attrition businesstravel                department    educationfield gender  \\\n",
       "0        no     non travel                   unknown           unknown      M   \n",
       "1        no     non travel                   unknown     life sciences      M   \n",
       "2        no  travel rarely   research & development   technical degree      M   \n",
       "3        no  travel rarely                   unknown           medical      F   \n",
       "5        no     non travel   research & development            medical      F   \n",
       "\n",
       "               jobrole overtime remotework  age  distancefromhome  education  \\\n",
       "0   research director        no        yes   51                 6          3   \n",
       "1             manager       NaN        yes   52                 1          4   \n",
       "2             manager        no        yes   42                 4          2   \n",
       "3   research director       NaN         no   47                 2          4   \n",
       "5             manager        no        yes   48                22          3   \n",
       "\n",
       "   employeenumber  environmentsatisfaction  jobinvolvement  joblevel  \\\n",
       "0               1                        1               3         5   \n",
       "1               2                        1               2         5   \n",
       "2               3                        1               3         5   \n",
       "3               4                        1               3         4   \n",
       "5               6                        1               3         4   \n",
       "\n",
       "   jobsatisfaction  monthlyincome  monthlyrate  numcompaniesworked  \\\n",
       "0                3       16280.83     42330.17                   7   \n",
       "1                3       16665.83     43331.17                   0   \n",
       "2                4       16026.67     41669.33                   1   \n",
       "3                3       14307.50     37199.50                   3   \n",
       "5                4       14311.67     37210.33                   3   \n",
       "\n",
       "   percentsalaryhike  performancerating  relationshipsatisfaction  \\\n",
       "0                 13                  3                         3   \n",
       "1                 14                  3                         1   \n",
       "2                 11                  3                         4   \n",
       "3                 19                  3                         2   \n",
       "5                 11                  3                         2   \n",
       "\n",
       "   stockoptionlevel  trainingtimeslastyear  worklifebalance  yearsatcompany  \\\n",
       "0                 0                      5                3              20   \n",
       "1                 1                      5                3              33   \n",
       "2                 0                      3                3              22   \n",
       "3                 2                      2                3              20   \n",
       "5                 1                      3                3              22   \n",
       "\n",
       "   yearssincelastpromotion  yearswithcurrmanager     salary  \n",
       "0                       15                    15  195370.00  \n",
       "1                       11                     9  199990.00  \n",
       "2                       11                    15  192320.00  \n",
       "3                        5                     6  171690.00  \n",
       "5                        4                     7  171740.04  "
      ]
     },
     "execution_count": 4,
     "metadata": {},
     "output_type": "execute_result"
    }
   ],
   "source": [
    "grupo_a.head()"
   ]
  },
  {
   "cell_type": "code",
   "execution_count": 5,
   "metadata": {},
   "outputs": [
    {
     "data": {
      "text/plain": [
       "attrition\n",
       "no     859\n",
       "yes    136\n",
       "Name: count, dtype: int64"
      ]
     },
     "execution_count": 5,
     "metadata": {},
     "output_type": "execute_result"
    }
   ],
   "source": [
    "grupo_a[\"attrition\"].value_counts()"
   ]
  },
  {
   "cell_type": "code",
   "execution_count": 6,
   "metadata": {},
   "outputs": [
    {
     "data": {
      "text/html": [
       "<div>\n",
       "<style scoped>\n",
       "    .dataframe tbody tr th:only-of-type {\n",
       "        vertical-align: middle;\n",
       "    }\n",
       "\n",
       "    .dataframe tbody tr th {\n",
       "        vertical-align: top;\n",
       "    }\n",
       "\n",
       "    .dataframe thead th {\n",
       "        text-align: right;\n",
       "    }\n",
       "</style>\n",
       "<table border=\"1\" class=\"dataframe\">\n",
       "  <thead>\n",
       "    <tr style=\"text-align: right;\">\n",
       "      <th></th>\n",
       "      <th>grupo</th>\n",
       "      <th>valores</th>\n",
       "    </tr>\n",
       "  </thead>\n",
       "  <tbody>\n",
       "    <tr>\n",
       "      <th>0</th>\n",
       "      <td>Abandono</td>\n",
       "      <td>136</td>\n",
       "    </tr>\n",
       "    <tr>\n",
       "      <th>1</th>\n",
       "      <td>Empleados actuales</td>\n",
       "      <td>859</td>\n",
       "    </tr>\n",
       "  </tbody>\n",
       "</table>\n",
       "</div>"
      ],
      "text/plain": [
       "                grupo  valores\n",
       "0            Abandono      136\n",
       "1  Empleados actuales      859"
      ]
     },
     "execution_count": 6,
     "metadata": {},
     "output_type": "execute_result"
    }
   ],
   "source": [
    "## 1: Chequeamos tasa de abandono de ambos grupos: \n",
    "\n",
    "abandono_grupo_a = {\"grupo\": [\"Abandono\",\"Empleados actuales\"], \"valores\": [136,859]}\n",
    "df_abandono_grupo_a = pd.DataFrame(abandono_grupo_a)\n",
    "df_abandono_grupo_a"
   ]
  },
  {
   "cell_type": "code",
   "execution_count": 7,
   "metadata": {},
   "outputs": [
    {
     "data": {
      "text/plain": [
       "attrition\n",
       "no     496\n",
       "yes    123\n",
       "Name: count, dtype: int64"
      ]
     },
     "execution_count": 7,
     "metadata": {},
     "output_type": "execute_result"
    }
   ],
   "source": [
    "grupo_b['attrition'].value_counts()"
   ]
  },
  {
   "cell_type": "code",
   "execution_count": 8,
   "metadata": {},
   "outputs": [
    {
     "data": {
      "text/html": [
       "<div>\n",
       "<style scoped>\n",
       "    .dataframe tbody tr th:only-of-type {\n",
       "        vertical-align: middle;\n",
       "    }\n",
       "\n",
       "    .dataframe tbody tr th {\n",
       "        vertical-align: top;\n",
       "    }\n",
       "\n",
       "    .dataframe thead th {\n",
       "        text-align: right;\n",
       "    }\n",
       "</style>\n",
       "<table border=\"1\" class=\"dataframe\">\n",
       "  <thead>\n",
       "    <tr style=\"text-align: right;\">\n",
       "      <th></th>\n",
       "      <th>grupo</th>\n",
       "      <th>valores</th>\n",
       "    </tr>\n",
       "  </thead>\n",
       "  <tbody>\n",
       "    <tr>\n",
       "      <th>0</th>\n",
       "      <td>Abandono</td>\n",
       "      <td>123</td>\n",
       "    </tr>\n",
       "    <tr>\n",
       "      <th>1</th>\n",
       "      <td>Empleados actuales</td>\n",
       "      <td>496</td>\n",
       "    </tr>\n",
       "  </tbody>\n",
       "</table>\n",
       "</div>"
      ],
      "text/plain": [
       "                grupo  valores\n",
       "0            Abandono      123\n",
       "1  Empleados actuales      496"
      ]
     },
     "execution_count": 8,
     "metadata": {},
     "output_type": "execute_result"
    }
   ],
   "source": [
    "abandono_grupo_b = {\"grupo\": [\"Abandono\",\"Empleados actuales\"], \"valores\": [123,496]}\n",
    "df_abandono_grupo_b = pd.DataFrame(abandono_grupo_b)\n",
    "df_abandono_grupo_b"
   ]
  },
  {
   "cell_type": "code",
   "execution_count": null,
   "metadata": {},
   "outputs": [],
   "source": []
  },
  {
   "cell_type": "code",
   "execution_count": 12,
   "metadata": {},
   "outputs": [
    {
     "name": "stdout",
     "output_type": "stream",
     "text": [
      "la tasa de attrition del grupo A es: 0.14\n",
      "la tasa de attrition del grupo B es: 0.2\n"
     ]
    }
   ],
   "source": [
    "# Cálculo de la tasa de rotación\n",
    "\n",
    "# Tasa de attrition en grupo A\n",
    "df_grupoa_attrition = grupo_a[grupo_a[\"attrition\"] == \"yes\"]\n",
    "tasa_attrition_grupoa = round(df_grupoa_attrition.shape[0] / grupo_a.shape[0],2)\n",
    "print(f\"la tasa de attrition del grupo A es: {tasa_attrition_grupoa}\")\n",
    "\n",
    "# Tasa de attrition en grupo B\n",
    "df_grupob_attrition = grupo_b[grupo_b[\"attrition\"] == \"yes\"]\n",
    "tasa_attrition_grupob = round(df_grupob_attrition.shape[0] / grupo_b.shape[0],2)\n",
    "print(f\"la tasa de attrition del grupo B es: {tasa_attrition_grupob}\")"
   ]
  },
  {
   "cell_type": "code",
   "execution_count": 13,
   "metadata": {},
   "outputs": [],
   "source": [
    "##    3. Realiza un análisis estadístico para determinar si hay una diferencia significativa en la tasa de rotación entre los grupos A y B. "
   ]
  },
  {
   "cell_type": "code",
   "execution_count": 15,
   "metadata": {},
   "outputs": [
    {
     "name": "stdout",
     "output_type": "stream",
     "text": [
      "1.0\n",
      "No hay evidencia de una diferencia significativa en la tasa de rotación de ambos grupos.\n",
      "\n",
      " ---------- \n",
      "\n",
      " \n",
      "          Los resultados sugieren que no existe evidencia estadística para afirmar que las medias de las muestras son distintas\n",
      "          \n"
     ]
    }
   ],
   "source": [
    "## ATTRITION VS SATISFACCION: (tabla contingencia)\n",
    "\n",
    "contingency_table = pd.crosstab(df_attrition_unido[\"grupo\"], df_attrition_unido['tasa_attrition'])\n",
    "\n",
    "# Realizar la prueba de proporciones\n",
    "chi2, p_value, _, _ = chi2_contingency(contingency_table)\n",
    "print(p_value)\n",
    "\n",
    "# Imprimir el resultado de la prueba\n",
    "alpha = 0.05\n",
    "if p_value < alpha:\n",
    "    print(\"Hay una diferencia significativa en la tasa de rotación de ambos grupos.\")\n",
    "    print(\"\\n ---------- \\n\")\n",
    "    print(\"\"\"\n",
    "          Los resultados sugieren que si que existe una diferencia entre los grupos \n",
    "          \"\"\")\n",
    "else:\n",
    "    print(\"No hay evidencia de una diferencia significativa en la tasa de rotación de ambos grupos.\")\n",
    "    print(\"\\n ---------- \\n\")\n",
    "    print(\"\"\" \n",
    "          Los resultados sugieren que no existe evidencia estadística para afirmar que las medias de las muestras son distintas\n",
    "          \"\"\")"
   ]
  },
  {
   "cell_type": "code",
   "execution_count": 16,
   "metadata": {},
   "outputs": [
    {
     "data": {
      "text/html": [
       "<div>\n",
       "<style scoped>\n",
       "    .dataframe tbody tr th:only-of-type {\n",
       "        vertical-align: middle;\n",
       "    }\n",
       "\n",
       "    .dataframe tbody tr th {\n",
       "        vertical-align: top;\n",
       "    }\n",
       "\n",
       "    .dataframe thead th {\n",
       "        text-align: right;\n",
       "    }\n",
       "</style>\n",
       "<table border=\"1\" class=\"dataframe\">\n",
       "  <thead>\n",
       "    <tr style=\"text-align: right;\">\n",
       "      <th></th>\n",
       "      <th>attrition</th>\n",
       "      <th>businesstravel</th>\n",
       "      <th>department</th>\n",
       "      <th>educationfield</th>\n",
       "      <th>gender</th>\n",
       "      <th>jobrole</th>\n",
       "      <th>overtime</th>\n",
       "      <th>remotework</th>\n",
       "      <th>age</th>\n",
       "      <th>distancefromhome</th>\n",
       "      <th>education</th>\n",
       "      <th>employeenumber</th>\n",
       "      <th>environmentsatisfaction</th>\n",
       "      <th>jobinvolvement</th>\n",
       "      <th>joblevel</th>\n",
       "      <th>jobsatisfaction</th>\n",
       "      <th>monthlyincome</th>\n",
       "      <th>monthlyrate</th>\n",
       "      <th>numcompaniesworked</th>\n",
       "      <th>percentsalaryhike</th>\n",
       "      <th>performancerating</th>\n",
       "      <th>relationshipsatisfaction</th>\n",
       "      <th>stockoptionlevel</th>\n",
       "      <th>trainingtimeslastyear</th>\n",
       "      <th>worklifebalance</th>\n",
       "      <th>yearsatcompany</th>\n",
       "      <th>yearssincelastpromotion</th>\n",
       "      <th>yearswithcurrmanager</th>\n",
       "      <th>salary</th>\n",
       "    </tr>\n",
       "  </thead>\n",
       "  <tbody>\n",
       "    <tr>\n",
       "      <th>0</th>\n",
       "      <td>no</td>\n",
       "      <td>non travel</td>\n",
       "      <td>unknown</td>\n",
       "      <td>unknown</td>\n",
       "      <td>M</td>\n",
       "      <td>research director</td>\n",
       "      <td>no</td>\n",
       "      <td>yes</td>\n",
       "      <td>51</td>\n",
       "      <td>6</td>\n",
       "      <td>3</td>\n",
       "      <td>1</td>\n",
       "      <td>1</td>\n",
       "      <td>3</td>\n",
       "      <td>5</td>\n",
       "      <td>3</td>\n",
       "      <td>16280.83</td>\n",
       "      <td>42330.17</td>\n",
       "      <td>7</td>\n",
       "      <td>13</td>\n",
       "      <td>3</td>\n",
       "      <td>3</td>\n",
       "      <td>0</td>\n",
       "      <td>5</td>\n",
       "      <td>3</td>\n",
       "      <td>20</td>\n",
       "      <td>15</td>\n",
       "      <td>15</td>\n",
       "      <td>195370.00</td>\n",
       "    </tr>\n",
       "    <tr>\n",
       "      <th>1</th>\n",
       "      <td>no</td>\n",
       "      <td>non travel</td>\n",
       "      <td>unknown</td>\n",
       "      <td>life sciences</td>\n",
       "      <td>M</td>\n",
       "      <td>manager</td>\n",
       "      <td>NaN</td>\n",
       "      <td>yes</td>\n",
       "      <td>52</td>\n",
       "      <td>1</td>\n",
       "      <td>4</td>\n",
       "      <td>2</td>\n",
       "      <td>1</td>\n",
       "      <td>2</td>\n",
       "      <td>5</td>\n",
       "      <td>3</td>\n",
       "      <td>16665.83</td>\n",
       "      <td>43331.17</td>\n",
       "      <td>0</td>\n",
       "      <td>14</td>\n",
       "      <td>3</td>\n",
       "      <td>1</td>\n",
       "      <td>1</td>\n",
       "      <td>5</td>\n",
       "      <td>3</td>\n",
       "      <td>33</td>\n",
       "      <td>11</td>\n",
       "      <td>9</td>\n",
       "      <td>199990.00</td>\n",
       "    </tr>\n",
       "    <tr>\n",
       "      <th>2</th>\n",
       "      <td>no</td>\n",
       "      <td>travel rarely</td>\n",
       "      <td>research &amp; development</td>\n",
       "      <td>technical degree</td>\n",
       "      <td>M</td>\n",
       "      <td>manager</td>\n",
       "      <td>no</td>\n",
       "      <td>yes</td>\n",
       "      <td>42</td>\n",
       "      <td>4</td>\n",
       "      <td>2</td>\n",
       "      <td>3</td>\n",
       "      <td>1</td>\n",
       "      <td>3</td>\n",
       "      <td>5</td>\n",
       "      <td>4</td>\n",
       "      <td>16026.67</td>\n",
       "      <td>41669.33</td>\n",
       "      <td>1</td>\n",
       "      <td>11</td>\n",
       "      <td>3</td>\n",
       "      <td>4</td>\n",
       "      <td>0</td>\n",
       "      <td>3</td>\n",
       "      <td>3</td>\n",
       "      <td>22</td>\n",
       "      <td>11</td>\n",
       "      <td>15</td>\n",
       "      <td>192320.00</td>\n",
       "    </tr>\n",
       "    <tr>\n",
       "      <th>3</th>\n",
       "      <td>no</td>\n",
       "      <td>travel rarely</td>\n",
       "      <td>unknown</td>\n",
       "      <td>medical</td>\n",
       "      <td>F</td>\n",
       "      <td>research director</td>\n",
       "      <td>NaN</td>\n",
       "      <td>no</td>\n",
       "      <td>47</td>\n",
       "      <td>2</td>\n",
       "      <td>4</td>\n",
       "      <td>4</td>\n",
       "      <td>1</td>\n",
       "      <td>3</td>\n",
       "      <td>4</td>\n",
       "      <td>3</td>\n",
       "      <td>14307.50</td>\n",
       "      <td>37199.50</td>\n",
       "      <td>3</td>\n",
       "      <td>19</td>\n",
       "      <td>3</td>\n",
       "      <td>2</td>\n",
       "      <td>2</td>\n",
       "      <td>2</td>\n",
       "      <td>3</td>\n",
       "      <td>20</td>\n",
       "      <td>5</td>\n",
       "      <td>6</td>\n",
       "      <td>171690.00</td>\n",
       "    </tr>\n",
       "    <tr>\n",
       "      <th>5</th>\n",
       "      <td>no</td>\n",
       "      <td>non travel</td>\n",
       "      <td>research &amp; development</td>\n",
       "      <td>medical</td>\n",
       "      <td>F</td>\n",
       "      <td>manager</td>\n",
       "      <td>no</td>\n",
       "      <td>yes</td>\n",
       "      <td>48</td>\n",
       "      <td>22</td>\n",
       "      <td>3</td>\n",
       "      <td>6</td>\n",
       "      <td>1</td>\n",
       "      <td>3</td>\n",
       "      <td>4</td>\n",
       "      <td>4</td>\n",
       "      <td>14311.67</td>\n",
       "      <td>37210.33</td>\n",
       "      <td>3</td>\n",
       "      <td>11</td>\n",
       "      <td>3</td>\n",
       "      <td>2</td>\n",
       "      <td>1</td>\n",
       "      <td>3</td>\n",
       "      <td>3</td>\n",
       "      <td>22</td>\n",
       "      <td>4</td>\n",
       "      <td>7</td>\n",
       "      <td>171740.04</td>\n",
       "    </tr>\n",
       "  </tbody>\n",
       "</table>\n",
       "</div>"
      ],
      "text/plain": [
       "  attrition businesstravel                department    educationfield gender  \\\n",
       "0        no     non travel                   unknown           unknown      M   \n",
       "1        no     non travel                   unknown     life sciences      M   \n",
       "2        no  travel rarely   research & development   technical degree      M   \n",
       "3        no  travel rarely                   unknown           medical      F   \n",
       "5        no     non travel   research & development            medical      F   \n",
       "\n",
       "               jobrole overtime remotework  age  distancefromhome  education  \\\n",
       "0   research director        no        yes   51                 6          3   \n",
       "1             manager       NaN        yes   52                 1          4   \n",
       "2             manager        no        yes   42                 4          2   \n",
       "3   research director       NaN         no   47                 2          4   \n",
       "5             manager        no        yes   48                22          3   \n",
       "\n",
       "   employeenumber  environmentsatisfaction  jobinvolvement  joblevel  \\\n",
       "0               1                        1               3         5   \n",
       "1               2                        1               2         5   \n",
       "2               3                        1               3         5   \n",
       "3               4                        1               3         4   \n",
       "5               6                        1               3         4   \n",
       "\n",
       "   jobsatisfaction  monthlyincome  monthlyrate  numcompaniesworked  \\\n",
       "0                3       16280.83     42330.17                   7   \n",
       "1                3       16665.83     43331.17                   0   \n",
       "2                4       16026.67     41669.33                   1   \n",
       "3                3       14307.50     37199.50                   3   \n",
       "5                4       14311.67     37210.33                   3   \n",
       "\n",
       "   percentsalaryhike  performancerating  relationshipsatisfaction  \\\n",
       "0                 13                  3                         3   \n",
       "1                 14                  3                         1   \n",
       "2                 11                  3                         4   \n",
       "3                 19                  3                         2   \n",
       "5                 11                  3                         2   \n",
       "\n",
       "   stockoptionlevel  trainingtimeslastyear  worklifebalance  yearsatcompany  \\\n",
       "0                 0                      5                3              20   \n",
       "1                 1                      5                3              33   \n",
       "2                 0                      3                3              22   \n",
       "3                 2                      2                3              20   \n",
       "5                 1                      3                3              22   \n",
       "\n",
       "   yearssincelastpromotion  yearswithcurrmanager     salary  \n",
       "0                       15                    15  195370.00  \n",
       "1                       11                     9  199990.00  \n",
       "2                       11                    15  192320.00  \n",
       "3                        5                     6  171690.00  \n",
       "5                        4                     7  171740.04  "
      ]
     },
     "execution_count": 16,
     "metadata": {},
     "output_type": "execute_result"
    }
   ],
   "source": [
    "grupo_a.head()"
   ]
  },
  {
   "cell_type": "markdown",
   "metadata": {},
   "source": [
    "### Funciones: "
   ]
  },
  {
   "cell_type": "code",
   "execution_count": null,
   "metadata": {},
   "outputs": [],
   "source": [
    "## vemos si los datos son normales\n",
    "def normalidad(dataframe, columna):\n",
    "    \"\"\"\n",
    "    Evalúa la normalidad de una columna de datos de un DataFrame utilizando la prueba de Shapiro-Wilk.\n",
    "\n",
    "    Parámetros:\n",
    "        dataframe (DataFrame): El DataFrame que contiene los datos.\n",
    "        columna (str): El nombre de la columna en el DataFrame que se va a evaluar para la normalidad.\n",
    "\n",
    "    Returns:\n",
    "        None: Imprime un mensaje indicando si los datos siguen o no una distribución normal.\n",
    "    \"\"\"\n",
    "\n",
    "    statistic, p_value = stats.shapiro(dataframe[columna])\n",
    "    if p_value > 0.05:\n",
    "        print(f\"Para la columna {columna} los datos siguen una distribución normal.\")\n",
    "    else:\n",
    "        print(f\"Para la columna {columna} los datos no siguen una distribución normal.\")\n",
    "\n",
    "\n",
    "\n",
    "def test_man_whitney(dataframe, columnas_metricas, grupo_control, grupo_test, columna_grupos = \"campaign_name\"):\n",
    "\n",
    "    \"\"\"\n",
    "    Realiza la prueba de Mann-Whitney U para comparar las medianas de las métricas entre dos grupos en un DataFrame dado.\n",
    "\n",
    "    Parámetros:\n",
    "    - dataframe (DataFrame): El DataFrame que contiene los datos.\n",
    "    - columnas_metricas (list): Una lista de nombres de columnas que representan las métricas a comparar entre los grupos.\n",
    "    - grupo_control (str): El nombre del grupo de control en la columna especificada por columna_grupos.\n",
    "    - grupo_test (str): El nombre del grupo de test en la columna especificada por columna_grupos.\n",
    "    - columna_grupos (str): El nombre de la columna que contiene la información de los grupos. Por defecto, \"campaign_name\".\n",
    "\n",
    "    Returns \n",
    "    No devuelve nada directamente, pero imprime en la consola si las medianas son diferentes o iguales para cada métrica.\n",
    "    Se utiliza la prueba de Mann-Whitney U para evaluar si hay diferencias significativas entre los grupos.\n",
    "    \"\"\"\n",
    "    # filtramos el DataFrame para quedarnos solo con los datos de control\n",
    "    control = dataframe[dataframe[columna_grupos] == grupo_control]\n",
    "    \n",
    "    # filtramos el DataFrame para quedarnos solo con los datos de control\n",
    "    test = dataframe[dataframe[columna_grupos] == grupo_test]\n",
    "    \n",
    "    \n",
    "    # iteramos por las columnas de las metricas para ver si para cada una de ellas hay diferencias entre los grupos\n",
    "    for metrica in columnas_metricas:\n",
    "        \n",
    "        # filtrams el conjunto de datos para quedarnos solo con la columna de la metrica que nos interesa\n",
    "        metrica_control = control[metrica]\n",
    "        metrica_test = test[metrica]\n",
    "        \n",
    "        # aplicamos el estadístico\n",
    "        u_statistic, p_value = stats.mannwhitneyu(metrica_control, metrica_test)\n",
    "        \n",
    "        if p_value < 0.05:\n",
    "            print(f\"Para la métrica {metrica}, las medianas son diferentes.\")\n",
    "        else:\n",
    "            print(f\"Para la métrica {metrica}, las medianas son iguales.\")            \n",
    "    \n",
    "\n",
    "\n",
    "\n",
    "\n"
   ]
  },
  {
   "cell_type": "code",
   "execution_count": 41,
   "metadata": {},
   "outputs": [],
   "source": [
    "# otra para salary vs satisfaction (whitney)\n",
    "\n",
    "def test_man_whitney_job_satisfaction(df, metrica, grupo_a, grupo_b):\n",
    "        \"\"\"Realiza la prueba de Mann-Whitney para comparar una métrica entre dos grupos.\n",
    "    \"\"\"\n",
    "        u_statistic, p_value = stats.mannwhitneyu(grupo_a[metrica], grupo_b[metrica])\n",
    "\n",
    "        if p_value < 0.05:\n",
    "            print(f\"Para la métrica '{metrica}', las medianas son significativamente diferentes. P-valor: {p_value}\")\n",
    "        else:\n",
    "            print(f\"Para la métrica '{metrica}', las medianas no son significativamente diferentes. P-valor: {p_value}\")"
   ]
  },
  {
   "cell_type": "markdown",
   "metadata": {},
   "source": [
    "### Salario vs Satisfacción"
   ]
  },
  {
   "cell_type": "code",
   "execution_count": 32,
   "metadata": {},
   "outputs": [
    {
     "data": {
      "text/plain": [
       "jobsatisfaction\n",
       "3    64761.926840\n",
       "4    66225.699222\n",
       "Name: salary, dtype: float64"
      ]
     },
     "execution_count": 32,
     "metadata": {},
     "output_type": "execute_result"
    }
   ],
   "source": [
    "grupo_a.groupby('jobsatisfaction')['salary'].mean()"
   ]
  },
  {
   "cell_type": "code",
   "execution_count": 25,
   "metadata": {},
   "outputs": [
    {
     "data": {
      "text/plain": [
       "jobsatisfaction\n",
       "1    66263.992303\n",
       "2    65111.057980\n",
       "Name: salary, dtype: float64"
      ]
     },
     "execution_count": 25,
     "metadata": {},
     "output_type": "execute_result"
    }
   ],
   "source": [
    "grupo_b.groupby('jobsatisfaction')['salary'].mean()"
   ]
  },
  {
   "cell_type": "code",
   "execution_count": 34,
   "metadata": {},
   "outputs": [
    {
     "name": "stdout",
     "output_type": "stream",
     "text": [
      "Para la columna salary los datos no siguen una distribución normal.\n"
     ]
    }
   ],
   "source": [
    "normalidad(grupo_a,'salary')"
   ]
  },
  {
   "cell_type": "code",
   "execution_count": 35,
   "metadata": {},
   "outputs": [
    {
     "name": "stdout",
     "output_type": "stream",
     "text": [
      "Para la columna salary los datos no siguen una distribución normal.\n"
     ]
    }
   ],
   "source": [
    "normalidad(grupo_b,'salary')"
   ]
  },
  {
   "cell_type": "code",
   "execution_count": 42,
   "metadata": {},
   "outputs": [
    {
     "name": "stdout",
     "output_type": "stream",
     "text": [
      "Para la métrica 'salary', las medianas no son significativamente diferentes. P-valor: 0.7552997798403821\n"
     ]
    }
   ],
   "source": [
    "test_man_whitney_job_satisfaction(df, \"salary\", grupo_a, grupo_b)\n"
   ]
  },
  {
   "cell_type": "code",
   "execution_count": 43,
   "metadata": {},
   "outputs": [
    {
     "data": {
      "text/plain": [
       "False"
      ]
     },
     "execution_count": 43,
     "metadata": {},
     "output_type": "execute_result"
    }
   ],
   "source": [
    "p_value < 0.05"
   ]
  },
  {
   "cell_type": "code",
   "execution_count": 73,
   "metadata": {},
   "outputs": [
    {
     "data": {
      "image/png": "[encoded data removed]",
      "text/plain": [
       "<Figure size 2000x500 with 2 Axes>"
      ]
     },
     "metadata": {},
     "output_type": "display_data"
    }
   ],
   "source": [
    "## Graficos Salary: \n",
    "\n",
    "fig, axes = plt.subplots(nrows = 1, ncols = 2, figsize = (20, 5))\n",
    "\n",
    "sns.histplot(x = \"salary\", data = grupo_a, color = \"violet\", ax = axes[0]); #subplot para meter grupo a\n",
    "\n",
    "sns.histplot(x = \"salary\", data = grupo_b, color = \"blue\", ax = axes[1]); #subplot para meter grupo b"
   ]
  },
  {
   "cell_type": "code",
   "execution_count": null,
   "metadata": {},
   "outputs": [
    {
     "name": "stderr",
     "output_type": "stream",
     "text": [
      "/tmp/ipykernel_20514/2648855312.py:1: FutureWarning: \n",
      "\n",
      "The `ci` parameter is deprecated. Use `errorbar=None` for the same effect.\n",
      "\n",
      "  sns.barplot(x = \"jobsatisfaction\", y=\"salary\", data=df, ci=None);\n"
     ]
    },
    {
     "data": {
      "image/png": "[encoded data removed]",
      "text/plain": [
       "<Figure size 640x480 with 1 Axes>"
      ]
     },
     "metadata": {},
     "output_type": "display_data"
    }
   ],
   "source": [
    "sns.barplot(x = \"jobsatisfaction\", y=\"salary\", data=df, ci=None); ## Comparamos el jobsatisfaction vs salario (de todos los empleados)"
   ]
  },
  {
   "cell_type": "code",
   "execution_count": null,
   "metadata": {},
   "outputs": [],
   "source": [
    "### P VALUE: si p_value < 0.05 -> existe una diferencia significativa si p_value > 0.05 -> no hay diferencia significativa"
   ]
  },
  {
   "cell_type": "code",
   "execution_count": null,
   "metadata": {},
   "outputs": [],
   "source": [
    "### Conclusión Salario vs Satisfacción: el P value es mayor a 0.05 entonces no existe una diferencia significativa. "
   ]
  },
  {
   "cell_type": "code",
   "execution_count": null,
   "metadata": {},
   "outputs": [],
   "source": [
    "### Job level y salario \n",
    "\n",
    "df.groupby('joblevel')['salary'].mean()\n",
    "sns.barplot(x = \"joblevel\", y=\"salary\", data=df, ci=None); ##"
   ]
  },
  {
   "cell_type": "code",
   "execution_count": 31,
   "metadata": {},
   "outputs": [
    {
     "data": {
      "text/html": [
       "<div>\n",
       "<style scoped>\n",
       "    .dataframe tbody tr th:only-of-type {\n",
       "        vertical-align: middle;\n",
       "    }\n",
       "\n",
       "    .dataframe tbody tr th {\n",
       "        vertical-align: top;\n",
       "    }\n",
       "\n",
       "    .dataframe thead th {\n",
       "        text-align: right;\n",
       "    }\n",
       "</style>\n",
       "<table border=\"1\" class=\"dataframe\">\n",
       "  <thead>\n",
       "    <tr style=\"text-align: right;\">\n",
       "      <th>gender</th>\n",
       "      <th>F</th>\n",
       "      <th>M</th>\n",
       "    </tr>\n",
       "    <tr>\n",
       "      <th>jobsatisfaction</th>\n",
       "      <th></th>\n",
       "      <th></th>\n",
       "    </tr>\n",
       "  </thead>\n",
       "  <tbody>\n",
       "    <tr>\n",
       "      <th>3</th>\n",
       "      <td>198</td>\n",
       "      <td>283</td>\n",
       "    </tr>\n",
       "    <tr>\n",
       "      <th>4</th>\n",
       "      <td>185</td>\n",
       "      <td>329</td>\n",
       "    </tr>\n",
       "  </tbody>\n",
       "</table>\n",
       "</div>"
      ],
      "text/plain": [
       "gender             F    M\n",
       "jobsatisfaction          \n",
       "3                198  283\n",
       "4                185  329"
      ]
     },
     "execution_count": 31,
     "metadata": {},
     "output_type": "execute_result"
    }
   ],
   "source": [
    "#GENERO VS SATISFACCION \n",
    "\n",
    "pd.crosstab(grupo_a['jobsatisfaction'], grupo_a['gender'])"
   ]
  },
  {
   "cell_type": "code",
   "execution_count": 30,
   "metadata": {},
   "outputs": [
    {
     "data": {
      "text/html": [
       "<div>\n",
       "<style scoped>\n",
       "    .dataframe tbody tr th:only-of-type {\n",
       "        vertical-align: middle;\n",
       "    }\n",
       "\n",
       "    .dataframe tbody tr th {\n",
       "        vertical-align: top;\n",
       "    }\n",
       "\n",
       "    .dataframe thead th {\n",
       "        text-align: right;\n",
       "    }\n",
       "</style>\n",
       "<table border=\"1\" class=\"dataframe\">\n",
       "  <thead>\n",
       "    <tr style=\"text-align: right;\">\n",
       "      <th>gender</th>\n",
       "      <th>F</th>\n",
       "      <th>M</th>\n",
       "    </tr>\n",
       "    <tr>\n",
       "      <th>jobsatisfaction</th>\n",
       "      <th></th>\n",
       "      <th></th>\n",
       "    </tr>\n",
       "  </thead>\n",
       "  <tbody>\n",
       "    <tr>\n",
       "      <th>1</th>\n",
       "      <td>130</td>\n",
       "      <td>187</td>\n",
       "    </tr>\n",
       "    <tr>\n",
       "      <th>2</th>\n",
       "      <td>130</td>\n",
       "      <td>172</td>\n",
       "    </tr>\n",
       "  </tbody>\n",
       "</table>\n",
       "</div>"
      ],
      "text/plain": [
       "gender             F    M\n",
       "jobsatisfaction          \n",
       "1                130  187\n",
       "2                130  172"
      ]
     },
     "execution_count": 30,
     "metadata": {},
     "output_type": "execute_result"
    }
   ],
   "source": [
    "#GENERO VS SATISFACCION \n",
    "\n",
    "pd.crosstab(grupo_b['jobsatisfaction'], grupo_b['gender'])"
   ]
  },
  {
   "cell_type": "markdown",
   "metadata": {},
   "source": [
    "## Exploración general: "
   ]
  },
  {
   "cell_type": "code",
   "execution_count": null,
   "metadata": {},
   "outputs": [
    {
     "name": "stderr",
     "output_type": "stream",
     "text": [
      "/tmp/ipykernel_25855/2605322453.py:1: FutureWarning: \n",
      "\n",
      "Passing `palette` without assigning `hue` is deprecated and will be removed in v0.14.0. Assign the `x` variable to `hue` and set `legend=False` for the same effect.\n",
      "\n",
      "  sns.barplot(x=\"grupo\", y=\"valores\", data=abandono_grupo_a, palette=\"mako\");\n"
     ]
    },
    {
     "data": {
      "image/png": "[encoded data removed]",
      "text/plain": [
       "<Figure size 640x480 with 1 Axes>"
      ]
     },
     "metadata": {},
     "output_type": "display_data"
    }
   ],
   "source": [
    "sns.barplot(x=\"grupo\", y=\"valores\", data=abandono_grupo_a, palette=\"mako\");"
   ]
  },
  {
   "cell_type": "code",
   "execution_count": null,
   "metadata": {},
   "outputs": [],
   "source": [
    "## Chequeamos tasa de abandono en relación al género (empleados satisfechos)"
   ]
  },
  {
   "cell_type": "code",
   "execution_count": null,
   "metadata": {},
   "outputs": [
    {
     "data": {
      "text/plain": [
       "<Axes: xlabel='gender', ylabel='Count'>"
      ]
     },
     "execution_count": 33,
     "metadata": {},
     "output_type": "execute_result"
    },
    {
     "data": {
      "image/png": "[encoded data removed]",
      "text/plain": [
       "<Figure size 640x480 with 1 Axes>"
      ]
     },
     "metadata": {},
     "output_type": "display_data"
    }
   ],
   "source": [
    "sns.histplot(data = grupo_a, x = \"gender\", hue = \"attrition\", kde = True, color= \"blue\")\n",
    "# plt.title(\"Género según rotación\")\n",
    "# plt.xlabel(\"Género\")\n",
    "# plt.ylabel(\"Frecuencia\")"
   ]
  },
  {
   "cell_type": "code",
   "execution_count": null,
   "metadata": {},
   "outputs": [
    {
     "data": {
      "text/html": [
       "<div>\n",
       "<style scoped>\n",
       "    .dataframe tbody tr th:only-of-type {\n",
       "        vertical-align: middle;\n",
       "    }\n",
       "\n",
       "    .dataframe tbody tr th {\n",
       "        vertical-align: top;\n",
       "    }\n",
       "\n",
       "    .dataframe thead th {\n",
       "        text-align: right;\n",
       "    }\n",
       "</style>\n",
       "<table border=\"1\" class=\"dataframe\">\n",
       "  <thead>\n",
       "    <tr style=\"text-align: right;\">\n",
       "      <th>gender</th>\n",
       "      <th>F</th>\n",
       "      <th>M</th>\n",
       "    </tr>\n",
       "    <tr>\n",
       "      <th>attrition</th>\n",
       "      <th></th>\n",
       "      <th></th>\n",
       "    </tr>\n",
       "  </thead>\n",
       "  <tbody>\n",
       "    <tr>\n",
       "      <th>no</th>\n",
       "      <td>87.989556</td>\n",
       "      <td>85.294118</td>\n",
       "    </tr>\n",
       "    <tr>\n",
       "      <th>yes</th>\n",
       "      <td>12.010444</td>\n",
       "      <td>14.705882</td>\n",
       "    </tr>\n",
       "  </tbody>\n",
       "</table>\n",
       "</div>"
      ],
      "text/plain": [
       "gender             F          M\n",
       "attrition                      \n",
       "no         87.989556  85.294118\n",
       "yes        12.010444  14.705882"
      ]
     },
     "execution_count": 34,
     "metadata": {},
     "output_type": "execute_result"
    }
   ],
   "source": [
    "pd.crosstab(grupo_a[\"attrition\"], grupo_a[\"gender\"], normalize=\"columns\")*100 ## porcentaje de abandono por género"
   ]
  },
  {
   "cell_type": "code",
   "execution_count": null,
   "metadata": {},
   "outputs": [],
   "source": [
    "## Función para ver si los datos son normales: \n",
    "\n",
    "def normalidad(dataframe, columna):\n",
    "    \"\"\"\n",
    "    Evalúa la normalidad de una columna de datos de un DataFrame utilizando la prueba de Shapiro-Wilk.\n",
    "    Parámetros:\n",
    "        dataframe (DataFrame): El DataFrame que contiene los datos.\n",
    "        columna (str): El nombre de la columna en el DataFrame que se va a evaluar para la normalidad.\n",
    "    Returns:\n",
    "        None: Imprime un mensaje indicando si los datos siguen o no una distribución normal.\n",
    "    \"\"\"\n",
    "    statistic, p_value = stats.shapiro(dataframe[columna])\n",
    "    if p_value > 0.05:\n",
    "        print(f\"Para la columna {columna} los datos siguen una distribución normal.\")\n",
    "    else:\n",
    "        print(f\"Para la columna {columna} los datos no siguen una distribución normal.\")"
   ]
  },
  {
   "cell_type": "code",
   "execution_count": null,
   "metadata": {},
   "outputs": [
    {
     "name": "stdout",
     "output_type": "stream",
     "text": [
      "Para la columna age los datos no siguen una distribución normal.\n"
     ]
    }
   ],
   "source": [
    "normalidad(grupo_a, 'age')"
   ]
  },
  {
   "cell_type": "code",
   "execution_count": null,
   "metadata": {},
   "outputs": [
    {
     "data": {
      "text/plain": [
       "<Axes: xlabel='salary', ylabel='attrition'>"
      ]
     },
     "execution_count": 43,
     "metadata": {},
     "output_type": "execute_result"
    },
    {
     "data": {
      "image/png": "[encoded data removed]",
      "text/plain": [
       "<Figure size 640x480 with 1 Axes>"
      ]
     },
     "metadata": {},
     "output_type": "display_data"
    }
   ],
   "source": [
    "sns.barplot(data = df, x = \"salary\", y=\"attrition\", color= \"red\")"
   ]
  },
  {
   "cell_type": "code",
   "execution_count": null,
   "metadata": {},
   "outputs": [
    {
     "name": "stdout",
     "output_type": "stream",
     "text": [
      "Para la columna salary los datos no siguen una distribución normal.\n"
     ]
    }
   ],
   "source": [
    "normalidad(df,\"salary\")"
   ]
  },
  {
   "cell_type": "code",
   "execution_count": null,
   "metadata": {},
   "outputs": [],
   "source": [
    "mannwhitneyu()"
   ]
  },
  {
   "cell_type": "code",
   "execution_count": null,
   "metadata": {},
   "outputs": [],
   "source": []
  },
  {
   "cell_type": "code",
   "execution_count": null,
   "metadata": {},
   "outputs": [],
   "source": []
  },
  {
   "cell_type": "code",
   "execution_count": null,
   "metadata": {},
   "outputs": [],
   "source": []
  },
  {
   "cell_type": "code",
   "execution_count": null,
   "metadata": {},
   "outputs": [],
   "source": []
  },
  {
   "cell_type": "code",
   "execution_count": null,
   "metadata": {},
   "outputs": [],
   "source": []
  },
  {
   "cell_type": "code",
   "execution_count": null,
   "metadata": {},
   "outputs": [],
   "source": []
  },
  {
   "cell_type": "code",
   "execution_count": null,
   "metadata": {},
   "outputs": [],
   "source": []
  },
  {
   "cell_type": "code",
   "execution_count": null,
   "metadata": {},
   "outputs": [],
   "source": []
  },
  {
   "cell_type": "code",
   "execution_count": null,
   "metadata": {},
   "outputs": [],
   "source": []
  },
  {
   "cell_type": "code",
   "execution_count": null,
   "metadata": {},
   "outputs": [],
   "source": []
  },
  {
   "cell_type": "code",
   "execution_count": null,
   "metadata": {},
   "outputs": [],
   "source": []
  },
  {
   "cell_type": "code",
   "execution_count": null,
   "metadata": {},
   "outputs": [],
   "source": []
  },
  {
   "cell_type": "code",
   "execution_count": null,
   "metadata": {},
   "outputs": [],
   "source": []
  },
  {
   "cell_type": "code",
   "execution_count": null,
   "metadata": {},
   "outputs": [],
   "source": []
  }
 ],
 "metadata": {
  "kernelspec": {
   "display_name": "base",
   "language": "python",
   "name": "python3"
  },
  "language_info": {
   "codemirror_mode": {
    "name": "ipython",
    "version": 3
   },
   "file_extension": ".py",
   "mimetype": "text/x-python",
   "name": "python",
   "nbconvert_exporter": "python",
   "pygments_lexer": "ipython3",
   "version": "3.12.4"
  }
 },
 "nbformat": 4,
 "nbformat_minor": 2
}
